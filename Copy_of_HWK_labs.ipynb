{
  "cells": [
    {
      "cell_type": "markdown",
      "metadata": {
        "id": "view-in-github",
        "colab_type": "text"
      },
      "source": [
        "<a href=\"https://colab.research.google.com/github/nudojacopo/thesis/blob/main/Copy_of_HWK_labs.ipynb\" target=\"_parent\"><img src=\"https://colab.research.google.com/assets/colab-badge.svg\" alt=\"Open In Colab\"/></a>"
      ]
    },
    {
      "cell_type": "markdown",
      "metadata": {
        "id": "hb5traIJtpJn"
      },
      "source": [
        "Notes for Jacopo:"
      ]
    },
    {
      "cell_type": "markdown",
      "metadata": {
        "id": "1RXSw25AtpJt"
      },
      "source": [
        "\n",
        " <br>\n"
      ]
    },
    {
      "cell_type": "markdown",
      "metadata": {
        "id": "p9lCuzmYtpJt"
      },
      "source": [
        "Define the module path + import packages"
      ]
    },
    {
      "cell_type": "code",
      "execution_count": null,
      "metadata": {
        "colab": {
          "base_uri": "https://localhost:8080/"
        },
        "id": "uJBUxmTXvLwZ",
        "outputId": "edcc1b97-1f1a-42a2-dd53-2a356664bff2"
      },
      "outputs": [
        {
          "name": "stdout",
          "output_type": "stream",
          "text": [
            "Choose a kernel to use...are you running in local? Y/Nn\n"
          ]
        }
      ],
      "source": [
        "kernel=input('Choose a kernel to use...are you running in local? Y/N')"
      ]
    },
    {
      "cell_type": "code",
      "execution_count": null,
      "metadata": {
        "colab": {
          "base_uri": "https://localhost:8080/"
        },
        "id": "Y0HNlr43uyvd",
        "outputId": "c42a87c1-5bb8-4e5c-b21a-25cbc763b1ef"
      },
      "outputs": [
        {
          "output_type": "stream",
          "name": "stdout",
          "text": [
            "fatal: destination path 'thesis' already exists and is not an empty directory.\n",
            "Drive already mounted at /content/drive; to attempt to forcibly remount, call drive.mount(\"/content/drive\", force_remount=True).\n"
          ]
        }
      ],
      "source": [
        "if kernel!='Y':\n",
        "  !git clone https://github.com/nudojacopo/thesis.git\n",
        "  from google.colab import drive\n",
        "  drive.mount('/content/drive')\n",
        "  source_data='/content/drive/MyDrive/thesis/data/voat/voat_labeled_data_unified.parquet'\n",
        "  root='/content/'\n",
        "else:\n",
        "  source_data='/Users/jacoponudo/Documents/thesis/data/voat/voat_labeled_data_unified.parquet'\n",
        "  root='/Users/jacoponudo/Documents/'\n",
        "output=root+'src/HWK/output'\n",
        "output_threads=root+'src/HWK/output/temporary'\n",
        "import sys\n",
        "module_path = root+'thesis/src/HWK'\n",
        "sys.path.append(module_path)\n",
        "import os\n",
        "import numpy as np\n",
        "import pandas as pd\n",
        "from tqdm import tqdm\n",
        "from HWK_package.functions import *\n",
        "from scipy import stats\n",
        "import random\n",
        "from scipy.stats import chi2\n",
        "import statsmodels.api as sm\n",
        "import matplotlib.pyplot as plt\n",
        "from statsmodels.graphics.gofplots import qqplot"
      ]
    },
    {
      "cell_type": "markdown",
      "metadata": {
        "id": "SiYBa7I8VTKM"
      },
      "source": [
        "# Fitting the model to data"
      ]
    },
    {
      "cell_type": "markdown",
      "metadata": {
        "id": "DCNFK8L6tpJy"
      },
      "source": [
        "Set source"
      ]
    },
    {
      "cell_type": "code",
      "execution_count": null,
      "metadata": {
        "colab": {
          "base_uri": "https://localhost:8080/",
          "height": 439
        },
        "id": "U8Wge280tpJz",
        "outputId": "4d184894-7602-4717-b568-fd2cd0aa2767"
      },
      "outputs": [
        {
          "output_type": "execute_result",
          "data": {
            "text/plain": [
              "        root_submission                  user  is_toxic\n",
              "25640           1073880             smokratez        11\n",
              "28075           1080682            diesel4420        14\n",
              "29955           1085786            EarlPoncho        18\n",
              "32689           1093318               Crensch        11\n",
              "34120           1097033               Crensch        23\n",
              "...                 ...                   ...       ...\n",
              "2494625          767799            twentyfive        12\n",
              "2531879          867711   escapefromredditbay        14\n",
              "2554660          923752            twentyfive        11\n",
              "2558049          933237                Dead-_        12\n",
              "2572182          971026  RedditIsPropaganda23        11\n",
              "\n",
              "[343 rows x 3 columns]"
            ],
            "text/html": [
              "\n",
              "  <div id=\"df-03a17cbd-c3aa-40d0-b4ea-04523febdd91\" class=\"colab-df-container\">\n",
              "    <div>\n",
              "<style scoped>\n",
              "    .dataframe tbody tr th:only-of-type {\n",
              "        vertical-align: middle;\n",
              "    }\n",
              "\n",
              "    .dataframe tbody tr th {\n",
              "        vertical-align: top;\n",
              "    }\n",
              "\n",
              "    .dataframe thead th {\n",
              "        text-align: right;\n",
              "    }\n",
              "</style>\n",
              "<table border=\"1\" class=\"dataframe\">\n",
              "  <thead>\n",
              "    <tr style=\"text-align: right;\">\n",
              "      <th></th>\n",
              "      <th>root_submission</th>\n",
              "      <th>user</th>\n",
              "      <th>is_toxic</th>\n",
              "    </tr>\n",
              "  </thead>\n",
              "  <tbody>\n",
              "    <tr>\n",
              "      <th>25640</th>\n",
              "      <td>1073880</td>\n",
              "      <td>smokratez</td>\n",
              "      <td>11</td>\n",
              "    </tr>\n",
              "    <tr>\n",
              "      <th>28075</th>\n",
              "      <td>1080682</td>\n",
              "      <td>diesel4420</td>\n",
              "      <td>14</td>\n",
              "    </tr>\n",
              "    <tr>\n",
              "      <th>29955</th>\n",
              "      <td>1085786</td>\n",
              "      <td>EarlPoncho</td>\n",
              "      <td>18</td>\n",
              "    </tr>\n",
              "    <tr>\n",
              "      <th>32689</th>\n",
              "      <td>1093318</td>\n",
              "      <td>Crensch</td>\n",
              "      <td>11</td>\n",
              "    </tr>\n",
              "    <tr>\n",
              "      <th>34120</th>\n",
              "      <td>1097033</td>\n",
              "      <td>Crensch</td>\n",
              "      <td>23</td>\n",
              "    </tr>\n",
              "    <tr>\n",
              "      <th>...</th>\n",
              "      <td>...</td>\n",
              "      <td>...</td>\n",
              "      <td>...</td>\n",
              "    </tr>\n",
              "    <tr>\n",
              "      <th>2494625</th>\n",
              "      <td>767799</td>\n",
              "      <td>twentyfive</td>\n",
              "      <td>12</td>\n",
              "    </tr>\n",
              "    <tr>\n",
              "      <th>2531879</th>\n",
              "      <td>867711</td>\n",
              "      <td>escapefromredditbay</td>\n",
              "      <td>14</td>\n",
              "    </tr>\n",
              "    <tr>\n",
              "      <th>2554660</th>\n",
              "      <td>923752</td>\n",
              "      <td>twentyfive</td>\n",
              "      <td>11</td>\n",
              "    </tr>\n",
              "    <tr>\n",
              "      <th>2558049</th>\n",
              "      <td>933237</td>\n",
              "      <td>Dead-_</td>\n",
              "      <td>12</td>\n",
              "    </tr>\n",
              "    <tr>\n",
              "      <th>2572182</th>\n",
              "      <td>971026</td>\n",
              "      <td>RedditIsPropaganda23</td>\n",
              "      <td>11</td>\n",
              "    </tr>\n",
              "  </tbody>\n",
              "</table>\n",
              "<p>343 rows × 3 columns</p>\n",
              "</div>\n",
              "    <div class=\"colab-df-buttons\">\n",
              "\n",
              "  <div class=\"colab-df-container\">\n",
              "    <button class=\"colab-df-convert\" onclick=\"convertToInteractive('df-03a17cbd-c3aa-40d0-b4ea-04523febdd91')\"\n",
              "            title=\"Convert this dataframe to an interactive table.\"\n",
              "            style=\"display:none;\">\n",
              "\n",
              "  <svg xmlns=\"http://www.w3.org/2000/svg\" height=\"24px\" viewBox=\"0 -960 960 960\">\n",
              "    <path d=\"M120-120v-720h720v720H120Zm60-500h600v-160H180v160Zm220 220h160v-160H400v160Zm0 220h160v-160H400v160ZM180-400h160v-160H180v160Zm440 0h160v-160H620v160ZM180-180h160v-160H180v160Zm440 0h160v-160H620v160Z\"/>\n",
              "  </svg>\n",
              "    </button>\n",
              "\n",
              "  <style>\n",
              "    .colab-df-container {\n",
              "      display:flex;\n",
              "      gap: 12px;\n",
              "    }\n",
              "\n",
              "    .colab-df-convert {\n",
              "      background-color: #E8F0FE;\n",
              "      border: none;\n",
              "      border-radius: 50%;\n",
              "      cursor: pointer;\n",
              "      display: none;\n",
              "      fill: #1967D2;\n",
              "      height: 32px;\n",
              "      padding: 0 0 0 0;\n",
              "      width: 32px;\n",
              "    }\n",
              "\n",
              "    .colab-df-convert:hover {\n",
              "      background-color: #E2EBFA;\n",
              "      box-shadow: 0px 1px 2px rgba(60, 64, 67, 0.3), 0px 1px 3px 1px rgba(60, 64, 67, 0.15);\n",
              "      fill: #174EA6;\n",
              "    }\n",
              "\n",
              "    .colab-df-buttons div {\n",
              "      margin-bottom: 4px;\n",
              "    }\n",
              "\n",
              "    [theme=dark] .colab-df-convert {\n",
              "      background-color: #3B4455;\n",
              "      fill: #D2E3FC;\n",
              "    }\n",
              "\n",
              "    [theme=dark] .colab-df-convert:hover {\n",
              "      background-color: #434B5C;\n",
              "      box-shadow: 0px 1px 3px 1px rgba(0, 0, 0, 0.15);\n",
              "      filter: drop-shadow(0px 1px 2px rgba(0, 0, 0, 0.3));\n",
              "      fill: #FFFFFF;\n",
              "    }\n",
              "  </style>\n",
              "\n",
              "    <script>\n",
              "      const buttonEl =\n",
              "        document.querySelector('#df-03a17cbd-c3aa-40d0-b4ea-04523febdd91 button.colab-df-convert');\n",
              "      buttonEl.style.display =\n",
              "        google.colab.kernel.accessAllowed ? 'block' : 'none';\n",
              "\n",
              "      async function convertToInteractive(key) {\n",
              "        const element = document.querySelector('#df-03a17cbd-c3aa-40d0-b4ea-04523febdd91');\n",
              "        const dataTable =\n",
              "          await google.colab.kernel.invokeFunction('convertToInteractive',\n",
              "                                                    [key], {});\n",
              "        if (!dataTable) return;\n",
              "\n",
              "        const docLinkHtml = 'Like what you see? Visit the ' +\n",
              "          '<a target=\"_blank\" href=https://colab.research.google.com/notebooks/data_table.ipynb>data table notebook</a>'\n",
              "          + ' to learn more about interactive tables.';\n",
              "        element.innerHTML = '';\n",
              "        dataTable['output_type'] = 'display_data';\n",
              "        await google.colab.output.renderOutput(dataTable, element);\n",
              "        const docLink = document.createElement('div');\n",
              "        docLink.innerHTML = docLinkHtml;\n",
              "        element.appendChild(docLink);\n",
              "      }\n",
              "    </script>\n",
              "  </div>\n",
              "\n",
              "\n",
              "<div id=\"df-15e0067f-9c63-4b60-b62c-0243a7ba779b\">\n",
              "  <button class=\"colab-df-quickchart\" onclick=\"quickchart('df-15e0067f-9c63-4b60-b62c-0243a7ba779b')\"\n",
              "            title=\"Suggest charts\"\n",
              "            style=\"display:none;\">\n",
              "\n",
              "<svg xmlns=\"http://www.w3.org/2000/svg\" height=\"24px\"viewBox=\"0 0 24 24\"\n",
              "     width=\"24px\">\n",
              "    <g>\n",
              "        <path d=\"M19 3H5c-1.1 0-2 .9-2 2v14c0 1.1.9 2 2 2h14c1.1 0 2-.9 2-2V5c0-1.1-.9-2-2-2zM9 17H7v-7h2v7zm4 0h-2V7h2v10zm4 0h-2v-4h2v4z\"/>\n",
              "    </g>\n",
              "</svg>\n",
              "  </button>\n",
              "\n",
              "<style>\n",
              "  .colab-df-quickchart {\n",
              "      --bg-color: #E8F0FE;\n",
              "      --fill-color: #1967D2;\n",
              "      --hover-bg-color: #E2EBFA;\n",
              "      --hover-fill-color: #174EA6;\n",
              "      --disabled-fill-color: #AAA;\n",
              "      --disabled-bg-color: #DDD;\n",
              "  }\n",
              "\n",
              "  [theme=dark] .colab-df-quickchart {\n",
              "      --bg-color: #3B4455;\n",
              "      --fill-color: #D2E3FC;\n",
              "      --hover-bg-color: #434B5C;\n",
              "      --hover-fill-color: #FFFFFF;\n",
              "      --disabled-bg-color: #3B4455;\n",
              "      --disabled-fill-color: #666;\n",
              "  }\n",
              "\n",
              "  .colab-df-quickchart {\n",
              "    background-color: var(--bg-color);\n",
              "    border: none;\n",
              "    border-radius: 50%;\n",
              "    cursor: pointer;\n",
              "    display: none;\n",
              "    fill: var(--fill-color);\n",
              "    height: 32px;\n",
              "    padding: 0;\n",
              "    width: 32px;\n",
              "  }\n",
              "\n",
              "  .colab-df-quickchart:hover {\n",
              "    background-color: var(--hover-bg-color);\n",
              "    box-shadow: 0 1px 2px rgba(60, 64, 67, 0.3), 0 1px 3px 1px rgba(60, 64, 67, 0.15);\n",
              "    fill: var(--button-hover-fill-color);\n",
              "  }\n",
              "\n",
              "  .colab-df-quickchart-complete:disabled,\n",
              "  .colab-df-quickchart-complete:disabled:hover {\n",
              "    background-color: var(--disabled-bg-color);\n",
              "    fill: var(--disabled-fill-color);\n",
              "    box-shadow: none;\n",
              "  }\n",
              "\n",
              "  .colab-df-spinner {\n",
              "    border: 2px solid var(--fill-color);\n",
              "    border-color: transparent;\n",
              "    border-bottom-color: var(--fill-color);\n",
              "    animation:\n",
              "      spin 1s steps(1) infinite;\n",
              "  }\n",
              "\n",
              "  @keyframes spin {\n",
              "    0% {\n",
              "      border-color: transparent;\n",
              "      border-bottom-color: var(--fill-color);\n",
              "      border-left-color: var(--fill-color);\n",
              "    }\n",
              "    20% {\n",
              "      border-color: transparent;\n",
              "      border-left-color: var(--fill-color);\n",
              "      border-top-color: var(--fill-color);\n",
              "    }\n",
              "    30% {\n",
              "      border-color: transparent;\n",
              "      border-left-color: var(--fill-color);\n",
              "      border-top-color: var(--fill-color);\n",
              "      border-right-color: var(--fill-color);\n",
              "    }\n",
              "    40% {\n",
              "      border-color: transparent;\n",
              "      border-right-color: var(--fill-color);\n",
              "      border-top-color: var(--fill-color);\n",
              "    }\n",
              "    60% {\n",
              "      border-color: transparent;\n",
              "      border-right-color: var(--fill-color);\n",
              "    }\n",
              "    80% {\n",
              "      border-color: transparent;\n",
              "      border-right-color: var(--fill-color);\n",
              "      border-bottom-color: var(--fill-color);\n",
              "    }\n",
              "    90% {\n",
              "      border-color: transparent;\n",
              "      border-bottom-color: var(--fill-color);\n",
              "    }\n",
              "  }\n",
              "</style>\n",
              "\n",
              "  <script>\n",
              "    async function quickchart(key) {\n",
              "      const quickchartButtonEl =\n",
              "        document.querySelector('#' + key + ' button');\n",
              "      quickchartButtonEl.disabled = true;  // To prevent multiple clicks.\n",
              "      quickchartButtonEl.classList.add('colab-df-spinner');\n",
              "      try {\n",
              "        const charts = await google.colab.kernel.invokeFunction(\n",
              "            'suggestCharts', [key], {});\n",
              "      } catch (error) {\n",
              "        console.error('Error during call to suggestCharts:', error);\n",
              "      }\n",
              "      quickchartButtonEl.classList.remove('colab-df-spinner');\n",
              "      quickchartButtonEl.classList.add('colab-df-quickchart-complete');\n",
              "    }\n",
              "    (() => {\n",
              "      let quickchartButtonEl =\n",
              "        document.querySelector('#df-15e0067f-9c63-4b60-b62c-0243a7ba779b button');\n",
              "      quickchartButtonEl.style.display =\n",
              "        google.colab.kernel.accessAllowed ? 'block' : 'none';\n",
              "    })();\n",
              "  </script>\n",
              "</div>\n",
              "    </div>\n",
              "  </div>\n"
            ],
            "application/vnd.google.colaboratory.intrinsic+json": {
              "type": "dataframe",
              "summary": "{\n  \"name\": \"user_toxic_activity[user_toxic_activity['is_toxic']>10]\",\n  \"rows\": 343,\n  \"fields\": [\n    {\n      \"column\": \"root_submission\",\n      \"properties\": {\n        \"dtype\": \"string\",\n        \"num_unique_values\": 302,\n        \"samples\": [\n          \"3625100\",\n          \"3931918\",\n          \"2953558\"\n        ],\n        \"semantic_type\": \"\",\n        \"description\": \"\"\n      }\n    },\n    {\n      \"column\": \"user\",\n      \"properties\": {\n        \"dtype\": \"category\",\n        \"num_unique_values\": 163,\n        \"samples\": [\n          \"heretolearn\",\n          \"Fuckle_Chucks\",\n          \"thislionsheart\"\n        ],\n        \"semantic_type\": \"\",\n        \"description\": \"\"\n      }\n    },\n    {\n      \"column\": \"is_toxic\",\n      \"properties\": {\n        \"dtype\": \"number\",\n        \"std\": 5,\n        \"min\": 11,\n        \"max\": 69,\n        \"num_unique_values\": 23,\n        \"samples\": [\n          20,\n          21,\n          11\n        ],\n        \"semantic_type\": \"\",\n        \"description\": \"\"\n      }\n    }\n  ]\n}"
            }
          },
          "metadata": {},
          "execution_count": 49
        }
      ],
      "source": [
        "dataset = pd.read_parquet(source_data)\n",
        "dataset['is_toxic']=dataset['toxicity_score']>0.6\n",
        "user_toxic_activity=dataset.groupby(['root_submission','user'])['is_toxic'].sum().reset_index()\n",
        "user_toxic_activity[user_toxic_activity['is_toxic']>10]"
      ]
    },
    {
      "cell_type": "code",
      "execution_count": null,
      "metadata": {
        "id": "Lm3aUPGGtpJ0"
      },
      "outputs": [],
      "source": [
        "dataset_user=dataset[dataset.user=='Mumbleberry'].copy()\n",
        "dataset_user.sort_values(by='created_at', inplace=True)\n",
        "dataset_user.root_submission.value_counts()\n",
        "dataset_user=dataset_user[dataset_user.root_submission=='3348062'].copy()"
      ]
    },
    {
      "cell_type": "markdown",
      "metadata": {
        "id": "H_zIVEDqtpJ0"
      },
      "source": [
        "Q1: Could we use a hawkes process to model the inter arrival time of comments?"
      ]
    },
    {
      "cell_type": "markdown",
      "metadata": {
        "id": "UeuY0eYxtpJ1"
      },
      "source": [
        "Preparo i dati e fitto il modello"
      ]
    },
    {
      "cell_type": "code",
      "execution_count": null,
      "metadata": {
        "id": "emM8qXQdtpJ1"
      },
      "outputs": [],
      "source": [
        "observed_data = np.array([np.datetime64(x.replace(tzinfo=None)).astype(np.int64) for x in dataset_user['created_at']])\n",
        "mean_lag=np.mean(np.diff(observed_data))\n",
        "ℋ_t=observed_data-min(observed_data)+mean_lag\n",
        "ℋ_t=ℋ_t/max(ℋ_t)\n",
        "𝛉_exp=𝛉_exp_simple=exp_mle(ℋ_t,max(ℋ_t)+mean_lag)"
      ]
    },
    {
      "cell_type": "markdown",
      "metadata": {
        "id": "4rN13aKytpJ2"
      },
      "source": [
        "Faccio il QQplot del modello"
      ]
    },
    {
      "cell_type": "code",
      "execution_count": null,
      "metadata": {
        "colab": {
          "base_uri": "https://localhost:8080/",
          "height": 54
        },
        "id": "OyIm16WltpJ2",
        "outputId": "1a0f60ac-b95e-45b5-8cc6-bf2758a83df1"
      },
      "outputs": [
        {
          "output_type": "display_data",
          "data": {
            "text/plain": [
              "<Figure size 640x480 with 1 Axes>"
            ],
            "image/png": "[encoded data removed]"
          },
          "metadata": {}
        }
      ],
      "source": [
        "tsShifted = exp_hawkes_compensators(ℋ_t, 𝛉_exp)\n",
        "iat = np.diff(np.insert(tsShifted, 0, 0))\n",
        "qqplot(iat, dist=stats.expon, fit=True, line=\"45\")\n",
        "plt.show()"
      ]
    },
    {
      "cell_type": "markdown",
      "metadata": {
        "id": "HD8gBSn3tpJ3"
      },
      "source": [
        "Estraggo una metric per valutare il modello"
      ]
    },
    {
      "cell_type": "code",
      "execution_count": null,
      "metadata": {
        "colab": {
          "base_uri": "https://localhost:8080/"
        },
        "id": "5hD85EsltpJ3",
        "outputId": "61cad4d7-5a87-4411-dbf0-d75bf7c18b5c"
      },
      "outputs": [
        {
          "output_type": "stream",
          "name": "stdout",
          "text": [
            "Pendenza della linea di riferimento adattata: 0.051475550251306096\n"
          ]
        }
      ],
      "source": [
        "slope, intercept = sm.OLS(iat, sm.add_constant(stats.expon.ppf((np.arange(1, len(iat) + 1) - 0.5) / len(iat)))).fit().params\n",
        "print(\"Pendenza della linea di riferimento adattata:\", slope)\n",
        "slope, intercept = 1, 0\n",
        "predicted_values = slope * np.arange(1, len(iat) + 1) + intercept"
      ]
    },
    {
      "cell_type": "markdown",
      "metadata": {
        "id": "lugMb6fKtpJ4"
      },
      "source": [
        "Calcolo delle distanze"
      ]
    },
    {
      "cell_type": "code",
      "execution_count": null,
      "metadata": {
        "id": "tvPDWthctpJ4"
      },
      "outputs": [],
      "source": [
        "distances = np.abs(iat - predicted_values)"
      ]
    },
    {
      "cell_type": "code",
      "execution_count": null,
      "metadata": {
        "colab": {
          "base_uri": "https://localhost:8080/"
        },
        "id": "awXMORthtpJ4",
        "outputId": "6a52407a-58ff-4a45-c324-9b269d100d37"
      },
      "outputs": [
        {
          "output_type": "stream",
          "name": "stdout",
          "text": [
            "errore modello semplice 5.93331368201552\n"
          ]
        }
      ],
      "source": [
        "print('errore modello semplice',distances.mean())"
      ]
    },
    {
      "cell_type": "markdown",
      "metadata": {
        "id": "uR71yzwxtpJ5"
      },
      "source": [
        "Q2: Is the fitting of the model improving using a flexibility of alpha (infetivity rate) sensible to comment's toxicity?"
      ]
    },
    {
      "cell_type": "code",
      "execution_count": null,
      "metadata": {
        "id": "6g6voxmPtpJ5"
      },
      "outputs": [],
      "source": [
        "# Preparo i dati e fitto il modello\n",
        "observed_data = np.array([np.datetime64(x.replace(tzinfo=None)).astype(np.int64) for x in dataset_user['created_at']])\n",
        "mean_lag=np.mean(np.diff(observed_data))\n",
        "ℋ_t=observed_data-min(observed_data)+mean_lag\n",
        "𝒯_T=list(dataset_user.toxicity_score)\n",
        "𝛉_exp=𝛉_exp_toxicity=exp_mle_toxicity(ℋ_t,𝒯_T,max(ℋ_t))"
      ]
    },
    {
      "cell_type": "markdown",
      "metadata": {
        "id": "e3pnKKWqtpJ6"
      },
      "source": [
        "Faccio il QQplot del modello"
      ]
    },
    {
      "cell_type": "code",
      "execution_count": null,
      "metadata": {
        "colab": {
          "base_uri": "https://localhost:8080/",
          "height": 54
        },
        "id": "UqX0pMVxtpJ6",
        "outputId": "40c5e1f4-ef79-4f58-a3c4-6a0455387ea8"
      },
      "outputs": [
        {
          "output_type": "display_data",
          "data": {
            "text/plain": [
              "<Figure size 640x480 with 1 Axes>"
            ],
            "image/png": "[encoded data removed]"
          },
          "metadata": {}
        }
      ],
      "source": [
        "tsShifted = exp_hawkes_compensators_toxicity(ℋ_t,𝒯_T, 𝛉_exp)\n",
        "iat = np.diff(np.insert(tsShifted, 0, 0))\n",
        "qqplot(iat, dist=stats.expon, fit=True, line=\"45\")\n",
        "plt.show()"
      ]
    },
    {
      "cell_type": "markdown",
      "metadata": {
        "id": "yHr9KWBNtpJ6"
      },
      "source": [
        "Estraggo una metric per valutare il modello"
      ]
    },
    {
      "cell_type": "code",
      "execution_count": null,
      "metadata": {
        "colab": {
          "base_uri": "https://localhost:8080/"
        },
        "id": "6L_MPmFytpJ7",
        "outputId": "fa212684-e28f-4d34-f626-2119e6ad5971"
      },
      "outputs": [
        {
          "output_type": "stream",
          "name": "stdout",
          "text": [
            "Pendenza della linea di riferimento adattata: 1.384439183937668\n"
          ]
        }
      ],
      "source": [
        "slope, intercept = sm.OLS(iat, sm.add_constant(stats.expon.ppf((np.arange(1, len(iat) + 1) - 0.5) / len(iat)))).fit().params\n",
        "print(\"Pendenza della linea di riferimento adattata:\", slope)"
      ]
    },
    {
      "cell_type": "code",
      "execution_count": null,
      "metadata": {
        "id": "9CmXlswbtpJ7"
      },
      "outputs": [],
      "source": [
        "slope, intercept = 1, 0\n",
        "predicted_values = slope * np.arange(1, len(iat) + 1) + intercept"
      ]
    },
    {
      "cell_type": "markdown",
      "metadata": {
        "id": "UKsnlwertpJ7"
      },
      "source": [
        "Calcolo delle distanze"
      ]
    },
    {
      "cell_type": "code",
      "execution_count": null,
      "metadata": {
        "id": "xMUHqVpCtpJ8"
      },
      "outputs": [],
      "source": [
        "distances = np.abs(iat - predicted_values)"
      ]
    },
    {
      "cell_type": "code",
      "execution_count": null,
      "metadata": {
        "colab": {
          "base_uri": "https://localhost:8080/"
        },
        "id": "Uzoca4OTtpJ8",
        "outputId": "2c810f20-bfb4-40c3-fcfe-6e2cbd64f46e"
      },
      "outputs": [
        {
          "output_type": "stream",
          "name": "stdout",
          "text": [
            "errore modello tossicità 4.9998597136193155\n"
          ]
        }
      ],
      "source": [
        "print('errore modello tossicità',distances.mean())"
      ]
    },
    {
      "cell_type": "markdown",
      "metadata": {
        "id": "L9yVJ2I7tpJ9"
      },
      "source": [
        "Q3 Posso stimare i parametri di ciascun utente studiandone la verosimiglianza congiunta su tutti i threads?<br>\n",
        "--------------------------- Using α ---------------------------------------------------"
      ]
    },
    {
      "cell_type": "code",
      "execution_count": null,
      "metadata": {
        "id": "KoH3z41ktpJ9"
      },
      "outputs": [],
      "source": [
        "data_user = filter_dataset(dataset, 'Mumbleberry', min_comments=3, sample=False)\n",
        "ℋ_T_list, magnitude_list,time_list = prepare_data(data_user, dataset)\n",
        "θ_exp_mle_T = exponential_mle(ℋ_T_list, time_list)"
      ]
    },
    {
      "cell_type": "code",
      "execution_count": null,
      "metadata": {
        "colab": {
          "base_uri": "https://localhost:8080/",
          "height": 54
        },
        "id": "aRhv6IcntpJ-",
        "outputId": "f4072328-b1a9-431a-ba9b-6540a86efd93"
      },
      "outputs": [
        {
          "output_type": "display_data",
          "data": {
            "text/plain": [
              "<Figure size 640x480 with 1 Axes>"
            ],
            "image/png": "[encoded data removed]"
          },
          "metadata": {}
        }
      ],
      "source": [
        "tsShifted = exp_hawkes_compensators(ℋ_t, θ_exp_mle_T)\n",
        "iat = np.diff(np.insert(tsShifted, 0, 0))\n",
        "qqplot(iat, dist=stats.expon, fit=True, line=\"45\")\n",
        "plt.show()"
      ]
    },
    {
      "cell_type": "code",
      "execution_count": null,
      "metadata": {
        "colab": {
          "base_uri": "https://localhost:8080/"
        },
        "id": "MUatg_yvtpJ_",
        "outputId": "75659c5a-b39a-4933-9c8d-73ff0d768d9d"
      },
      "outputs": [
        {
          "output_type": "stream",
          "name": "stdout",
          "text": [
            "Pendenza della linea di riferimento adattata: 0.037238471722014464\n"
          ]
        }
      ],
      "source": [
        "slope, intercept = sm.OLS(iat, sm.add_constant(stats.expon.ppf((np.arange(1, len(iat) + 1) - 0.5) / len(iat)))).fit().params\n",
        "print(\"Pendenza della linea di riferimento adattata:\", slope)"
      ]
    },
    {
      "cell_type": "code",
      "execution_count": null,
      "metadata": {
        "id": "Ne7ZK-m5tpKB"
      },
      "outputs": [],
      "source": [
        "slope, intercept = 1, 0\n",
        "predicted_values = slope * np.arange(1, len(iat) + 1) + intercept"
      ]
    },
    {
      "cell_type": "code",
      "execution_count": null,
      "metadata": {
        "colab": {
          "base_uri": "https://localhost:8080/"
        },
        "id": "gEWqvdHEtpKC",
        "outputId": "b56dfcec-2c3b-40f7-ea40-6fd5223ea4c8"
      },
      "outputs": [
        {
          "output_type": "stream",
          "name": "stdout",
          "text": [
            "errore modello tossicità 5.973319434241515\n"
          ]
        }
      ],
      "source": [
        "distances = np.abs(iat - predicted_values)\n",
        "print('errore modello tossicità',distances.mean())"
      ]
    },
    {
      "cell_type": "markdown",
      "metadata": {
        "id": "oMKFMtPKtpKD"
      },
      "source": [
        "--------------------------- Using 2α ---------------------------------------------------"
      ]
    },
    {
      "cell_type": "code",
      "execution_count": null,
      "metadata": {
        "id": "AgcJxPudtpKE"
      },
      "outputs": [],
      "source": [
        "data_user = filter_dataset(dataset, 'Mumbleberry', min_comments=3, sample=False)\n",
        "ℋ_T_list, magnitude_list,time_list = prepare_data(data_user, dataset)\n",
        "θ_exp_mle_T = exponential_mle_toxicity(ℋ_T_list, magnitude_list, time_list)"
      ]
    },
    {
      "cell_type": "code",
      "execution_count": null,
      "metadata": {
        "colab": {
          "base_uri": "https://localhost:8080/",
          "height": 54
        },
        "id": "qTzJKv7XtpKE",
        "outputId": "535100c2-25dc-4624-86af-64a230c0ec89"
      },
      "outputs": [
        {
          "output_type": "display_data",
          "data": {
            "text/plain": [
              "<Figure size 640x480 with 1 Axes>"
            ],
            "image/png": "[encoded data removed]"
          },
          "metadata": {}
        }
      ],
      "source": [
        "tsShifted = exp_hawkes_compensators_toxicity(ℋ_t,𝒯_T, θ_exp_mle_T)\n",
        "iat = np.diff(np.insert(tsShifted, 0, 0))\n",
        "qqplot(iat, dist=stats.expon, fit=True, line=\"45\")\n",
        "plt.show()"
      ]
    },
    {
      "cell_type": "code",
      "execution_count": null,
      "metadata": {
        "colab": {
          "base_uri": "https://localhost:8080/"
        },
        "id": "sXudFeEatpKF",
        "outputId": "b3a06632-0ef1-481a-d0ba-c3f81b61ded9"
      },
      "outputs": [
        {
          "output_type": "stream",
          "name": "stdout",
          "text": [
            "Pendenza della linea di riferimento adattata: 0.037238471722014464\n"
          ]
        }
      ],
      "source": [
        "slope, intercept = sm.OLS(iat, sm.add_constant(stats.expon.ppf((np.arange(1, len(iat) + 1) - 0.5) / len(iat)))).fit().params\n",
        "print(\"Pendenza della linea di riferimento adattata:\", slope)"
      ]
    },
    {
      "cell_type": "code",
      "execution_count": null,
      "metadata": {
        "id": "Z0P7nZbutpKH"
      },
      "outputs": [],
      "source": [
        "slope, intercept = 1, 0\n",
        "predicted_values = slope * np.arange(1, len(iat) + 1) + intercept"
      ]
    },
    {
      "cell_type": "code",
      "execution_count": null,
      "metadata": {
        "colab": {
          "base_uri": "https://localhost:8080/"
        },
        "id": "brxHjva1tpKH",
        "outputId": "70e8945a-bc91-49d5-f27b-b67b6013e207"
      },
      "outputs": [
        {
          "output_type": "stream",
          "name": "stdout",
          "text": [
            "errore modello tossicità 5.973319434241515\n"
          ]
        }
      ],
      "source": [
        "distances = np.abs(iat - predicted_values)\n",
        "print('errore modello tossicità',distances.mean())"
      ]
    },
    {
      "cell_type": "markdown",
      "metadata": {
        "id": "2k4HqohkVZxB"
      },
      "source": [
        "# Study the parameters of an Hawkes process"
      ]
    },
    {
      "cell_type": "code",
      "execution_count": null,
      "metadata": {
        "id": "sMhzLpJRLl0z"
      },
      "outputs": [],
      "source": [
        "dataset = pd.read_parquet(source_data)\n",
        "dataset['is_toxic']=dataset['toxicity_score']>0.6\n",
        "user_toxic_activity=dataset.groupby(['root_submission','user'])['is_toxic'].sum().reset_index()\n",
        "user_toxic_activity[user_toxic_activity['is_toxic']>10]\n",
        "\n",
        "dataset_user=dataset[dataset.user=='Mumbleberry'].copy()\n",
        "dataset_user.sort_values(by='created_at', inplace=True)\n",
        "dataset_user.root_submission.value_counts()\n",
        "dataset_user=dataset_user[dataset_user.root_submission=='3348062'].copy()"
      ]
    },
    {
      "cell_type": "code",
      "execution_count": null,
      "metadata": {
        "id": "VCmmAhSzMOUl"
      },
      "outputs": [],
      "source": [
        "# Preparo i dati e fitto il modello\n",
        "observed_data = np.array([np.datetime64(x.replace(tzinfo=None)).astype(np.int64) for x in dataset_user['created_at']])\n",
        "start_conversation=np.datetime64(min(dataset[dataset['root_submission']=='3348062']['created_at']).replace(tzinfo=None))\n",
        "end_conversation=np.datetime64(max(dataset[dataset['root_submission']=='3348062']['created_at']).replace(tzinfo=None))\n",
        "\n",
        "ℋ_t = (observed_data - start_conversation.astype(np.int64)) / (end_conversation.astype(np.int64) - start_conversation.astype(np.int64))\n",
        "𝒯_T=list(dataset_user.toxicity_score)\n",
        "𝛉_exp=exp_mle(ℋ_t,1)"
      ]
    },
    {
      "cell_type": "code",
      "execution_count": null,
      "metadata": {
        "colab": {
          "base_uri": "https://localhost:8080/"
        },
        "id": "BsjC3F2gOnJX",
        "outputId": "92d6e09b-bd20-4416-9f7d-4dd075958446"
      },
      "outputs": [
        {
          "output_type": "execute_result",
          "data": {
            "text/plain": [
              "11"
            ]
          },
          "metadata": {},
          "execution_count": 74
        }
      ],
      "source": [
        "len(ℋ_t)"
      ]
    },
    {
      "cell_type": "code",
      "execution_count": null,
      "metadata": {
        "colab": {
          "base_uri": "https://localhost:8080/",
          "height": 455
        },
        "id": "h5D1I4qYQp2v",
        "outputId": "82cef679-c43a-4d37-d706-e7b59b64a207"
      },
      "outputs": [
        {
          "output_type": "display_data",
          "data": {
            "text/plain": [
              "<Figure size 640x480 with 1 Axes>"
            ],
            "image/png": "[encoded data removed]"
          },
          "metadata": {}
        }
      ],
      "source": [
        "x = [0]*len(ℋ_t)\n",
        "colors = ['r' if score > 0.5 else 'black' for score in 𝒯_T]\n",
        "x = [.1 if score > 0.5 else 0 for score in 𝒯_T]\n",
        "# Plot the scatter plot with colors\n",
        "plt.scatter(ℋ_t, x, c=colors, label='ℋ_t', alpha=0.1,s=200)\n",
        "\n",
        "# Plot the horizontal line\n",
        "plt.axhline(0, color='r', linestyle='--', label='Horizontal Line')\n",
        "\n",
        "# Add labels and legend\n",
        "plt.xlabel('Index')\n",
        "plt.ylabel('Values')\n",
        "plt.xlim(0,1)\n",
        "plt.ylim(-0.2,.5)\n",
        "plt.legend()\n",
        "\n",
        "# Show plot\n",
        "plt.show()"
      ]
    },
    {
      "cell_type": "code",
      "execution_count": null,
      "metadata": {
        "colab": {
          "base_uri": "https://localhost:8080/"
        },
        "id": "s7BkZfmHQG-r",
        "outputId": "8346b372-7ea7-4cec-8bd3-27fd397e9fbe"
      },
      "outputs": [
        {
          "output_type": "stream",
          "name": "stdout",
          "text": [
            "11.1072\n",
            "11.3069\n"
          ]
        }
      ],
      "source": [
        "simulazioni_su_thread = []\n",
        "𝛉_exp=np.array([ 3, 42, 60])\n",
        "for i in (range(10000)):\n",
        "    simulazione_su_thread = exp_simulate_by_composition_alt(𝛉_exp, 1)\n",
        "    simulazioni_su_thread.append(len(simulazione_su_thread))\n",
        "print( np.mean(simulazioni_su_thread))\n",
        "\n",
        "simulazioni_su_thread = []\n",
        "𝛉_exp=np.array([ 11, 1.5, 60])\n",
        "for i in (range(10000)):\n",
        "    simulazione_su_thread = exp_simulate_by_composition_alt(𝛉_exp, 1)\n",
        "    simulazioni_su_thread.append(len(simulazione_su_thread))\n",
        "print( np.mean(simulazioni_su_thread))\n",
        "\n"
      ]
    },
    {
      "cell_type": "code",
      "source": [
        "ℋ_t=simulazione_su_thread\n",
        "x = [0]*len(ℋ_t)\n",
        "colors = ['r' if score > 0.5 else 'black' for score in ℋ_t]\n",
        "# Plot the scatter plot with colors\n",
        "plt.scatter(ℋ_t, x, c=colors, label='ℋ_t', alpha=0.1,s=200)\n",
        "\n",
        "# Plot the horizontal line\n",
        "plt.axhline(0, color='r', linestyle='--', label='Horizontal Line')\n",
        "\n",
        "# Add labels and legend\n",
        "plt.xlabel('Index')\n",
        "plt.ylabel('Values')\n",
        "plt.xlim(0,1)\n",
        "plt.ylim(-0.2,.5)\n",
        "plt.legend()\n",
        "\n",
        "# Show plot\n",
        "plt.show()"
      ],
      "metadata": {
        "colab": {
          "base_uri": "https://localhost:8080/",
          "height": 455
        },
        "id": "HoFuoj5nTYiX",
        "outputId": "44ad680b-d119-4d43-ec0f-14b4f8457c02"
      },
      "execution_count": null,
      "outputs": [
        {
          "output_type": "display_data",
          "data": {
            "text/plain": [
              "<Figure size 640x480 with 1 Axes>"
            ],
            "image/png": "[encoded data removed]"
          },
          "metadata": {}
        }
      ]
    },
    {
      "cell_type": "code",
      "source": [
        "ℋ_t=simulazione_su_thread\n",
        "x = [0]*len(ℋ_t)\n",
        "colors = ['r' if score > 0.5 else 'black' for score in ℋ_t]\n",
        "x = [.1 if score > 0.5 else 0 for score in ℋ_t]\n",
        "# Plot the scatter plot with colors\n",
        "plt.scatter(ℋ_t, x, c=colors, label='ℋ_t', alpha=0.1,s=200)\n",
        "\n",
        "# Plot the horizontal line\n",
        "plt.axhline(0, color='r', linestyle='--', label='Horizontal Line')\n",
        "\n",
        "# Add labels and legend\n",
        "plt.xlabel('Index')\n",
        "plt.ylabel('Values')\n",
        "plt.xlim(0,1)\n",
        "plt.ylim(-0.2,.5)\n",
        "plt.legend()\n",
        "\n",
        "# Show plot\n",
        "plt.show()"
      ],
      "metadata": {
        "colab": {
          "base_uri": "https://localhost:8080/",
          "height": 455
        },
        "id": "0a20lXCyTsgC",
        "outputId": "ed4a0ca5-ac87-4feb-fe48-959015e3e333"
      },
      "execution_count": null,
      "outputs": [
        {
          "output_type": "display_data",
          "data": {
            "text/plain": [
              "<Figure size 640x480 with 1 Axes>"
            ],
            "image/png": "[encoded data removed]"
          },
          "metadata": {}
        }
      ]
    },
    {
      "cell_type": "code",
      "execution_count": null,
      "metadata": {
        "colab": {
          "base_uri": "https://localhost:8080/"
        },
        "id": "dnWKcT_TViek",
        "outputId": "9c9ea357-572b-4fcf-d489-692dde3296d6"
      },
      "outputs": [
        {
          "output_type": "stream",
          "name": "stderr",
          "text": [
            "100%|██████████| 300/300 [18:46<00:00,  3.75s/it]\n"
          ]
        },
        {
          "output_type": "stream",
          "name": "stdout",
          "text": [
            "       lambda  alpha  beta  mu_expected_value  sd_exepected_value\n",
            "0        0.01   0.01    60              0.006            0.089084\n",
            "1        0.01   0.01    70              0.013            0.132951\n",
            "2        0.01   0.01    80              0.010            0.083373\n",
            "3        0.01   0.01    90              0.006            0.070534\n",
            "4        0.01   0.01   100              0.012            0.083373\n",
            "...       ...    ...   ...                ...                 ...\n",
            "25195  299.00  50.00   150            447.203           31.298044\n",
            "25196  299.00  50.00   160            431.829           29.741571\n",
            "25197  299.00  50.00   170            422.542           29.859314\n",
            "25198  299.00  50.00   180            411.995           27.867027\n",
            "25199  299.00  50.00   190            405.010           28.060166\n",
            "\n",
            "[25200 rows x 5 columns]\n"
          ]
        }
      ],
      "source": [
        "import numpy as np\n",
        "import pandas as pd\n",
        "\n",
        "# Lista dei parametri\n",
        "lambda_grid =  np.concatenate(([0.01], np.arange(1, 300,1 )))\n",
        "alpha_grid  =  np.concatenate(([0.01], np.arange(10, 60,10)))\n",
        "beta_grid   =    np.arange(60, 200, 10)\n",
        "\n",
        "# Definizione della funzione da ottimizzare\n",
        "def function_to_optimize(l, alpha,beta):\n",
        "    𝛉 = np.array([l,alpha,beta ])\n",
        "    simulazioni_su_thread = []\n",
        "    for i in (range(1000)):\n",
        "        simulazione_su_thread = exp_simulate_by_composition_alt(𝛉, 1)\n",
        "        simulazioni_su_thread.append(len(simulazione_su_thread))\n",
        "    return np.mean(simulazioni_su_thread),np.std(simulazioni_su_thread),simulazioni_su_thread\n",
        "\n",
        "\n",
        "# Lista per memorizzare i risultati\n",
        "results = []\n",
        "\n",
        "# Esecuzione della grid search\n",
        "for l in tqdm(lambda_grid):\n",
        "    for alpha in alpha_grid:\n",
        "      for beta in beta_grid:\n",
        "        oss=simulazioni_su_thread\n",
        "        sd_expected_value=function_to_optimize(l, alpha,beta)[1]\n",
        "        mu_expected_value = (function_to_optimize(l, alpha,beta)[0])\n",
        "        results.append({'lambda': l, 'alpha': alpha,'beta':beta, 'mu_expected_value': mu_expected_value,'sd_exepected_value':sd_expected_value})\n",
        "# Creazione del DataFrame\n",
        "df = pd.DataFrame(results)\n",
        "\n",
        "# Salvataggio del DataFrame su file CSV\n",
        "df.to_csv('/content/drive/MyDrive/thesis/data/grid_search_results.csv', index=False)\n",
        "\n",
        "# Stampare il DataFrame\n",
        "print(df)"
      ]
    },
    {
      "cell_type": "code",
      "source": [
        "oss=simulazioni_su_thread\n",
        "plt.hist(oss, bins=range(min(oss), max(oss) + 1), edgecolor='black')  # Definiamo i bin dai valori minimi a massimi dei dati\n",
        "plt.xlabel('Valore')\n",
        "plt.ylabel('Frequenza')\n",
        "plt.title('Istogramma dei dati')\n",
        "plt.grid(True)\n",
        "plt.show()"
      ],
      "metadata": {
        "colab": {
          "base_uri": "https://localhost:8080/",
          "height": 472
        },
        "id": "UUX6YSYPoLms",
        "outputId": "e3450ffe-8513-42c4-8a34-9d2ba756ad52"
      },
      "execution_count": null,
      "outputs": [
        {
          "output_type": "display_data",
          "data": {
            "text/plain": [
              "<Figure size 640x480 with 1 Axes>"
            ],
            "image/png": "[encoded data removed]"
          },
          "metadata": {}
        }
      ]
    },
    {
      "cell_type": "code",
      "source": [
        "df=pd.read_csv('/content/drive/MyDrive/thesis/data/grid_search_results.csv')\n",
        "df['lower_bound']=df['mu_expected_value']-2*df['sd_exepected_value']\n",
        "df['upper_bound']=df['mu_expected_value']+2*df['sd_exepected_value']\n",
        "df['IC_size']=df['upper_bound']-df['lower_bound']"
      ],
      "metadata": {
        "id": "Pua0z5qgg-7-"
      },
      "execution_count": null,
      "outputs": []
    },
    {
      "cell_type": "code",
      "source": [
        "# Creazione del tracciato\n",
        "import plotly.graph_objs as go\n",
        "trace = go.Scatter3d(\n",
        "    x=data['lambda'],\n",
        "    y=data['alpha'],\n",
        "    z=data['beta'],\n",
        "    mode='markers',\n",
        "    marker=dict(\n",
        "        size=10,\n",
        "        color='rgb(255,0,0)',  # Impostiamo tutti i punti dello stesso colore\n",
        "        opacity=0.8\n",
        "    )\n",
        ")\n",
        "\n",
        "# Layout\n",
        "layout = go.Layout(\n",
        "    scene=dict(\n",
        "        xaxis=dict(title='Lambda'),\n",
        "        yaxis=dict(title='Alpha'),\n",
        "        zaxis=dict(title='Beta')\n",
        "    ),\n",
        "    margin=dict(l=0, r=0, b=0, t=0)\n",
        ")\n",
        "\n",
        "# Creazione della figura\n",
        "fig = go.Figure(data=[trace], layout=layout)\n",
        "\n",
        "# Plot\n",
        "fig.show()"
      ],
      "metadata": {
        "colab": {
          "base_uri": "https://localhost:8080/",
          "height": 542
        },
        "id": "l72AJP7GjHFX",
        "outputId": "f4941d16-21bc-455d-d7ed-272ca8255309"
      },
      "execution_count": null,
      "outputs": [
        {
          "output_type": "display_data",
          "data": {
            "text/html": [
              "<html>\n",
              "<head><meta charset=\"utf-8\" /></head>\n",
              "<body>\n",
              "    <div>            <script src=\"https://cdnjs.cloudflare.com/ajax/libs/mathjax/2.7.5/MathJax.js?config=TeX-AMS-MML_SVG\"></script><script type=\"text/javascript\">if (window.MathJax && window.MathJax.Hub && window.MathJax.Hub.Config) {window.MathJax.Hub.Config({SVG: {font: \"STIX-Web\"}});}</script>                <script type=\"text/javascript\">window.PlotlyConfig = {MathJaxConfig: 'local'};</script>\n",
              "        <script charset=\"utf-8\" src=\"https://cdn.plot.ly/plotly-2.24.1.min.js\"></script>                <div id=\"3b82ae1c-6516-494b-8bff-e981812e313a\" class=\"plotly-graph-div\" style=\"height:525px; width:100%;\"></div>            <script type=\"text/javascript\">                                    window.PLOTLYENV=window.PLOTLYENV || {};                                    if (document.getElementById(\"3b82ae1c-6516-494b-8bff-e981812e313a\")) {                    Plotly.newPlot(                        \"3b82ae1c-6516-494b-8bff-e981812e313a\",                        [{\"marker\":{\"color\":\"rgb(255,0,0)\",\"opacity\":0.8,\"size\":10},\"mode\":\"markers\",\"x\":[0.01,0.01,0.01,1.0,1.0,1.0,2.0,2.0,2.0,3.0,3.0,3.0,4.0,4.0,4.0,5.0,5.0,5.0,6.0,6.0,6.0,7.0,7.0,7.0,8.0,8.0,8.0,9.0,9.0,9.0,10.0,10.0,10.0,11.0,11.0,11.0,12.0,12.0,12.0,13.0,13.0,13.0,14.0,14.0,14.0,15.0,15.0,15.0,16.0,16.0,16.0,17.0,17.0,17.0,18.0,18.0,18.0,19.0,19.0,19.0,20.0,20.0,20.0,21.0,21.0,21.0,22.0,22.0,22.0,23.0,23.0,23.0,24.0,24.0,24.0,25.0,25.0,25.0,26.0,26.0,26.0,27.0,27.0,27.0,28.0,28.0,28.0,29.0,29.0,29.0,30.0,30.0,30.0,31.0,31.0,31.0,32.0,32.0,32.0,33.0,33.0,33.0,34.0,34.0,34.0,35.0,35.0,35.0,36.0,36.0,36.0,37.0,37.0,37.0,38.0,38.0,38.0,39.0,39.0,39.0,40.0,40.0,40.0,41.0,41.0,41.0,42.0,42.0,42.0,43.0,43.0,43.0,44.0,44.0,44.0,45.0,45.0,45.0,46.0,46.0,46.0,47.0,47.0,47.0,48.0,48.0,48.0,49.0,49.0,49.0,50.0,50.0,50.0,51.0,51.0,51.0,52.0,52.0,52.0,53.0,53.0,53.0,54.0,54.0,54.0,55.0,55.0,55.0,56.0,56.0,56.0,57.0,57.0,57.0,58.0,58.0,58.0,59.0,59.0,59.0,60.0,60.0,60.0,61.0,61.0,61.0,62.0,62.0,62.0,63.0,63.0,63.0,64.0,64.0,64.0,65.0,65.0,65.0,66.0,66.0,66.0,67.0,67.0,67.0,68.0,68.0,68.0,69.0,69.0,69.0,70.0,70.0,70.0,71.0,71.0,71.0,72.0,72.0,72.0,73.0,73.0,73.0,74.0,74.0,74.0,75.0,75.0,75.0,76.0,76.0,76.0,77.0,77.0,77.0,78.0,78.0,78.0,79.0,79.0,79.0,80.0,80.0,80.0,81.0,81.0,81.0,82.0,82.0,82.0,83.0,83.0,83.0,84.0,84.0,84.0,85.0,85.0,85.0,86.0,86.0,86.0,87.0,87.0,87.0,88.0,88.0,88.0,89.0,89.0,89.0,90.0,90.0,90.0,91.0,91.0,91.0,92.0,92.0,92.0,93.0,93.0,93.0,94.0,94.0,94.0,95.0,95.0,95.0,96.0,96.0,96.0,97.0,97.0,97.0,98.0,98.0,98.0,99.0,99.0,99.0],\"y\":[0.01,10.0,35.0,0.01,10.0,35.0,0.01,10.0,35.0,0.01,10.0,35.0,0.01,10.0,35.0,0.01,10.0,35.0,0.01,10.0,35.0,0.01,10.0,35.0,0.01,10.0,35.0,0.01,10.0,35.0,0.01,10.0,35.0,0.01,10.0,35.0,0.01,10.0,35.0,0.01,10.0,35.0,0.01,10.0,35.0,0.01,10.0,35.0,0.01,10.0,35.0,0.01,10.0,35.0,0.01,10.0,35.0,0.01,10.0,35.0,0.01,10.0,35.0,0.01,10.0,35.0,0.01,10.0,35.0,0.01,10.0,35.0,0.01,10.0,35.0,0.01,10.0,35.0,0.01,10.0,35.0,0.01,10.0,35.0,0.01,10.0,35.0,0.01,10.0,35.0,0.01,10.0,35.0,0.01,10.0,35.0,0.01,10.0,35.0,0.01,10.0,35.0,0.01,10.0,35.0,0.01,10.0,35.0,0.01,10.0,35.0,0.01,10.0,35.0,0.01,10.0,35.0,0.01,10.0,35.0,0.01,10.0,35.0,0.01,10.0,35.0,0.01,10.0,35.0,0.01,10.0,35.0,0.01,10.0,35.0,0.01,10.0,35.0,0.01,10.0,35.0,0.01,10.0,35.0,0.01,10.0,35.0,0.01,10.0,35.0,0.01,10.0,35.0,0.01,10.0,35.0,0.01,10.0,35.0,0.01,10.0,35.0,0.01,10.0,35.0,0.01,10.0,35.0,0.01,10.0,35.0,0.01,10.0,35.0,0.01,10.0,35.0,0.01,10.0,35.0,0.01,10.0,35.0,0.01,10.0,35.0,0.01,10.0,35.0,0.01,10.0,35.0,0.01,10.0,35.0,0.01,10.0,35.0,0.01,10.0,35.0,0.01,10.0,35.0,0.01,10.0,35.0,0.01,10.0,35.0,0.01,10.0,35.0,0.01,10.0,35.0,0.01,10.0,35.0,0.01,10.0,35.0,0.01,10.0,35.0,0.01,10.0,35.0,0.01,10.0,35.0,0.01,10.0,35.0,0.01,10.0,35.0,0.01,10.0,35.0,0.01,10.0,35.0,0.01,10.0,35.0,0.01,10.0,35.0,0.01,10.0,35.0,0.01,10.0,35.0,0.01,10.0,35.0,0.01,10.0,35.0,0.01,10.0,35.0,0.01,10.0,35.0,0.01,10.0,35.0,0.01,10.0,35.0,0.01,10.0,35.0,0.01,10.0,35.0,0.01,10.0,35.0,0.01,10.0,35.0,0.01,10.0,35.0,0.01,10.0,35.0,0.01,10.0,35.0,0.01,10.0,35.0,0.01,10.0,35.0],\"z\":[60,60,60,60,60,60,60,60,60,60,60,60,60,60,60,60,60,60,60,60,60,60,60,60,60,60,60,60,60,60,60,60,60,60,60,60,60,60,60,60,60,60,60,60,60,60,60,60,60,60,60,60,60,60,60,60,60,60,60,60,60,60,60,60,60,60,60,60,60,60,60,60,60,60,60,60,60,60,60,60,60,60,60,60,60,60,60,60,60,60,60,60,60,60,60,60,60,60,60,60,60,60,60,60,60,60,60,60,60,60,60,60,60,60,60,60,60,60,60,60,60,60,60,60,60,60,60,60,60,60,60,60,60,60,60,60,60,60,60,60,60,60,60,60,60,60,60,60,60,60,60,60,60,60,60,60,60,60,60,60,60,60,60,60,60,60,60,60,60,60,60,60,60,60,60,60,60,60,60,60,60,60,60,60,60,60,60,60,60,60,60,60,60,60,60,60,60,60,60,60,60,60,60,60,60,60,60,60,60,60,60,60,60,60,60,60,60,60,60,60,60,60,60,60,60,60,60,60,60,60,60,60,60,60,60,60,60,60,60,60,60,60,60,60,60,60,60,60,60,60,60,60,60,60,60,60,60,60,60,60,60,60,60,60,60,60,60,60,60,60,60,60,60,60,60,60,60,60,60,60,60,60,60,60,60,60,60,60,60,60,60,60,60,60,60,60,60,60,60,60],\"type\":\"scatter3d\"}],                        {\"margin\":{\"b\":0,\"l\":0,\"r\":0,\"t\":0},\"scene\":{\"xaxis\":{\"title\":{\"text\":\"Lambda\"}},\"yaxis\":{\"title\":{\"text\":\"Alpha\"}},\"zaxis\":{\"title\":{\"text\":\"Beta\"}}},\"template\":{\"data\":{\"histogram2dcontour\":[{\"type\":\"histogram2dcontour\",\"colorbar\":{\"outlinewidth\":0,\"ticks\":\"\"},\"colorscale\":[[0.0,\"#0d0887\"],[0.1111111111111111,\"#46039f\"],[0.2222222222222222,\"#7201a8\"],[0.3333333333333333,\"#9c179e\"],[0.4444444444444444,\"#bd3786\"],[0.5555555555555556,\"#d8576b\"],[0.6666666666666666,\"#ed7953\"],[0.7777777777777778,\"#fb9f3a\"],[0.8888888888888888,\"#fdca26\"],[1.0,\"#f0f921\"]]}],\"choropleth\":[{\"type\":\"choropleth\",\"colorbar\":{\"outlinewidth\":0,\"ticks\":\"\"}}],\"histogram2d\":[{\"type\":\"histogram2d\",\"colorbar\":{\"outlinewidth\":0,\"ticks\":\"\"},\"colorscale\":[[0.0,\"#0d0887\"],[0.1111111111111111,\"#46039f\"],[0.2222222222222222,\"#7201a8\"],[0.3333333333333333,\"#9c179e\"],[0.4444444444444444,\"#bd3786\"],[0.5555555555555556,\"#d8576b\"],[0.6666666666666666,\"#ed7953\"],[0.7777777777777778,\"#fb9f3a\"],[0.8888888888888888,\"#fdca26\"],[1.0,\"#f0f921\"]]}],\"heatmap\":[{\"type\":\"heatmap\",\"colorbar\":{\"outlinewidth\":0,\"ticks\":\"\"},\"colorscale\":[[0.0,\"#0d0887\"],[0.1111111111111111,\"#46039f\"],[0.2222222222222222,\"#7201a8\"],[0.3333333333333333,\"#9c179e\"],[0.4444444444444444,\"#bd3786\"],[0.5555555555555556,\"#d8576b\"],[0.6666666666666666,\"#ed7953\"],[0.7777777777777778,\"#fb9f3a\"],[0.8888888888888888,\"#fdca26\"],[1.0,\"#f0f921\"]]}],\"heatmapgl\":[{\"type\":\"heatmapgl\",\"colorbar\":{\"outlinewidth\":0,\"ticks\":\"\"},\"colorscale\":[[0.0,\"#0d0887\"],[0.1111111111111111,\"#46039f\"],[0.2222222222222222,\"#7201a8\"],[0.3333333333333333,\"#9c179e\"],[0.4444444444444444,\"#bd3786\"],[0.5555555555555556,\"#d8576b\"],[0.6666666666666666,\"#ed7953\"],[0.7777777777777778,\"#fb9f3a\"],[0.8888888888888888,\"#fdca26\"],[1.0,\"#f0f921\"]]}],\"contourcarpet\":[{\"type\":\"contourcarpet\",\"colorbar\":{\"outlinewidth\":0,\"ticks\":\"\"}}],\"contour\":[{\"type\":\"contour\",\"colorbar\":{\"outlinewidth\":0,\"ticks\":\"\"},\"colorscale\":[[0.0,\"#0d0887\"],[0.1111111111111111,\"#46039f\"],[0.2222222222222222,\"#7201a8\"],[0.3333333333333333,\"#9c179e\"],[0.4444444444444444,\"#bd3786\"],[0.5555555555555556,\"#d8576b\"],[0.6666666666666666,\"#ed7953\"],[0.7777777777777778,\"#fb9f3a\"],[0.8888888888888888,\"#fdca26\"],[1.0,\"#f0f921\"]]}],\"surface\":[{\"type\":\"surface\",\"colorbar\":{\"outlinewidth\":0,\"ticks\":\"\"},\"colorscale\":[[0.0,\"#0d0887\"],[0.1111111111111111,\"#46039f\"],[0.2222222222222222,\"#7201a8\"],[0.3333333333333333,\"#9c179e\"],[0.4444444444444444,\"#bd3786\"],[0.5555555555555556,\"#d8576b\"],[0.6666666666666666,\"#ed7953\"],[0.7777777777777778,\"#fb9f3a\"],[0.8888888888888888,\"#fdca26\"],[1.0,\"#f0f921\"]]}],\"mesh3d\":[{\"type\":\"mesh3d\",\"colorbar\":{\"outlinewidth\":0,\"ticks\":\"\"}}],\"scatter\":[{\"fillpattern\":{\"fillmode\":\"overlay\",\"size\":10,\"solidity\":0.2},\"type\":\"scatter\"}],\"parcoords\":[{\"type\":\"parcoords\",\"line\":{\"colorbar\":{\"outlinewidth\":0,\"ticks\":\"\"}}}],\"scatterpolargl\":[{\"type\":\"scatterpolargl\",\"marker\":{\"colorbar\":{\"outlinewidth\":0,\"ticks\":\"\"}}}],\"bar\":[{\"error_x\":{\"color\":\"#2a3f5f\"},\"error_y\":{\"color\":\"#2a3f5f\"},\"marker\":{\"line\":{\"color\":\"#E5ECF6\",\"width\":0.5},\"pattern\":{\"fillmode\":\"overlay\",\"size\":10,\"solidity\":0.2}},\"type\":\"bar\"}],\"scattergeo\":[{\"type\":\"scattergeo\",\"marker\":{\"colorbar\":{\"outlinewidth\":0,\"ticks\":\"\"}}}],\"scatterpolar\":[{\"type\":\"scatterpolar\",\"marker\":{\"colorbar\":{\"outlinewidth\":0,\"ticks\":\"\"}}}],\"histogram\":[{\"marker\":{\"pattern\":{\"fillmode\":\"overlay\",\"size\":10,\"solidity\":0.2}},\"type\":\"histogram\"}],\"scattergl\":[{\"type\":\"scattergl\",\"marker\":{\"colorbar\":{\"outlinewidth\":0,\"ticks\":\"\"}}}],\"scatter3d\":[{\"type\":\"scatter3d\",\"line\":{\"colorbar\":{\"outlinewidth\":0,\"ticks\":\"\"}},\"marker\":{\"colorbar\":{\"outlinewidth\":0,\"ticks\":\"\"}}}],\"scattermapbox\":[{\"type\":\"scattermapbox\",\"marker\":{\"colorbar\":{\"outlinewidth\":0,\"ticks\":\"\"}}}],\"scatterternary\":[{\"type\":\"scatterternary\",\"marker\":{\"colorbar\":{\"outlinewidth\":0,\"ticks\":\"\"}}}],\"scattercarpet\":[{\"type\":\"scattercarpet\",\"marker\":{\"colorbar\":{\"outlinewidth\":0,\"ticks\":\"\"}}}],\"carpet\":[{\"aaxis\":{\"endlinecolor\":\"#2a3f5f\",\"gridcolor\":\"white\",\"linecolor\":\"white\",\"minorgridcolor\":\"white\",\"startlinecolor\":\"#2a3f5f\"},\"baxis\":{\"endlinecolor\":\"#2a3f5f\",\"gridcolor\":\"white\",\"linecolor\":\"white\",\"minorgridcolor\":\"white\",\"startlinecolor\":\"#2a3f5f\"},\"type\":\"carpet\"}],\"table\":[{\"cells\":{\"fill\":{\"color\":\"#EBF0F8\"},\"line\":{\"color\":\"white\"}},\"header\":{\"fill\":{\"color\":\"#C8D4E3\"},\"line\":{\"color\":\"white\"}},\"type\":\"table\"}],\"barpolar\":[{\"marker\":{\"line\":{\"color\":\"#E5ECF6\",\"width\":0.5},\"pattern\":{\"fillmode\":\"overlay\",\"size\":10,\"solidity\":0.2}},\"type\":\"barpolar\"}],\"pie\":[{\"automargin\":true,\"type\":\"pie\"}]},\"layout\":{\"autotypenumbers\":\"strict\",\"colorway\":[\"#636efa\",\"#EF553B\",\"#00cc96\",\"#ab63fa\",\"#FFA15A\",\"#19d3f3\",\"#FF6692\",\"#B6E880\",\"#FF97FF\",\"#FECB52\"],\"font\":{\"color\":\"#2a3f5f\"},\"hovermode\":\"closest\",\"hoverlabel\":{\"align\":\"left\"},\"paper_bgcolor\":\"white\",\"plot_bgcolor\":\"#E5ECF6\",\"polar\":{\"bgcolor\":\"#E5ECF6\",\"angularaxis\":{\"gridcolor\":\"white\",\"linecolor\":\"white\",\"ticks\":\"\"},\"radialaxis\":{\"gridcolor\":\"white\",\"linecolor\":\"white\",\"ticks\":\"\"}},\"ternary\":{\"bgcolor\":\"#E5ECF6\",\"aaxis\":{\"gridcolor\":\"white\",\"linecolor\":\"white\",\"ticks\":\"\"},\"baxis\":{\"gridcolor\":\"white\",\"linecolor\":\"white\",\"ticks\":\"\"},\"caxis\":{\"gridcolor\":\"white\",\"linecolor\":\"white\",\"ticks\":\"\"}},\"coloraxis\":{\"colorbar\":{\"outlinewidth\":0,\"ticks\":\"\"}},\"colorscale\":{\"sequential\":[[0.0,\"#0d0887\"],[0.1111111111111111,\"#46039f\"],[0.2222222222222222,\"#7201a8\"],[0.3333333333333333,\"#9c179e\"],[0.4444444444444444,\"#bd3786\"],[0.5555555555555556,\"#d8576b\"],[0.6666666666666666,\"#ed7953\"],[0.7777777777777778,\"#fb9f3a\"],[0.8888888888888888,\"#fdca26\"],[1.0,\"#f0f921\"]],\"sequentialminus\":[[0.0,\"#0d0887\"],[0.1111111111111111,\"#46039f\"],[0.2222222222222222,\"#7201a8\"],[0.3333333333333333,\"#9c179e\"],[0.4444444444444444,\"#bd3786\"],[0.5555555555555556,\"#d8576b\"],[0.6666666666666666,\"#ed7953\"],[0.7777777777777778,\"#fb9f3a\"],[0.8888888888888888,\"#fdca26\"],[1.0,\"#f0f921\"]],\"diverging\":[[0,\"#8e0152\"],[0.1,\"#c51b7d\"],[0.2,\"#de77ae\"],[0.3,\"#f1b6da\"],[0.4,\"#fde0ef\"],[0.5,\"#f7f7f7\"],[0.6,\"#e6f5d0\"],[0.7,\"#b8e186\"],[0.8,\"#7fbc41\"],[0.9,\"#4d9221\"],[1,\"#276419\"]]},\"xaxis\":{\"gridcolor\":\"white\",\"linecolor\":\"white\",\"ticks\":\"\",\"title\":{\"standoff\":15},\"zerolinecolor\":\"white\",\"automargin\":true,\"zerolinewidth\":2},\"yaxis\":{\"gridcolor\":\"white\",\"linecolor\":\"white\",\"ticks\":\"\",\"title\":{\"standoff\":15},\"zerolinecolor\":\"white\",\"automargin\":true,\"zerolinewidth\":2},\"scene\":{\"xaxis\":{\"backgroundcolor\":\"#E5ECF6\",\"gridcolor\":\"white\",\"linecolor\":\"white\",\"showbackground\":true,\"ticks\":\"\",\"zerolinecolor\":\"white\",\"gridwidth\":2},\"yaxis\":{\"backgroundcolor\":\"#E5ECF6\",\"gridcolor\":\"white\",\"linecolor\":\"white\",\"showbackground\":true,\"ticks\":\"\",\"zerolinecolor\":\"white\",\"gridwidth\":2},\"zaxis\":{\"backgroundcolor\":\"#E5ECF6\",\"gridcolor\":\"white\",\"linecolor\":\"white\",\"showbackground\":true,\"ticks\":\"\",\"zerolinecolor\":\"white\",\"gridwidth\":2}},\"shapedefaults\":{\"line\":{\"color\":\"#2a3f5f\"}},\"annotationdefaults\":{\"arrowcolor\":\"#2a3f5f\",\"arrowhead\":0,\"arrowwidth\":1},\"geo\":{\"bgcolor\":\"white\",\"landcolor\":\"#E5ECF6\",\"subunitcolor\":\"white\",\"showland\":true,\"showlakes\":true,\"lakecolor\":\"white\"},\"title\":{\"x\":0.05},\"mapbox\":{\"style\":\"light\"}}}},                        {\"responsive\": true}                    ).then(function(){\n",
              "                            \n",
              "var gd = document.getElementById('3b82ae1c-6516-494b-8bff-e981812e313a');\n",
              "var x = new MutationObserver(function (mutations, observer) {{\n",
              "        var display = window.getComputedStyle(gd).display;\n",
              "        if (!display || display === 'none') {{\n",
              "            console.log([gd, 'removed!']);\n",
              "            Plotly.purge(gd);\n",
              "            observer.disconnect();\n",
              "        }}\n",
              "}});\n",
              "\n",
              "// Listen for the removal of the full notebook cells\n",
              "var notebookContainer = gd.closest('#notebook-container');\n",
              "if (notebookContainer) {{\n",
              "    x.observe(notebookContainer, {childList: true});\n",
              "}}\n",
              "\n",
              "// Listen for the clearing of the current output cell\n",
              "var outputEl = gd.closest('.output');\n",
              "if (outputEl) {{\n",
              "    x.observe(outputEl, {childList: true});\n",
              "}}\n",
              "\n",
              "                        })                };                            </script>        </div>\n",
              "</body>\n",
              "</html>"
            ]
          },
          "metadata": {}
        }
      ]
    },
    {
      "cell_type": "code",
      "source": [
        "data[data['lambda']==6]"
      ],
      "metadata": {
        "colab": {
          "base_uri": "https://localhost:8080/",
          "height": 419
        },
        "id": "Xgi9Jf_qOJ1h",
        "outputId": "b5f8cfce-15b8-40d4-c25d-48aa5da9e1eb"
      },
      "execution_count": null,
      "outputs": [
        {
          "output_type": "execute_result",
          "data": {
            "text/plain": [
              "        lambda  alpha  beta  errore  sd_errore  lower_bound  upper_bound  \\\n",
              "108240     6.0   22.5  60.0  -0.988   4.992839   -10.973678     8.997678   \n",
              "108241     6.0   22.5  60.5  -0.956   5.262202   -11.480405     9.568405   \n",
              "108321     6.0   23.0  60.5  -0.888   5.065361   -11.018721     9.242721   \n",
              "108400     6.0   23.5  60.0  -0.798   5.285939   -11.369878     9.773878   \n",
              "108401     6.0   23.5  60.5  -0.542   5.196814   -10.935629     9.851629   \n",
              "...        ...    ...   ...     ...        ...          ...          ...   \n",
              "112155     6.0   46.5  97.5   0.743   6.658228   -12.573455    14.059455   \n",
              "112156     6.0   46.5  98.0   0.779   6.561987   -12.344974    13.902974   \n",
              "112157     6.0   46.5  98.5   0.295   6.369142   -12.443285    13.033285   \n",
              "112158     6.0   46.5  99.0   0.495   6.307248   -12.119496    13.109496   \n",
              "112236     6.0   47.0  98.0   0.777   6.484853   -12.192706    13.746706   \n",
              "\n",
              "          IC_size  \n",
              "108240  19.971355  \n",
              "108241  21.048810  \n",
              "108321  20.261443  \n",
              "108400  21.143756  \n",
              "108401  20.787257  \n",
              "...           ...  \n",
              "112155  26.632911  \n",
              "112156  26.247947  \n",
              "112157  25.476570  \n",
              "112158  25.228991  \n",
              "112236  25.939412  \n",
              "\n",
              "[1270 rows x 8 columns]"
            ],
            "text/html": [
              "\n",
              "  <div id=\"df-1bdf17b3-789f-4572-9724-2aa34b4fc4b9\" class=\"colab-df-container\">\n",
              "    <div>\n",
              "<style scoped>\n",
              "    .dataframe tbody tr th:only-of-type {\n",
              "        vertical-align: middle;\n",
              "    }\n",
              "\n",
              "    .dataframe tbody tr th {\n",
              "        vertical-align: top;\n",
              "    }\n",
              "\n",
              "    .dataframe thead th {\n",
              "        text-align: right;\n",
              "    }\n",
              "</style>\n",
              "<table border=\"1\" class=\"dataframe\">\n",
              "  <thead>\n",
              "    <tr style=\"text-align: right;\">\n",
              "      <th></th>\n",
              "      <th>lambda</th>\n",
              "      <th>alpha</th>\n",
              "      <th>beta</th>\n",
              "      <th>errore</th>\n",
              "      <th>sd_errore</th>\n",
              "      <th>lower_bound</th>\n",
              "      <th>upper_bound</th>\n",
              "      <th>IC_size</th>\n",
              "    </tr>\n",
              "  </thead>\n",
              "  <tbody>\n",
              "    <tr>\n",
              "      <th>108240</th>\n",
              "      <td>6.0</td>\n",
              "      <td>22.5</td>\n",
              "      <td>60.0</td>\n",
              "      <td>-0.988</td>\n",
              "      <td>4.992839</td>\n",
              "      <td>-10.973678</td>\n",
              "      <td>8.997678</td>\n",
              "      <td>19.971355</td>\n",
              "    </tr>\n",
              "    <tr>\n",
              "      <th>108241</th>\n",
              "      <td>6.0</td>\n",
              "      <td>22.5</td>\n",
              "      <td>60.5</td>\n",
              "      <td>-0.956</td>\n",
              "      <td>5.262202</td>\n",
              "      <td>-11.480405</td>\n",
              "      <td>9.568405</td>\n",
              "      <td>21.048810</td>\n",
              "    </tr>\n",
              "    <tr>\n",
              "      <th>108321</th>\n",
              "      <td>6.0</td>\n",
              "      <td>23.0</td>\n",
              "      <td>60.5</td>\n",
              "      <td>-0.888</td>\n",
              "      <td>5.065361</td>\n",
              "      <td>-11.018721</td>\n",
              "      <td>9.242721</td>\n",
              "      <td>20.261443</td>\n",
              "    </tr>\n",
              "    <tr>\n",
              "      <th>108400</th>\n",
              "      <td>6.0</td>\n",
              "      <td>23.5</td>\n",
              "      <td>60.0</td>\n",
              "      <td>-0.798</td>\n",
              "      <td>5.285939</td>\n",
              "      <td>-11.369878</td>\n",
              "      <td>9.773878</td>\n",
              "      <td>21.143756</td>\n",
              "    </tr>\n",
              "    <tr>\n",
              "      <th>108401</th>\n",
              "      <td>6.0</td>\n",
              "      <td>23.5</td>\n",
              "      <td>60.5</td>\n",
              "      <td>-0.542</td>\n",
              "      <td>5.196814</td>\n",
              "      <td>-10.935629</td>\n",
              "      <td>9.851629</td>\n",
              "      <td>20.787257</td>\n",
              "    </tr>\n",
              "    <tr>\n",
              "      <th>...</th>\n",
              "      <td>...</td>\n",
              "      <td>...</td>\n",
              "      <td>...</td>\n",
              "      <td>...</td>\n",
              "      <td>...</td>\n",
              "      <td>...</td>\n",
              "      <td>...</td>\n",
              "      <td>...</td>\n",
              "    </tr>\n",
              "    <tr>\n",
              "      <th>112155</th>\n",
              "      <td>6.0</td>\n",
              "      <td>46.5</td>\n",
              "      <td>97.5</td>\n",
              "      <td>0.743</td>\n",
              "      <td>6.658228</td>\n",
              "      <td>-12.573455</td>\n",
              "      <td>14.059455</td>\n",
              "      <td>26.632911</td>\n",
              "    </tr>\n",
              "    <tr>\n",
              "      <th>112156</th>\n",
              "      <td>6.0</td>\n",
              "      <td>46.5</td>\n",
              "      <td>98.0</td>\n",
              "      <td>0.779</td>\n",
              "      <td>6.561987</td>\n",
              "      <td>-12.344974</td>\n",
              "      <td>13.902974</td>\n",
              "      <td>26.247947</td>\n",
              "    </tr>\n",
              "    <tr>\n",
              "      <th>112157</th>\n",
              "      <td>6.0</td>\n",
              "      <td>46.5</td>\n",
              "      <td>98.5</td>\n",
              "      <td>0.295</td>\n",
              "      <td>6.369142</td>\n",
              "      <td>-12.443285</td>\n",
              "      <td>13.033285</td>\n",
              "      <td>25.476570</td>\n",
              "    </tr>\n",
              "    <tr>\n",
              "      <th>112158</th>\n",
              "      <td>6.0</td>\n",
              "      <td>46.5</td>\n",
              "      <td>99.0</td>\n",
              "      <td>0.495</td>\n",
              "      <td>6.307248</td>\n",
              "      <td>-12.119496</td>\n",
              "      <td>13.109496</td>\n",
              "      <td>25.228991</td>\n",
              "    </tr>\n",
              "    <tr>\n",
              "      <th>112236</th>\n",
              "      <td>6.0</td>\n",
              "      <td>47.0</td>\n",
              "      <td>98.0</td>\n",
              "      <td>0.777</td>\n",
              "      <td>6.484853</td>\n",
              "      <td>-12.192706</td>\n",
              "      <td>13.746706</td>\n",
              "      <td>25.939412</td>\n",
              "    </tr>\n",
              "  </tbody>\n",
              "</table>\n",
              "<p>1270 rows × 8 columns</p>\n",
              "</div>\n",
              "    <div class=\"colab-df-buttons\">\n",
              "\n",
              "  <div class=\"colab-df-container\">\n",
              "    <button class=\"colab-df-convert\" onclick=\"convertToInteractive('df-1bdf17b3-789f-4572-9724-2aa34b4fc4b9')\"\n",
              "            title=\"Convert this dataframe to an interactive table.\"\n",
              "            style=\"display:none;\">\n",
              "\n",
              "  <svg xmlns=\"http://www.w3.org/2000/svg\" height=\"24px\" viewBox=\"0 -960 960 960\">\n",
              "    <path d=\"M120-120v-720h720v720H120Zm60-500h600v-160H180v160Zm220 220h160v-160H400v160Zm0 220h160v-160H400v160ZM180-400h160v-160H180v160Zm440 0h160v-160H620v160ZM180-180h160v-160H180v160Zm440 0h160v-160H620v160Z\"/>\n",
              "  </svg>\n",
              "    </button>\n",
              "\n",
              "  <style>\n",
              "    .colab-df-container {\n",
              "      display:flex;\n",
              "      gap: 12px;\n",
              "    }\n",
              "\n",
              "    .colab-df-convert {\n",
              "      background-color: #E8F0FE;\n",
              "      border: none;\n",
              "      border-radius: 50%;\n",
              "      cursor: pointer;\n",
              "      display: none;\n",
              "      fill: #1967D2;\n",
              "      height: 32px;\n",
              "      padding: 0 0 0 0;\n",
              "      width: 32px;\n",
              "    }\n",
              "\n",
              "    .colab-df-convert:hover {\n",
              "      background-color: #E2EBFA;\n",
              "      box-shadow: 0px 1px 2px rgba(60, 64, 67, 0.3), 0px 1px 3px 1px rgba(60, 64, 67, 0.15);\n",
              "      fill: #174EA6;\n",
              "    }\n",
              "\n",
              "    .colab-df-buttons div {\n",
              "      margin-bottom: 4px;\n",
              "    }\n",
              "\n",
              "    [theme=dark] .colab-df-convert {\n",
              "      background-color: #3B4455;\n",
              "      fill: #D2E3FC;\n",
              "    }\n",
              "\n",
              "    [theme=dark] .colab-df-convert:hover {\n",
              "      background-color: #434B5C;\n",
              "      box-shadow: 0px 1px 3px 1px rgba(0, 0, 0, 0.15);\n",
              "      filter: drop-shadow(0px 1px 2px rgba(0, 0, 0, 0.3));\n",
              "      fill: #FFFFFF;\n",
              "    }\n",
              "  </style>\n",
              "\n",
              "    <script>\n",
              "      const buttonEl =\n",
              "        document.querySelector('#df-1bdf17b3-789f-4572-9724-2aa34b4fc4b9 button.colab-df-convert');\n",
              "      buttonEl.style.display =\n",
              "        google.colab.kernel.accessAllowed ? 'block' : 'none';\n",
              "\n",
              "      async function convertToInteractive(key) {\n",
              "        const element = document.querySelector('#df-1bdf17b3-789f-4572-9724-2aa34b4fc4b9');\n",
              "        const dataTable =\n",
              "          await google.colab.kernel.invokeFunction('convertToInteractive',\n",
              "                                                    [key], {});\n",
              "        if (!dataTable) return;\n",
              "\n",
              "        const docLinkHtml = 'Like what you see? Visit the ' +\n",
              "          '<a target=\"_blank\" href=https://colab.research.google.com/notebooks/data_table.ipynb>data table notebook</a>'\n",
              "          + ' to learn more about interactive tables.';\n",
              "        element.innerHTML = '';\n",
              "        dataTable['output_type'] = 'display_data';\n",
              "        await google.colab.output.renderOutput(dataTable, element);\n",
              "        const docLink = document.createElement('div');\n",
              "        docLink.innerHTML = docLinkHtml;\n",
              "        element.appendChild(docLink);\n",
              "      }\n",
              "    </script>\n",
              "  </div>\n",
              "\n",
              "\n",
              "<div id=\"df-83e865ca-a2ad-42db-809d-44ab5463e42f\">\n",
              "  <button class=\"colab-df-quickchart\" onclick=\"quickchart('df-83e865ca-a2ad-42db-809d-44ab5463e42f')\"\n",
              "            title=\"Suggest charts\"\n",
              "            style=\"display:none;\">\n",
              "\n",
              "<svg xmlns=\"http://www.w3.org/2000/svg\" height=\"24px\"viewBox=\"0 0 24 24\"\n",
              "     width=\"24px\">\n",
              "    <g>\n",
              "        <path d=\"M19 3H5c-1.1 0-2 .9-2 2v14c0 1.1.9 2 2 2h14c1.1 0 2-.9 2-2V5c0-1.1-.9-2-2-2zM9 17H7v-7h2v7zm4 0h-2V7h2v10zm4 0h-2v-4h2v4z\"/>\n",
              "    </g>\n",
              "</svg>\n",
              "  </button>\n",
              "\n",
              "<style>\n",
              "  .colab-df-quickchart {\n",
              "      --bg-color: #E8F0FE;\n",
              "      --fill-color: #1967D2;\n",
              "      --hover-bg-color: #E2EBFA;\n",
              "      --hover-fill-color: #174EA6;\n",
              "      --disabled-fill-color: #AAA;\n",
              "      --disabled-bg-color: #DDD;\n",
              "  }\n",
              "\n",
              "  [theme=dark] .colab-df-quickchart {\n",
              "      --bg-color: #3B4455;\n",
              "      --fill-color: #D2E3FC;\n",
              "      --hover-bg-color: #434B5C;\n",
              "      --hover-fill-color: #FFFFFF;\n",
              "      --disabled-bg-color: #3B4455;\n",
              "      --disabled-fill-color: #666;\n",
              "  }\n",
              "\n",
              "  .colab-df-quickchart {\n",
              "    background-color: var(--bg-color);\n",
              "    border: none;\n",
              "    border-radius: 50%;\n",
              "    cursor: pointer;\n",
              "    display: none;\n",
              "    fill: var(--fill-color);\n",
              "    height: 32px;\n",
              "    padding: 0;\n",
              "    width: 32px;\n",
              "  }\n",
              "\n",
              "  .colab-df-quickchart:hover {\n",
              "    background-color: var(--hover-bg-color);\n",
              "    box-shadow: 0 1px 2px rgba(60, 64, 67, 0.3), 0 1px 3px 1px rgba(60, 64, 67, 0.15);\n",
              "    fill: var(--button-hover-fill-color);\n",
              "  }\n",
              "\n",
              "  .colab-df-quickchart-complete:disabled,\n",
              "  .colab-df-quickchart-complete:disabled:hover {\n",
              "    background-color: var(--disabled-bg-color);\n",
              "    fill: var(--disabled-fill-color);\n",
              "    box-shadow: none;\n",
              "  }\n",
              "\n",
              "  .colab-df-spinner {\n",
              "    border: 2px solid var(--fill-color);\n",
              "    border-color: transparent;\n",
              "    border-bottom-color: var(--fill-color);\n",
              "    animation:\n",
              "      spin 1s steps(1) infinite;\n",
              "  }\n",
              "\n",
              "  @keyframes spin {\n",
              "    0% {\n",
              "      border-color: transparent;\n",
              "      border-bottom-color: var(--fill-color);\n",
              "      border-left-color: var(--fill-color);\n",
              "    }\n",
              "    20% {\n",
              "      border-color: transparent;\n",
              "      border-left-color: var(--fill-color);\n",
              "      border-top-color: var(--fill-color);\n",
              "    }\n",
              "    30% {\n",
              "      border-color: transparent;\n",
              "      border-left-color: var(--fill-color);\n",
              "      border-top-color: var(--fill-color);\n",
              "      border-right-color: var(--fill-color);\n",
              "    }\n",
              "    40% {\n",
              "      border-color: transparent;\n",
              "      border-right-color: var(--fill-color);\n",
              "      border-top-color: var(--fill-color);\n",
              "    }\n",
              "    60% {\n",
              "      border-color: transparent;\n",
              "      border-right-color: var(--fill-color);\n",
              "    }\n",
              "    80% {\n",
              "      border-color: transparent;\n",
              "      border-right-color: var(--fill-color);\n",
              "      border-bottom-color: var(--fill-color);\n",
              "    }\n",
              "    90% {\n",
              "      border-color: transparent;\n",
              "      border-bottom-color: var(--fill-color);\n",
              "    }\n",
              "  }\n",
              "</style>\n",
              "\n",
              "  <script>\n",
              "    async function quickchart(key) {\n",
              "      const quickchartButtonEl =\n",
              "        document.querySelector('#' + key + ' button');\n",
              "      quickchartButtonEl.disabled = true;  // To prevent multiple clicks.\n",
              "      quickchartButtonEl.classList.add('colab-df-spinner');\n",
              "      try {\n",
              "        const charts = await google.colab.kernel.invokeFunction(\n",
              "            'suggestCharts', [key], {});\n",
              "      } catch (error) {\n",
              "        console.error('Error during call to suggestCharts:', error);\n",
              "      }\n",
              "      quickchartButtonEl.classList.remove('colab-df-spinner');\n",
              "      quickchartButtonEl.classList.add('colab-df-quickchart-complete');\n",
              "    }\n",
              "    (() => {\n",
              "      let quickchartButtonEl =\n",
              "        document.querySelector('#df-83e865ca-a2ad-42db-809d-44ab5463e42f button');\n",
              "      quickchartButtonEl.style.display =\n",
              "        google.colab.kernel.accessAllowed ? 'block' : 'none';\n",
              "    })();\n",
              "  </script>\n",
              "</div>\n",
              "    </div>\n",
              "  </div>\n"
            ],
            "application/vnd.google.colaboratory.intrinsic+json": {
              "type": "dataframe",
              "summary": "{\n  \"name\": \"data[data['lambda']==6]\",\n  \"rows\": 1270,\n  \"fields\": [\n    {\n      \"column\": \"lambda\",\n      \"properties\": {\n        \"dtype\": \"number\",\n        \"std\": 0.0,\n        \"min\": 6.0,\n        \"max\": 6.0,\n        \"num_unique_values\": 1,\n        \"samples\": [\n          6.0\n        ],\n        \"semantic_type\": \"\",\n        \"description\": \"\"\n      }\n    },\n    {\n      \"column\": \"alpha\",\n      \"properties\": {\n        \"dtype\": \"number\",\n        \"std\": 5.377365553223557,\n        \"min\": 22.5,\n        \"max\": 47.0,\n        \"num_unique_values\": 50,\n        \"samples\": [\n          29.0\n        ],\n        \"semantic_type\": \"\",\n        \"description\": \"\"\n      }\n    },\n    {\n      \"column\": \"beta\",\n      \"properties\": {\n        \"dtype\": \"number\",\n        \"std\": 11.45627764075895,\n        \"min\": 60.0,\n        \"max\": 99.5,\n        \"num_unique_values\": 80,\n        \"samples\": [\n          75.5\n        ],\n        \"semantic_type\": \"\",\n        \"description\": \"\"\n      }\n    },\n    {\n      \"column\": \"errore\",\n      \"properties\": {\n        \"dtype\": \"number\",\n        \"std\": 0.5686087146254731,\n        \"min\": -0.9990000000000006,\n        \"max\": 0.997,\n        \"num_unique_values\": 947,\n        \"samples\": [\n          0.0510000000000001\n        ],\n        \"semantic_type\": \"\",\n        \"description\": \"\"\n      }\n    },\n    {\n      \"column\": \"sd_errore\",\n      \"properties\": {\n        \"dtype\": \"number\",\n        \"std\": 0.4799149614614318,\n        \"min\": 4.606738976760025,\n        \"max\": 7.03926636802444,\n        \"num_unique_values\": 1269,\n        \"samples\": [\n          5.767800187246434\n        ],\n        \"semantic_type\": \"\",\n        \"description\": \"\"\n      }\n    },\n    {\n      \"column\": \"lower_bound\",\n      \"properties\": {\n        \"dtype\": \"number\",\n        \"std\": 0.5260945398480651,\n        \"min\": -13.259335406577252,\n        \"max\": -10.157885943766761,\n        \"num_unique_values\": 1270,\n        \"samples\": [\n          -11.246600374492868\n        ],\n        \"semantic_type\": \"\",\n        \"description\": \"\"\n      }\n    },\n    {\n      \"column\": \"upper_bound\",\n      \"properties\": {\n        \"dtype\": \"number\",\n        \"std\": 1.487414951422211,\n        \"min\": 8.24247795352005,\n        \"max\": 15.05553273604888,\n        \"num_unique_values\": 1270,\n        \"samples\": [\n          11.824600374492867\n        ],\n        \"semantic_type\": \"\",\n        \"description\": \"\"\n      }\n    },\n    {\n      \"column\": \"IC_size\",\n      \"properties\": {\n        \"dtype\": \"number\",\n        \"std\": 1.9196598458457272,\n        \"min\": 18.4269559070401,\n        \"max\": 28.15706547209776,\n        \"num_unique_values\": 1269,\n        \"samples\": [\n          23.071200748985735\n        ],\n        \"semantic_type\": \"\",\n        \"description\": \"\"\n      }\n    }\n  ]\n}"
            }
          },
          "metadata": {},
          "execution_count": 60
        }
      ]
    },
    {
      "cell_type": "code",
      "execution_count": null,
      "metadata": {
        "id": "7XZyJ38idNdp",
        "colab": {
          "base_uri": "https://localhost:8080/",
          "height": 469
        },
        "outputId": "f9532593-bea8-4ae2-b3ab-61fb4931cda7"
      },
      "outputs": [
        {
          "output_type": "error",
          "ename": "KeyError",
          "evalue": "'errore'",
          "traceback": [
            "\u001b[0;31m---------------------------------------------------------------------------\u001b[0m",
            "\u001b[0;31mKeyError\u001b[0m                                  Traceback (most recent call last)",
            "\u001b[0;32m/usr/local/lib/python3.10/dist-packages/pandas/core/indexes/base.py\u001b[0m in \u001b[0;36mget_loc\u001b[0;34m(self, key)\u001b[0m\n\u001b[1;32m   3652\u001b[0m         \u001b[0;32mtry\u001b[0m\u001b[0;34m:\u001b[0m\u001b[0;34m\u001b[0m\u001b[0;34m\u001b[0m\u001b[0m\n\u001b[0;32m-> 3653\u001b[0;31m             \u001b[0;32mreturn\u001b[0m \u001b[0mself\u001b[0m\u001b[0;34m.\u001b[0m\u001b[0m_engine\u001b[0m\u001b[0;34m.\u001b[0m\u001b[0mget_loc\u001b[0m\u001b[0;34m(\u001b[0m\u001b[0mcasted_key\u001b[0m\u001b[0;34m)\u001b[0m\u001b[0;34m\u001b[0m\u001b[0;34m\u001b[0m\u001b[0m\n\u001b[0m\u001b[1;32m   3654\u001b[0m         \u001b[0;32mexcept\u001b[0m \u001b[0mKeyError\u001b[0m \u001b[0;32mas\u001b[0m \u001b[0merr\u001b[0m\u001b[0;34m:\u001b[0m\u001b[0;34m\u001b[0m\u001b[0;34m\u001b[0m\u001b[0m\n",
            "\u001b[0;32m/usr/local/lib/python3.10/dist-packages/pandas/_libs/index.pyx\u001b[0m in \u001b[0;36mpandas._libs.index.IndexEngine.get_loc\u001b[0;34m()\u001b[0m\n",
            "\u001b[0;32m/usr/local/lib/python3.10/dist-packages/pandas/_libs/index.pyx\u001b[0m in \u001b[0;36mpandas._libs.index.IndexEngine.get_loc\u001b[0;34m()\u001b[0m\n",
            "\u001b[0;32mpandas/_libs/hashtable_class_helper.pxi\u001b[0m in \u001b[0;36mpandas._libs.hashtable.PyObjectHashTable.get_item\u001b[0;34m()\u001b[0m\n",
            "\u001b[0;32mpandas/_libs/hashtable_class_helper.pxi\u001b[0m in \u001b[0;36mpandas._libs.hashtable.PyObjectHashTable.get_item\u001b[0;34m()\u001b[0m\n",
            "\u001b[0;31mKeyError\u001b[0m: 'errore'",
            "\nThe above exception was the direct cause of the following exception:\n",
            "\u001b[0;31mKeyError\u001b[0m                                  Traceback (most recent call last)",
            "\u001b[0;32m<ipython-input-452-8c7610b310eb>\u001b[0m in \u001b[0;36m<cell line: 6>\u001b[0;34m()\u001b[0m\n\u001b[1;32m      7\u001b[0m     \u001b[0malpha_idx\u001b[0m \u001b[0;34m=\u001b[0m \u001b[0mnp\u001b[0m\u001b[0;34m.\u001b[0m\u001b[0mwhere\u001b[0m\u001b[0;34m(\u001b[0m\u001b[0malphas\u001b[0m \u001b[0;34m==\u001b[0m \u001b[0mrow\u001b[0m\u001b[0;34m[\u001b[0m\u001b[0;34m\"alpha\"\u001b[0m\u001b[0;34m]\u001b[0m\u001b[0;34m)\u001b[0m\u001b[0;34m[\u001b[0m\u001b[0;36m0\u001b[0m\u001b[0;34m]\u001b[0m\u001b[0;34m[\u001b[0m\u001b[0;36m0\u001b[0m\u001b[0;34m]\u001b[0m\u001b[0;34m\u001b[0m\u001b[0;34m\u001b[0m\u001b[0m\n\u001b[1;32m      8\u001b[0m     \u001b[0mlambda_idx\u001b[0m \u001b[0;34m=\u001b[0m \u001b[0mnp\u001b[0m\u001b[0;34m.\u001b[0m\u001b[0mwhere\u001b[0m\u001b[0;34m(\u001b[0m\u001b[0mlambdas\u001b[0m \u001b[0;34m==\u001b[0m \u001b[0mrow\u001b[0m\u001b[0;34m[\u001b[0m\u001b[0;34m\"lambda\"\u001b[0m\u001b[0;34m]\u001b[0m\u001b[0;34m)\u001b[0m\u001b[0;34m[\u001b[0m\u001b[0;36m0\u001b[0m\u001b[0;34m]\u001b[0m\u001b[0;34m[\u001b[0m\u001b[0;36m0\u001b[0m\u001b[0;34m]\u001b[0m\u001b[0;34m\u001b[0m\u001b[0;34m\u001b[0m\u001b[0m\n\u001b[0;32m----> 9\u001b[0;31m     \u001b[0mheatmap_grid\u001b[0m\u001b[0;34m[\u001b[0m\u001b[0malpha_idx\u001b[0m\u001b[0;34m]\u001b[0m\u001b[0;34m[\u001b[0m\u001b[0mlambda_idx\u001b[0m\u001b[0;34m]\u001b[0m \u001b[0;34m=\u001b[0m \u001b[0mrow\u001b[0m\u001b[0;34m[\u001b[0m\u001b[0;34m\"errore\"\u001b[0m\u001b[0;34m]\u001b[0m\u001b[0;34m\u001b[0m\u001b[0;34m\u001b[0m\u001b[0m\n\u001b[0m",
            "\u001b[0;32m/usr/local/lib/python3.10/dist-packages/pandas/core/series.py\u001b[0m in \u001b[0;36m__getitem__\u001b[0;34m(self, key)\u001b[0m\n\u001b[1;32m   1005\u001b[0m \u001b[0;34m\u001b[0m\u001b[0m\n\u001b[1;32m   1006\u001b[0m         \u001b[0;32melif\u001b[0m \u001b[0mkey_is_scalar\u001b[0m\u001b[0;34m:\u001b[0m\u001b[0;34m\u001b[0m\u001b[0;34m\u001b[0m\u001b[0m\n\u001b[0;32m-> 1007\u001b[0;31m             \u001b[0;32mreturn\u001b[0m \u001b[0mself\u001b[0m\u001b[0;34m.\u001b[0m\u001b[0m_get_value\u001b[0m\u001b[0;34m(\u001b[0m\u001b[0mkey\u001b[0m\u001b[0;34m)\u001b[0m\u001b[0;34m\u001b[0m\u001b[0;34m\u001b[0m\u001b[0m\n\u001b[0m\u001b[1;32m   1008\u001b[0m \u001b[0;34m\u001b[0m\u001b[0m\n\u001b[1;32m   1009\u001b[0m         \u001b[0;32mif\u001b[0m \u001b[0mis_hashable\u001b[0m\u001b[0;34m(\u001b[0m\u001b[0mkey\u001b[0m\u001b[0;34m)\u001b[0m\u001b[0;34m:\u001b[0m\u001b[0;34m\u001b[0m\u001b[0;34m\u001b[0m\u001b[0m\n",
            "\u001b[0;32m/usr/local/lib/python3.10/dist-packages/pandas/core/series.py\u001b[0m in \u001b[0;36m_get_value\u001b[0;34m(self, label, takeable)\u001b[0m\n\u001b[1;32m   1114\u001b[0m \u001b[0;34m\u001b[0m\u001b[0m\n\u001b[1;32m   1115\u001b[0m         \u001b[0;31m# Similar to Index.get_value, but we do not fall back to positional\u001b[0m\u001b[0;34m\u001b[0m\u001b[0;34m\u001b[0m\u001b[0m\n\u001b[0;32m-> 1116\u001b[0;31m         \u001b[0mloc\u001b[0m \u001b[0;34m=\u001b[0m \u001b[0mself\u001b[0m\u001b[0;34m.\u001b[0m\u001b[0mindex\u001b[0m\u001b[0;34m.\u001b[0m\u001b[0mget_loc\u001b[0m\u001b[0;34m(\u001b[0m\u001b[0mlabel\u001b[0m\u001b[0;34m)\u001b[0m\u001b[0;34m\u001b[0m\u001b[0;34m\u001b[0m\u001b[0m\n\u001b[0m\u001b[1;32m   1117\u001b[0m \u001b[0;34m\u001b[0m\u001b[0m\n\u001b[1;32m   1118\u001b[0m         \u001b[0;32mif\u001b[0m \u001b[0mis_integer\u001b[0m\u001b[0;34m(\u001b[0m\u001b[0mloc\u001b[0m\u001b[0;34m)\u001b[0m\u001b[0;34m:\u001b[0m\u001b[0;34m\u001b[0m\u001b[0;34m\u001b[0m\u001b[0m\n",
            "\u001b[0;32m/usr/local/lib/python3.10/dist-packages/pandas/core/indexes/base.py\u001b[0m in \u001b[0;36mget_loc\u001b[0;34m(self, key)\u001b[0m\n\u001b[1;32m   3653\u001b[0m             \u001b[0;32mreturn\u001b[0m \u001b[0mself\u001b[0m\u001b[0;34m.\u001b[0m\u001b[0m_engine\u001b[0m\u001b[0;34m.\u001b[0m\u001b[0mget_loc\u001b[0m\u001b[0;34m(\u001b[0m\u001b[0mcasted_key\u001b[0m\u001b[0;34m)\u001b[0m\u001b[0;34m\u001b[0m\u001b[0;34m\u001b[0m\u001b[0m\n\u001b[1;32m   3654\u001b[0m         \u001b[0;32mexcept\u001b[0m \u001b[0mKeyError\u001b[0m \u001b[0;32mas\u001b[0m \u001b[0merr\u001b[0m\u001b[0;34m:\u001b[0m\u001b[0;34m\u001b[0m\u001b[0;34m\u001b[0m\u001b[0m\n\u001b[0;32m-> 3655\u001b[0;31m             \u001b[0;32mraise\u001b[0m \u001b[0mKeyError\u001b[0m\u001b[0;34m(\u001b[0m\u001b[0mkey\u001b[0m\u001b[0;34m)\u001b[0m \u001b[0;32mfrom\u001b[0m \u001b[0merr\u001b[0m\u001b[0;34m\u001b[0m\u001b[0;34m\u001b[0m\u001b[0m\n\u001b[0m\u001b[1;32m   3656\u001b[0m         \u001b[0;32mexcept\u001b[0m \u001b[0mTypeError\u001b[0m\u001b[0;34m:\u001b[0m\u001b[0;34m\u001b[0m\u001b[0;34m\u001b[0m\u001b[0m\n\u001b[1;32m   3657\u001b[0m             \u001b[0;31m# If we have a listlike key, _check_indexing_error will raise\u001b[0m\u001b[0;34m\u001b[0m\u001b[0;34m\u001b[0m\u001b[0m\n",
            "\u001b[0;31mKeyError\u001b[0m: 'errore'"
          ]
        }
      ],
      "source": [
        "data=pd.read_csv('/content/drive/MyDrive/thesis/data/grid_search_results.csv')\n",
        "alphas = data[\"alpha\"].unique()\n",
        "lambdas = data[\"lambda\"].unique()\n",
        "heatmap_grid = [[0 for _ in lambdas] for _ in alphas]\n",
        "\n",
        "for index, row in data.iterrows():\n",
        "    alpha_idx = np.where(alphas == row[\"alpha\"])[0][0]\n",
        "    lambda_idx = np.where(lambdas == row[\"lambda\"])[0][0]\n",
        "    heatmap_grid[alpha_idx][lambda_idx] = row[\"errore\"]\n"
      ]
    },
    {
      "cell_type": "code",
      "execution_count": null,
      "metadata": {
        "colab": {
          "base_uri": "https://localhost:8080/",
          "height": 564
        },
        "id": "U95nKnM0VNSr",
        "outputId": "d9247347-4d0d-48be-851c-a8f9342fbab2"
      },
      "outputs": [
        {
          "output_type": "display_data",
          "data": {
            "text/plain": [
              "<Figure size 1000x600 with 2 Axes>"
            ],
            "image/png": "[encoded data removed]"
          },
          "metadata": {}
        }
      ],
      "source": [
        "import seaborn as sns\n",
        "import matplotlib.pyplot as plt\n",
        "\n",
        "# Supponiamo che il tuo DataFrame sia già stato creato come 'df'\n",
        "\n",
        "# Creazione del heatmap\n",
        "df['errore']=df['errore'].abs()\n",
        "df=df.groupby(['lambda','alpha'])['mu_expected_value'].mean().reset_index()\n",
        "heatmap_data = df.pivot_table(index='alpha', columns='lambda', values='errore')\n",
        "plt.figure(figsize=(10, 6))\n",
        "sns.heatmap(heatmap_data, cmap='viridis_r', annot=False, fmt=\".3g\", linewidths=.5)\n",
        "plt.title('Heatmap di value_of_mean in base a lambda e alpha')\n",
        "plt.xlabel('Lambda')\n",
        "plt.ylabel('Alpha')\n",
        "plt.show()\n"
      ]
    },
    {
      "cell_type": "markdown",
      "source": [
        "# Simulate collective behavior"
      ],
      "metadata": {
        "id": "JujEXQyNVudf"
      }
    },
    {
      "cell_type": "code",
      "source": [
        "autoeccitamento=True\n",
        "parameter_pool=pd.read_csv('/content/drive/MyDrive/thesis/data/grid_search_results.csv')\n",
        "\n",
        "parameter_pool=parameter_pool[(parameter_pool['beta']==180) & (parameter_pool['alpha']<30) ]\n",
        "root=dataset[dataset['root_submission']=='0']\n",
        "root.sort_values(by='created_at', inplace=True)\n",
        "observed_data = np.array([np.datetime64(x.replace(tzinfo=None)).astype(np.int64) for x in root['created_at']])\n",
        "start_conversation=np.datetime64(min(root['created_at']).replace(tzinfo=None))\n",
        "end_conversation=np.datetime64(max(root['created_at']).replace(tzinfo=None))\n",
        "\n",
        "ℋ_t = (observed_data - start_conversation.astype(np.int64)) / (end_conversation.astype(np.int64) - start_conversation.astype(np.int64))\n",
        "\n",
        "first_comments_table = root.groupby('user')['created_at'].first().reset_index()\n",
        "first_comments = np.array([np.datetime64(x.replace(tzinfo=None)).astype(np.int64) for x in first_comments_table['created_at']])\n",
        "oss_staring_conversation = (first_comments - start_conversation.astype(np.int64)) / (end_conversation.astype(np.int64) - start_conversation.astype(np.int64))\n",
        "first_comments_table['created_at']=oss_staring_conversation\n",
        "\n",
        "last_comments_table = root.groupby('user')['created_at'].last().reset_index()\n",
        "last_comments = np.array([np.datetime64(x.replace(tzinfo=None)).astype(np.int64) for x in last_comments_table['created_at']])\n",
        "oss_finishing_conversation = (last_comments - start_conversation.astype(np.int64)) / (end_conversation.astype(np.int64) - start_conversation.astype(np.int64))\n",
        "last_comments_table['created_at']=oss_finishing_conversation\n",
        "\n",
        "user_activity=root['user'].value_counts().reset_index()\n",
        "\n",
        "\n",
        "simulated_thread_df = pd.DataFrame(columns=['user', 'timestamp'])  # Creiamo il DataFrame vuoto\n",
        "\n",
        "for index, row in (user_activity.iterrows()):\n",
        "  user_name = row['user']\n",
        "  number_of_comments = row['count']\n",
        "  t_init=first_comments_table[first_comments_table['user']==user_name]['created_at'].iloc[0]\n",
        "  t_final=last_comments_table[last_comments_table['user']==user_name]['created_at'].iloc[0]\n",
        "\n",
        "  if number_of_comments==1:\n",
        "    user_df = pd.DataFrame({'user': [user_name], 'timestamp': [t_init]})\n",
        "    simulated_thread_df = pd.concat([simulated_thread_df, user_df], ignore_index=True)\n",
        "  else:\n",
        "    if number_of_comments>20:\n",
        "      parameters_cool = parameter_pool.query(f\"({number_of_comments - 21} <= mu_expected_value.round() <= {number_of_comments + 21})\")\n",
        "    else:\n",
        "      parameters_cool = parameter_pool[parameter_pool['mu_expected_value'].round() == number_of_comments-2]\n",
        "    if autoeccitamento:\n",
        "      parameters_cool = parameters_cool.loc[parameters_cool['alpha'].idxmax()]\n",
        "    else:\n",
        "      parameters_cool =  parameters_cool.loc[parameters_cool['alpha'].idxmin()]\n",
        "    theta = np.array(parameters_cool[['lambda', 'alpha', 'beta']])\n",
        "\n",
        "    simulated_timestamp = exp_simulate_by_composition_alt(theta, 1)\n",
        "    simulated_timestamp=(simulated_timestamp*(t_final-t_init))+t_init\n",
        "    simulated_timestamp= np.concatenate(([t_init], simulated_timestamp,[t_final]))\n",
        "    user_df = pd.DataFrame({'user': [user_name] * (len(simulated_timestamp)), 'timestamp': simulated_timestamp})\n",
        "    simulated_thread_df = pd.concat([simulated_thread_df, user_df], ignore_index=True)\n",
        "\n",
        "simulated_thread_df.sort_values(by='timestamp', inplace=True)\n",
        "ℋ_t_simulated=simulated_thread_df['timestamp']\n",
        "\n",
        "# Test with metrics\n",
        "\n",
        "\n",
        "grouped_counts = root.groupby('user')['comment_id'].count()\n",
        "\n",
        "# Seleziona solo i valori maggiori di due\n",
        "selected_users = grouped_counts[grouped_counts > 5].reset_index().user\n",
        "\n",
        "root['time']=ℋ_t.round(2)\n",
        "root=root[root['user'].isin(selected_users)]\n",
        "grouped_counts = root.groupby('time').agg({'user': 'nunique', 'comment_id': 'nunique'}).reset_index()\n",
        "grouped_counts['Activity']=grouped_counts['comment_id']/grouped_counts['user']\n",
        "\n",
        "simulated_thread_df['time']=simulated_thread_df.timestamp.round(2)\n",
        "simulated_thread_df=simulated_thread_df[simulated_thread_df['user'].isin(selected_users)]\n",
        "grouped_counts_estimated = simulated_thread_df.groupby('time').agg(unique_users=('user', 'nunique'), total_users=('user', 'count')).reset_index()\n",
        "grouped_counts_estimated['Activity']=grouped_counts_estimated['total_users']/grouped_counts_estimated['unique_users']\n",
        "\n",
        "merged_data = pd.merge(grouped_counts_estimated, grouped_counts, on='time', suffixes=('_estimated', '_actual'))\n",
        "\n",
        "ℋ_t_simulated=simulated_thread_df['timestamp']\n",
        "ℋ_t=root['time']\n",
        "cumulative_dist_ℋ_t = np.arange(1, len(ℋ_t) + 1) / len(ℋ_t)\n",
        "cumulative_dist_ℋ_t_simulated = np.arange(1, len(ℋ_t_simulated) + 1) / len(ℋ_t_simulated)\n",
        "\n",
        "ks_statistic, p_value = ks_2samp(cumulative_dist_ℋ_t, cumulative_dist_ℋ_t_simulated)\n"
      ],
      "metadata": {
        "colab": {
          "base_uri": "https://localhost:8080/"
        },
        "id": "nZR2ar4HV26q",
        "outputId": "02b741c2-a448-42e8-d34f-9f675ce3b0df"
      },
      "execution_count": 338,
      "outputs": [
        {
          "output_type": "stream",
          "name": "stderr",
          "text": [
            "<ipython-input-338-30bd2ad9121d>:6: SettingWithCopyWarning: \n",
            "A value is trying to be set on a copy of a slice from a DataFrame\n",
            "\n",
            "See the caveats in the documentation: https://pandas.pydata.org/pandas-docs/stable/user_guide/indexing.html#returning-a-view-versus-a-copy\n",
            "  root.sort_values(by='created_at', inplace=True)\n",
            "<ipython-input-338-30bd2ad9121d>:65: SettingWithCopyWarning: \n",
            "A value is trying to be set on a copy of a slice from a DataFrame.\n",
            "Try using .loc[row_indexer,col_indexer] = value instead\n",
            "\n",
            "See the caveats in the documentation: https://pandas.pydata.org/pandas-docs/stable/user_guide/indexing.html#returning-a-view-versus-a-copy\n",
            "  root['time']=ℋ_t.round(2)\n"
          ]
        }
      ]
    },
    {
      "cell_type": "code",
      "source": [
        "x = [0]*len(ℋ_t)\n",
        "# Plot the scatter plot with colors\n",
        "plt.scatter(ℋ_t, x, label='ℋ_t', alpha=0.1,s=200)\n",
        "\n",
        "x = [1]*len(ℋ_t_simulated)\n",
        "# Plot the scatter plot with colors\n",
        "plt.scatter(ℋ_t_simulated, x, label='ℋ_t_simulated', alpha=0.1,s=150)\n",
        "\n",
        "# Plot the horizontal line\n",
        "plt.axhline(0, color='r', linestyle='--', label='Horizontal Line')\n",
        "\n",
        "# Add labels and legend\n",
        "plt.xlabel('Index')\n",
        "plt.ylabel('Values')\n",
        "plt.xlim(0,1)\n",
        "plt.ylim(-0.2,1.5)\n",
        "plt.legend()\n",
        "\n",
        "# Show plot\n",
        "plt.show()"
      ],
      "metadata": {
        "colab": {
          "base_uri": "https://localhost:8080/",
          "height": 449
        },
        "id": "kPkYP5PslwUg",
        "outputId": "3d511bb4-41ae-42a3-d006-2a341ee156fa"
      },
      "execution_count": 342,
      "outputs": [
        {
          "output_type": "display_data",
          "data": {
            "text/plain": [
              "<Figure size 640x480 with 1 Axes>"
            ],
            "image/png": "[encoded data removed]"
          },
          "metadata": {}
        }
      ]
    },
    {
      "cell_type": "code",
      "source": [
        "import numpy as np\n",
        "import matplotlib.pyplot as plt\n",
        "\n",
        "# Assuming ℋ_t and ℋ_t_simulated are arrays of event times\n",
        "\n",
        "# Calculate cumulative distributions\n",
        "cumulative_dist_ℋ_t = np.arange(1, len(ℋ_t) + 1) / len(ℋ_t)\n",
        "cumulative_dist_ℋ_t_simulated = np.arange(1, len(ℋ_t_simulated) + 1) / len(ℋ_t_simulated)\n",
        "\n",
        "# Plot the cumulative distributions\n",
        "plt.plot(np.sort(ℋ_t), cumulative_dist_ℋ_t, label='ℋ_t Cumulative Distribution')\n",
        "plt.plot(np.sort(ℋ_t_simulated), cumulative_dist_ℋ_t_simulated, label='ℋ_t_simulated Cumulative Distribution')\n",
        "\n",
        "# Add labels and legend\n",
        "plt.xlabel('Event Time')\n",
        "plt.ylabel('Cumulative Probability')\n",
        "plt.legend()\n",
        "\n",
        "# Show plot\n",
        "plt.show()\n"
      ],
      "metadata": {
        "colab": {
          "base_uri": "https://localhost:8080/",
          "height": 449
        },
        "id": "f_Iz9b1RD5bo",
        "outputId": "6c3f5414-4398-4484-b512-db5f5fd1d0fe"
      },
      "execution_count": 340,
      "outputs": [
        {
          "output_type": "display_data",
          "data": {
            "text/plain": [
              "<Figure size 640x480 with 1 Axes>"
            ],
            "image/png": "[encoded data removed]"
          },
          "metadata": {}
        }
      ]
    },
    {
      "cell_type": "code",
      "source": [
        "from scipy.stats import ks_2samp\n",
        "\n",
        "# Calculate KS statistic and p-value\n",
        "ks_statistic, p_value = ks_2samp(cumulative_dist_ℋ_t, cumulative_dist_ℋ_t_simulated)\n",
        "\n",
        "print(\"KS Statistic:\", ks_statistic)\n",
        "print(\"p-value:\", p_value)\n"
      ],
      "metadata": {
        "colab": {
          "base_uri": "https://localhost:8080/"
        },
        "id": "xFyPaNm0EEjn",
        "outputId": "7abe624e-9fcd-4bb2-d303-f07d13a397d5"
      },
      "execution_count": 343,
      "outputs": [
        {
          "output_type": "stream",
          "name": "stdout",
          "text": [
            "KS Statistic: 0.03337041156840934\n",
            "p-value: 1.0\n"
          ]
        }
      ]
    },
    {
      "cell_type": "markdown",
      "source": [
        "# Test with Metrics"
      ],
      "metadata": {
        "id": "Nc3jfZmbxBUq"
      }
    },
    {
      "cell_type": "code",
      "source": [
        "grouped_counts = root.groupby('user')['comment_id'].count()\n",
        "\n",
        "# Seleziona solo i valori maggiori di due\n",
        "selected_users = grouped_counts[grouped_counts > 5].reset_index().user\n",
        "\n",
        "\n",
        "root['time']=ℋ_t.round(2)\n",
        "root=root[root['user'].isin(selected_users)]\n",
        "grouped_counts = root.groupby('time').agg({'user': 'nunique', 'comment_id': 'nunique'}).reset_index()\n",
        "grouped_counts['Activity']=grouped_counts['comment_id']/grouped_counts['user']\n",
        "\n",
        "len(root.user.unique())\n",
        "len(simulated_thread_df.user.unique())\n",
        "\n",
        "\n",
        "simulated_thread_df['time']=simulated_thread_df.timestamp.round(2)\n",
        "simulated_thread_df=simulated_thread_df[simulated_thread_df['user'].isin(selected_users)]\n",
        "grouped_counts_estimated = simulated_thread_df.groupby('time').agg(unique_users=('user', 'nunique'), total_users=('user', 'count')).reset_index()\n",
        "grouped_counts_estimated['Activity']=grouped_counts_estimated['total_users']/grouped_counts_estimated['unique_users']\n",
        "\n",
        "\n",
        "\n",
        "merged_data = pd.merge(grouped_counts_estimated, grouped_counts, on='time', suffixes=('_estimated', '_actual'))\n",
        "'''\n",
        "import matplotlib.pyplot as plt\n",
        "\n",
        "# Plot dei punti 'y' (Activity_actual)\n",
        "plt.scatter(merged_data['time'], merged_data['Activity_actual'], label='Activity_actual', alpha=0.5)\n",
        "\n",
        "# Plot dei punti 'y_hat' (Activity_estimated)\n",
        "plt.scatter(merged_data['time'], merged_data['Activity_estimated'], label='Activity_estimated', alpha=0.5)\n",
        "\n",
        "# Colleghi i punti 'y' con una linea\n",
        "plt.plot(merged_data['time'], merged_data['Activity_actual'], linestyle='-', color='blue')\n",
        "\n",
        "# Colleghi i punti 'y_hat' con una linea\n",
        "plt.plot(merged_data['time'], merged_data['Activity_estimated'], linestyle='-', color='orange')\n",
        "\n",
        "# Aggiungi etichette agli assi\n",
        "plt.xlabel('Time')\n",
        "plt.ylabel('Activity')\n",
        "\n",
        "# Aggiungi una legenda\n",
        "plt.legend()\n",
        "\n",
        "# Mostra il plot\n",
        "plt.show()\n",
        "'''\n",
        "\n",
        "\n",
        "import numpy as np\n",
        "import matplotlib.pyplot as plt\n",
        "\n",
        "# Assuming ℋ_t and ℋ_t_simulated are arrays of event times\n",
        "\n",
        "# Calculate cumulative distributions\n",
        "\n",
        "ℋ_t_simulated=simulated_thread_df['timestamp']\n",
        "ℋ_t=root['time']\n",
        "cumulative_dist_ℋ_t = np.arange(1, len(ℋ_t) + 1) / len(ℋ_t)\n",
        "cumulative_dist_ℋ_t_simulated = np.arange(1, len(ℋ_t_simulated) + 1) / len(ℋ_t_simulated)\n",
        "\n",
        "# Plot the cumulative distributions\n",
        "plt.plot(np.sort(ℋ_t), cumulative_dist_ℋ_t, label='ℋ_t Cumulative Distribution')\n",
        "plt.plot(np.sort(ℋ_t_simulated), cumulative_dist_ℋ_t_simulated, label='ℋ_t_simulated Cumulative Distribution')\n",
        "\n",
        "# Add labels and legend\n",
        "plt.xlabel('Event Time')\n",
        "plt.ylabel('Cumulative Probability')\n",
        "plt.legend()\n",
        "\n",
        "# Show plot\n",
        "plt.show()\n",
        "\n",
        "\n",
        "\n",
        "from scipy.stats import ks_2samp\n",
        "# NON FUNZION APORCODDIOOO\n",
        "# Assuming cumulative_dist_ℋ_t and cumulative_dist_ℋ_t_simulated are arrays of cumulative distributions\n",
        "\n",
        "# Calculate KS statistic and p-value\n",
        "ks_statistic, p_value = ks_2samp(cumulative_dist_ℋ_t, cumulative_dist_ℋ_t_simulated)\n",
        "\n",
        "print(\"KS Statistic:\", ks_statistic)\n",
        "print(\"p-value:\", p_value)\n"
      ],
      "metadata": {
        "colab": {
          "base_uri": "https://localhost:8080/",
          "height": 483
        },
        "id": "99VxF0_Pl2DG",
        "outputId": "ec3ef2a3-d732-4f95-a1b0-4b1064bdc071"
      },
      "execution_count": 317,
      "outputs": [
        {
          "output_type": "display_data",
          "data": {
            "text/plain": [
              "<Figure size 640x480 with 1 Axes>"
            ],
            "image/png": "[encoded data removed]"
          },
          "metadata": {}
        },
        {
          "output_type": "stream",
          "name": "stdout",
          "text": [
            "KS Statistic: 0.0438871473354232\n",
            "p-value: 0.9999999999998974\n"
          ]
        }
      ]
    },
    {
      "cell_type": "markdown",
      "source": [
        "# Identify best value of Beta"
      ],
      "metadata": {
        "id": "mp0qsOktz8cV"
      }
    },
    {
      "cell_type": "code",
      "source": [
        "import pandas as pd\n",
        "import numpy as np\n",
        "from scipy.stats import ks_2samp\n",
        "grid_search_results=pd.read_csv('/content/drive/MyDrive/thesis/data/grid_search_results.csv')\n",
        "def simulate_behaviour(alpha,beta,root_id):\n",
        "  start_time = time.time()\n",
        "  parameter_pool=grid_search_results\n",
        "\n",
        "  parameter_pool=parameter_pool[(parameter_pool['beta']==beta) & (parameter_pool['alpha']<alpha) ].copy()\n",
        "  root=dataset[dataset['root_submission']==root_id]\n",
        "  root = root.sort_values(by='created_at')\n",
        "  observed_data = np.array([np.datetime64(x.replace(tzinfo=None)).astype(np.int64) for x in root['created_at']])\n",
        "  start_conversation=np.datetime64(min(root['created_at']).replace(tzinfo=None))\n",
        "  end_conversation=np.datetime64(max(root['created_at']).replace(tzinfo=None))\n",
        "\n",
        "  ℋ_t=root['time'] = (np.array([np.datetime64(x.replace(tzinfo=None)).astype(np.int64) for x in root['created_at']]) - start_conversation.astype(np.int64)) / (end_conversation.astype(np.int64) - start_conversation.astype(np.int64)).copy()\n",
        "\n",
        "  first_comments_table = root.groupby('user')['created_at'].first().reset_index()\n",
        "  first_comments = np.array([np.datetime64(x.replace(tzinfo=None)).astype(np.int64) for x in first_comments_table['created_at']])\n",
        "  oss_staring_conversation = (first_comments - start_conversation.astype(np.int64)) / (end_conversation.astype(np.int64) - start_conversation.astype(np.int64))\n",
        "  first_comments_table['created_at']=oss_staring_conversation\n",
        "\n",
        "  last_comments_table = root.groupby('user')['created_at'].last().reset_index()\n",
        "  last_comments = np.array([np.datetime64(x.replace(tzinfo=None)).astype(np.int64) for x in last_comments_table['created_at']])\n",
        "  oss_finishing_conversation = (last_comments - start_conversation.astype(np.int64)) / (end_conversation.astype(np.int64) - start_conversation.astype(np.int64))\n",
        "  last_comments_table['created_at']=oss_finishing_conversation\n",
        "\n",
        "  user_activity=root['user'].value_counts().reset_index()\n",
        "\n",
        "  simulated_thread_df = pd.DataFrame(columns=['user', 'timestamp'])  # Creiamo il DataFrame vuoto\n",
        "\n",
        "\n",
        "  for index, row in (user_activity.iterrows()):\n",
        "    user_name = row['user']\n",
        "    number_of_comments = row['count']\n",
        "    t_init=first_comments_table[first_comments_table['user']==user_name]['created_at'].iloc[0]\n",
        "    t_final=last_comments_table[last_comments_table['user']==user_name]['created_at'].iloc[0]\n",
        "\n",
        "    if number_of_comments==1:\n",
        "      user_df = pd.DataFrame({'user': [user_name], 'timestamp': [t_init]})\n",
        "      simulated_thread_df = pd.concat([simulated_thread_df, user_df], ignore_index=True)\n",
        "    else:\n",
        "      if sum(parameter_pool['mu_expected_value'].round() == number_of_comments-2)==0:\n",
        "        parameters_cool = parameter_pool.query(f\"({number_of_comments - 20} <= mu_expected_value.round() <= {number_of_comments + 20})\")\n",
        "        parameters_cool = parameters_cool.loc[parameters_cool['alpha'].idxmax()]\n",
        "      else:\n",
        "        parameters_cool = parameter_pool[parameter_pool['mu_expected_value'].round() == number_of_comments-2]\n",
        "        parameters_cool = parameters_cool.loc[parameters_cool['alpha'].idxmax()]\n",
        "      theta = np.array(parameters_cool[['lambda', 'alpha', 'beta']])\n",
        "\n",
        "      simulated_timestamp = exp_simulate_by_composition_alt(theta, 1)\n",
        "      simulated_timestamp=(simulated_timestamp*(t_final-t_init))+t_init\n",
        "      simulated_timestamp= np.concatenate(([t_init], simulated_timestamp,[t_final]))\n",
        "      user_df = pd.DataFrame({'user': [user_name] * (len(simulated_timestamp)), 'timestamp': simulated_timestamp})\n",
        "      simulated_thread_df = pd.concat([simulated_thread_df, user_df], ignore_index=True)\n",
        "\n",
        "  simulated_thread_df.sort_values(by='timestamp', inplace=True)\n",
        "  ℋ_t_simulated=simulated_thread_df['timestamp']\n",
        "\n",
        "  # Test with metrics\n",
        "\n",
        "\n",
        "  grouped_counts = root.groupby('user')['comment_id'].count()\n",
        "\n",
        "  # Seleziona solo i valori maggiori di due\n",
        "  selected_users = grouped_counts[grouped_counts > 10].reset_index().user\n",
        "  if len(selected_users)>0:\n",
        "    root.loc[:, 'time'] = root.time.round(2)\n",
        "    root=root[root['user'].isin(selected_users)]\n",
        "    grouped_counts = root.groupby('time').agg({'user': 'nunique', 'comment_id': 'nunique'}).reset_index()\n",
        "    grouped_counts['Activity']=grouped_counts['comment_id']/grouped_counts['user']\n",
        "\n",
        "    simulated_thread_df['time']=simulated_thread_df.timestamp.round(2)\n",
        "    simulated_thread_df=simulated_thread_df[simulated_thread_df['user'].isin(selected_users)]\n",
        "    grouped_counts_estimated = simulated_thread_df.groupby('time').agg(unique_users=('user', 'nunique'), total_users=('user', 'count')).reset_index()\n",
        "    grouped_counts_estimated['Activity']=grouped_counts_estimated['total_users']/grouped_counts_estimated['unique_users']\n",
        "\n",
        "    merged_data = pd.merge(grouped_counts_estimated, grouped_counts, on='time', suffixes=('_estimated', '_actual'))\n",
        "\n",
        "    ℋ_t_simulated=simulated_thread_df['timestamp']\n",
        "    ℋ_t=root['time']\n",
        "    cumulative_dist_ℋ_t = np.arange(1, len(ℋ_t) + 1) / len(ℋ_t)\n",
        "    cumulative_dist_ℋ_t_simulated = np.arange(1, len(ℋ_t_simulated) + 1) / len(ℋ_t_simulated)\n",
        "\n",
        "    ks_statistic, p_value = ks_2samp(cumulative_dist_ℋ_t, cumulative_dist_ℋ_t_simulated)\n",
        "\n",
        "    return ks_statistic\n",
        "  else:\n",
        "    return 100"
      ],
      "metadata": {
        "id": "xruHuLizx4lf"
      },
      "execution_count": 413,
      "outputs": []
    },
    {
      "cell_type": "code",
      "source": [
        "import numpy as np\n",
        "from scipy.stats import ks_2samp\n",
        "from tqdm import tqdm\n",
        "\n",
        "def compare_distributions(root_id, beta, alpha):\n",
        "    ks_results_no_ex = []\n",
        "    ks_results_ex = []\n",
        "\n",
        "    # Simulate for beta\n",
        "    for i in (range(30)):\n",
        "        ks = simulate_behaviour(alpha, beta, root_id)\n",
        "        ks_results_ex.append(ks)\n",
        "        ks = simulate_behaviour(0.5, beta, root_id)\n",
        "        ks_results_no_ex.append(ks)\n",
        "\n",
        "\n",
        "    # Calculate KS statistic and p-value\n",
        "    ks_statistic, p_value = ks_2samp(ks_results_ex, ks_results_no_ex)\n",
        "\n",
        "    print(\"KS Statistic:\", ks_statistic)\n",
        "    print(\"P-Value:\", p_value)\n",
        "\n",
        "    if np.mean(ks_results_ex)<np.mean(ks_results_no_ex):\n",
        "      return True, p_value\n",
        "    else:\n",
        "      return False, p_value\n",
        "\n",
        "\n",
        "comment_counts = dataset.groupby('root_submission').size().reset_index(name='comment_count')\n",
        "root_submission_50 = comment_counts[comment_counts['comment_count'] >= 50]\n",
        "\n",
        "\n",
        "import pandas as pd\n",
        "from tqdm import tqdm\n",
        "\n",
        "# Create an empty DataFrame to store the results\n",
        "root_ids = []\n",
        "results=[]\n",
        "signficances=[]\n",
        "alpha=20\n",
        "beta=80\n",
        "\n",
        "# Loop over each root_submission that appears at least 50 times\n",
        "for root_id in tqdm(root_submission_50['root_submission'].unique()[1:100], desc=\"Processing root submissions\"):\n",
        "    # Perform comparison and get KS statistic and p-value\n",
        "    ks_statistic, p_value = compare_distributions(root_id, beta, alpha)\n",
        "    root_ids.append(root_id)\n",
        "    results.append(ks_statistic)\n",
        "    signficances.append(p_value)\n",
        "    # Append results to the DataFrame\n",
        "results_df = {'root_ids': root_ids, 'results': results, 'signficances': signficances,'beta':beta,'alpha':alpha }\n",
        "results_df = pd.DataFrame(results_df)\n",
        "\n",
        "results_df.to_csv('/content/drive/MyDrive/thesis/data/is_improving_ex_on_roots.csv')"
      ],
      "metadata": {
        "colab": {
          "base_uri": "https://localhost:8080/",
          "height": 367
        },
        "id": "eoRDN9tMNxcd",
        "outputId": "d538512c-d5d7-45bd-fd76-d3f5eea29ead"
      },
      "execution_count": 416,
      "outputs": [
        {
          "output_type": "stream",
          "name": "stderr",
          "text": [
            "Processing root submissions:   0%|          | 0/99 [00:23<?, ?it/s]\n"
          ]
        },
        {
          "output_type": "error",
          "ename": "KeyboardInterrupt",
          "evalue": "",
          "traceback": [
            "\u001b[0;31m---------------------------------------------------------------------------\u001b[0m",
            "\u001b[0;31mKeyboardInterrupt\u001b[0m                         Traceback (most recent call last)",
            "\u001b[0;32m<ipython-input-416-fc021597a180>\u001b[0m in \u001b[0;36m<cell line: 44>\u001b[0;34m()\u001b[0m\n\u001b[1;32m     44\u001b[0m \u001b[0;32mfor\u001b[0m \u001b[0mroot_id\u001b[0m \u001b[0;32min\u001b[0m \u001b[0mtqdm\u001b[0m\u001b[0;34m(\u001b[0m\u001b[0mroot_submission_50\u001b[0m\u001b[0;34m[\u001b[0m\u001b[0;34m'root_submission'\u001b[0m\u001b[0;34m]\u001b[0m\u001b[0;34m.\u001b[0m\u001b[0munique\u001b[0m\u001b[0;34m(\u001b[0m\u001b[0;34m)\u001b[0m\u001b[0;34m[\u001b[0m\u001b[0;36m1\u001b[0m\u001b[0;34m:\u001b[0m\u001b[0;36m100\u001b[0m\u001b[0;34m]\u001b[0m\u001b[0;34m,\u001b[0m \u001b[0mdesc\u001b[0m\u001b[0;34m=\u001b[0m\u001b[0;34m\"Processing root submissions\"\u001b[0m\u001b[0;34m)\u001b[0m\u001b[0;34m:\u001b[0m\u001b[0;34m\u001b[0m\u001b[0;34m\u001b[0m\u001b[0m\n\u001b[1;32m     45\u001b[0m     \u001b[0;31m# Perform comparison and get KS statistic and p-value\u001b[0m\u001b[0;34m\u001b[0m\u001b[0;34m\u001b[0m\u001b[0m\n\u001b[0;32m---> 46\u001b[0;31m     \u001b[0mks_statistic\u001b[0m\u001b[0;34m,\u001b[0m \u001b[0mp_value\u001b[0m \u001b[0;34m=\u001b[0m \u001b[0mcompare_distributions\u001b[0m\u001b[0;34m(\u001b[0m\u001b[0mroot_id\u001b[0m\u001b[0;34m,\u001b[0m \u001b[0mbeta\u001b[0m\u001b[0;34m,\u001b[0m \u001b[0malpha\u001b[0m\u001b[0;34m)\u001b[0m\u001b[0;34m\u001b[0m\u001b[0;34m\u001b[0m\u001b[0m\n\u001b[0m\u001b[1;32m     47\u001b[0m     \u001b[0mroot_ids\u001b[0m\u001b[0;34m.\u001b[0m\u001b[0mappend\u001b[0m\u001b[0;34m(\u001b[0m\u001b[0mroot_id\u001b[0m\u001b[0;34m)\u001b[0m\u001b[0;34m\u001b[0m\u001b[0;34m\u001b[0m\u001b[0m\n\u001b[1;32m     48\u001b[0m     \u001b[0mresults\u001b[0m\u001b[0;34m.\u001b[0m\u001b[0mappend\u001b[0m\u001b[0;34m(\u001b[0m\u001b[0mks_statistic\u001b[0m\u001b[0;34m)\u001b[0m\u001b[0;34m\u001b[0m\u001b[0;34m\u001b[0m\u001b[0m\n",
            "\u001b[0;32m<ipython-input-416-fc021597a180>\u001b[0m in \u001b[0;36mcompare_distributions\u001b[0;34m(root_id, beta, alpha)\u001b[0m\n\u001b[1;32m      9\u001b[0m     \u001b[0;31m# Simulate for beta\u001b[0m\u001b[0;34m\u001b[0m\u001b[0;34m\u001b[0m\u001b[0m\n\u001b[1;32m     10\u001b[0m     \u001b[0;32mfor\u001b[0m \u001b[0mi\u001b[0m \u001b[0;32min\u001b[0m \u001b[0;34m(\u001b[0m\u001b[0mrange\u001b[0m\u001b[0;34m(\u001b[0m\u001b[0;36m30\u001b[0m\u001b[0;34m)\u001b[0m\u001b[0;34m)\u001b[0m\u001b[0;34m:\u001b[0m\u001b[0;34m\u001b[0m\u001b[0;34m\u001b[0m\u001b[0m\n\u001b[0;32m---> 11\u001b[0;31m         \u001b[0mks\u001b[0m \u001b[0;34m=\u001b[0m \u001b[0msimulate_behaviour\u001b[0m\u001b[0;34m(\u001b[0m\u001b[0malpha\u001b[0m\u001b[0;34m,\u001b[0m \u001b[0mbeta\u001b[0m\u001b[0;34m,\u001b[0m \u001b[0mroot_id\u001b[0m\u001b[0;34m)\u001b[0m\u001b[0;34m\u001b[0m\u001b[0;34m\u001b[0m\u001b[0m\n\u001b[0m\u001b[1;32m     12\u001b[0m         \u001b[0mks_results_ex\u001b[0m\u001b[0;34m.\u001b[0m\u001b[0mappend\u001b[0m\u001b[0;34m(\u001b[0m\u001b[0mks\u001b[0m\u001b[0;34m)\u001b[0m\u001b[0;34m\u001b[0m\u001b[0;34m\u001b[0m\u001b[0m\n\u001b[1;32m     13\u001b[0m         \u001b[0mks\u001b[0m \u001b[0;34m=\u001b[0m \u001b[0msimulate_behaviour\u001b[0m\u001b[0;34m(\u001b[0m\u001b[0;36m0.5\u001b[0m\u001b[0;34m,\u001b[0m \u001b[0mbeta\u001b[0m\u001b[0;34m,\u001b[0m \u001b[0mroot_id\u001b[0m\u001b[0;34m)\u001b[0m\u001b[0;34m\u001b[0m\u001b[0;34m\u001b[0m\u001b[0m\n",
            "\u001b[0;32m<ipython-input-413-089552c036a8>\u001b[0m in \u001b[0;36msimulate_behaviour\u001b[0;34m(alpha, beta, root_id)\u001b[0m\n\u001b[1;32m     45\u001b[0m         \u001b[0mparameters_cool\u001b[0m \u001b[0;34m=\u001b[0m \u001b[0mparameters_cool\u001b[0m\u001b[0;34m.\u001b[0m\u001b[0mloc\u001b[0m\u001b[0;34m[\u001b[0m\u001b[0mparameters_cool\u001b[0m\u001b[0;34m[\u001b[0m\u001b[0;34m'alpha'\u001b[0m\u001b[0;34m]\u001b[0m\u001b[0;34m.\u001b[0m\u001b[0midxmax\u001b[0m\u001b[0;34m(\u001b[0m\u001b[0;34m)\u001b[0m\u001b[0;34m]\u001b[0m\u001b[0;34m\u001b[0m\u001b[0;34m\u001b[0m\u001b[0m\n\u001b[1;32m     46\u001b[0m       \u001b[0;32melse\u001b[0m\u001b[0;34m:\u001b[0m\u001b[0;34m\u001b[0m\u001b[0;34m\u001b[0m\u001b[0m\n\u001b[0;32m---> 47\u001b[0;31m         \u001b[0mparameters_cool\u001b[0m \u001b[0;34m=\u001b[0m \u001b[0mparameter_pool\u001b[0m\u001b[0;34m[\u001b[0m\u001b[0mparameter_pool\u001b[0m\u001b[0;34m[\u001b[0m\u001b[0;34m'mu_expected_value'\u001b[0m\u001b[0;34m]\u001b[0m\u001b[0;34m.\u001b[0m\u001b[0mround\u001b[0m\u001b[0;34m(\u001b[0m\u001b[0;34m)\u001b[0m \u001b[0;34m==\u001b[0m \u001b[0mnumber_of_comments\u001b[0m\u001b[0;34m-\u001b[0m\u001b[0;36m2\u001b[0m\u001b[0;34m]\u001b[0m\u001b[0;34m\u001b[0m\u001b[0;34m\u001b[0m\u001b[0m\n\u001b[0m\u001b[1;32m     48\u001b[0m         \u001b[0mparameters_cool\u001b[0m \u001b[0;34m=\u001b[0m \u001b[0mparameters_cool\u001b[0m\u001b[0;34m.\u001b[0m\u001b[0mloc\u001b[0m\u001b[0;34m[\u001b[0m\u001b[0mparameters_cool\u001b[0m\u001b[0;34m[\u001b[0m\u001b[0;34m'alpha'\u001b[0m\u001b[0;34m]\u001b[0m\u001b[0;34m.\u001b[0m\u001b[0midxmax\u001b[0m\u001b[0;34m(\u001b[0m\u001b[0;34m)\u001b[0m\u001b[0;34m]\u001b[0m\u001b[0;34m\u001b[0m\u001b[0;34m\u001b[0m\u001b[0m\n\u001b[1;32m     49\u001b[0m       \u001b[0mtheta\u001b[0m \u001b[0;34m=\u001b[0m \u001b[0mnp\u001b[0m\u001b[0;34m.\u001b[0m\u001b[0marray\u001b[0m\u001b[0;34m(\u001b[0m\u001b[0mparameters_cool\u001b[0m\u001b[0;34m[\u001b[0m\u001b[0;34m[\u001b[0m\u001b[0;34m'lambda'\u001b[0m\u001b[0;34m,\u001b[0m \u001b[0;34m'alpha'\u001b[0m\u001b[0;34m,\u001b[0m \u001b[0;34m'beta'\u001b[0m\u001b[0;34m]\u001b[0m\u001b[0;34m]\u001b[0m\u001b[0;34m)\u001b[0m\u001b[0;34m\u001b[0m\u001b[0;34m\u001b[0m\u001b[0m\n",
            "\u001b[0;32m/usr/local/lib/python3.10/dist-packages/pandas/core/frame.py\u001b[0m in \u001b[0;36m__getitem__\u001b[0;34m(self, key)\u001b[0m\n\u001b[1;32m   3750\u001b[0m         \u001b[0;31m# Do we have a (boolean) 1d indexer?\u001b[0m\u001b[0;34m\u001b[0m\u001b[0;34m\u001b[0m\u001b[0m\n\u001b[1;32m   3751\u001b[0m         \u001b[0;32mif\u001b[0m \u001b[0mcom\u001b[0m\u001b[0;34m.\u001b[0m\u001b[0mis_bool_indexer\u001b[0m\u001b[0;34m(\u001b[0m\u001b[0mkey\u001b[0m\u001b[0;34m)\u001b[0m\u001b[0;34m:\u001b[0m\u001b[0;34m\u001b[0m\u001b[0;34m\u001b[0m\u001b[0m\n\u001b[0;32m-> 3752\u001b[0;31m             \u001b[0;32mreturn\u001b[0m \u001b[0mself\u001b[0m\u001b[0;34m.\u001b[0m\u001b[0m_getitem_bool_array\u001b[0m\u001b[0;34m(\u001b[0m\u001b[0mkey\u001b[0m\u001b[0;34m)\u001b[0m\u001b[0;34m\u001b[0m\u001b[0;34m\u001b[0m\u001b[0m\n\u001b[0m\u001b[1;32m   3753\u001b[0m \u001b[0;34m\u001b[0m\u001b[0m\n\u001b[1;32m   3754\u001b[0m         \u001b[0;31m# We are left with two options: a single key, and a collection of keys,\u001b[0m\u001b[0;34m\u001b[0m\u001b[0;34m\u001b[0m\u001b[0m\n",
            "\u001b[0;32m/usr/local/lib/python3.10/dist-packages/pandas/core/frame.py\u001b[0m in \u001b[0;36m_getitem_bool_array\u001b[0;34m(self, key)\u001b[0m\n\u001b[1;32m   3809\u001b[0m \u001b[0;34m\u001b[0m\u001b[0m\n\u001b[1;32m   3810\u001b[0m         \u001b[0mindexer\u001b[0m \u001b[0;34m=\u001b[0m \u001b[0mkey\u001b[0m\u001b[0;34m.\u001b[0m\u001b[0mnonzero\u001b[0m\u001b[0;34m(\u001b[0m\u001b[0;34m)\u001b[0m\u001b[0;34m[\u001b[0m\u001b[0;36m0\u001b[0m\u001b[0;34m]\u001b[0m\u001b[0;34m\u001b[0m\u001b[0;34m\u001b[0m\u001b[0m\n\u001b[0;32m-> 3811\u001b[0;31m         \u001b[0;32mreturn\u001b[0m \u001b[0mself\u001b[0m\u001b[0;34m.\u001b[0m\u001b[0m_take_with_is_copy\u001b[0m\u001b[0;34m(\u001b[0m\u001b[0mindexer\u001b[0m\u001b[0;34m,\u001b[0m \u001b[0maxis\u001b[0m\u001b[0;34m=\u001b[0m\u001b[0;36m0\u001b[0m\u001b[0;34m)\u001b[0m\u001b[0;34m\u001b[0m\u001b[0;34m\u001b[0m\u001b[0m\n\u001b[0m\u001b[1;32m   3812\u001b[0m \u001b[0;34m\u001b[0m\u001b[0m\n\u001b[1;32m   3813\u001b[0m     \u001b[0;32mdef\u001b[0m \u001b[0m_getitem_multilevel\u001b[0m\u001b[0;34m(\u001b[0m\u001b[0mself\u001b[0m\u001b[0;34m,\u001b[0m \u001b[0mkey\u001b[0m\u001b[0;34m)\u001b[0m\u001b[0;34m:\u001b[0m\u001b[0;34m\u001b[0m\u001b[0;34m\u001b[0m\u001b[0m\n",
            "\u001b[0;32m/usr/local/lib/python3.10/dist-packages/pandas/core/generic.py\u001b[0m in \u001b[0;36m_take_with_is_copy\u001b[0;34m(self, indices, axis)\u001b[0m\n\u001b[1;32m   3946\u001b[0m         \u001b[0mSee\u001b[0m \u001b[0mthe\u001b[0m \u001b[0mdocstring\u001b[0m \u001b[0mof\u001b[0m\u001b[0;31m \u001b[0m\u001b[0;31m`\u001b[0m\u001b[0mtake\u001b[0m\u001b[0;31m`\u001b[0m \u001b[0;32mfor\u001b[0m \u001b[0mfull\u001b[0m \u001b[0mexplanation\u001b[0m \u001b[0mof\u001b[0m \u001b[0mthe\u001b[0m \u001b[0mparameters\u001b[0m\u001b[0;34m.\u001b[0m\u001b[0;34m\u001b[0m\u001b[0;34m\u001b[0m\u001b[0m\n\u001b[1;32m   3947\u001b[0m         \"\"\"\n\u001b[0;32m-> 3948\u001b[0;31m         \u001b[0mresult\u001b[0m \u001b[0;34m=\u001b[0m \u001b[0mself\u001b[0m\u001b[0;34m.\u001b[0m\u001b[0m_take\u001b[0m\u001b[0;34m(\u001b[0m\u001b[0mindices\u001b[0m\u001b[0;34m=\u001b[0m\u001b[0mindices\u001b[0m\u001b[0;34m,\u001b[0m \u001b[0maxis\u001b[0m\u001b[0;34m=\u001b[0m\u001b[0maxis\u001b[0m\u001b[0;34m)\u001b[0m\u001b[0;34m\u001b[0m\u001b[0;34m\u001b[0m\u001b[0m\n\u001b[0m\u001b[1;32m   3949\u001b[0m         \u001b[0;31m# Maybe set copy if we didn't actually change the index.\u001b[0m\u001b[0;34m\u001b[0m\u001b[0;34m\u001b[0m\u001b[0m\n\u001b[1;32m   3950\u001b[0m         \u001b[0;32mif\u001b[0m \u001b[0;32mnot\u001b[0m \u001b[0mresult\u001b[0m\u001b[0;34m.\u001b[0m\u001b[0m_get_axis\u001b[0m\u001b[0;34m(\u001b[0m\u001b[0maxis\u001b[0m\u001b[0;34m)\u001b[0m\u001b[0;34m.\u001b[0m\u001b[0mequals\u001b[0m\u001b[0;34m(\u001b[0m\u001b[0mself\u001b[0m\u001b[0;34m.\u001b[0m\u001b[0m_get_axis\u001b[0m\u001b[0;34m(\u001b[0m\u001b[0maxis\u001b[0m\u001b[0;34m)\u001b[0m\u001b[0;34m)\u001b[0m\u001b[0;34m:\u001b[0m\u001b[0;34m\u001b[0m\u001b[0;34m\u001b[0m\u001b[0m\n",
            "\u001b[0;32m/usr/local/lib/python3.10/dist-packages/pandas/core/generic.py\u001b[0m in \u001b[0;36m_take\u001b[0;34m(self, indices, axis, convert_indices)\u001b[0m\n\u001b[1;32m   3936\u001b[0m             \u001b[0mconvert_indices\u001b[0m\u001b[0;34m=\u001b[0m\u001b[0mconvert_indices\u001b[0m\u001b[0;34m,\u001b[0m\u001b[0;34m\u001b[0m\u001b[0;34m\u001b[0m\u001b[0m\n\u001b[1;32m   3937\u001b[0m         )\n\u001b[0;32m-> 3938\u001b[0;31m         \u001b[0;32mreturn\u001b[0m \u001b[0mself\u001b[0m\u001b[0;34m.\u001b[0m\u001b[0m_constructor\u001b[0m\u001b[0;34m(\u001b[0m\u001b[0mnew_data\u001b[0m\u001b[0;34m)\u001b[0m\u001b[0;34m.\u001b[0m\u001b[0m__finalize__\u001b[0m\u001b[0;34m(\u001b[0m\u001b[0mself\u001b[0m\u001b[0;34m,\u001b[0m \u001b[0mmethod\u001b[0m\u001b[0;34m=\u001b[0m\u001b[0;34m\"take\"\u001b[0m\u001b[0;34m)\u001b[0m\u001b[0;34m\u001b[0m\u001b[0;34m\u001b[0m\u001b[0m\n\u001b[0m\u001b[1;32m   3939\u001b[0m \u001b[0;34m\u001b[0m\u001b[0m\n\u001b[1;32m   3940\u001b[0m     \u001b[0;32mdef\u001b[0m \u001b[0m_take_with_is_copy\u001b[0m\u001b[0;34m(\u001b[0m\u001b[0mself\u001b[0m\u001b[0;34m:\u001b[0m \u001b[0mNDFrameT\u001b[0m\u001b[0;34m,\u001b[0m \u001b[0mindices\u001b[0m\u001b[0;34m,\u001b[0m \u001b[0maxis\u001b[0m\u001b[0;34m:\u001b[0m \u001b[0mAxis\u001b[0m \u001b[0;34m=\u001b[0m \u001b[0;36m0\u001b[0m\u001b[0;34m)\u001b[0m \u001b[0;34m->\u001b[0m \u001b[0mNDFrameT\u001b[0m\u001b[0;34m:\u001b[0m\u001b[0;34m\u001b[0m\u001b[0;34m\u001b[0m\u001b[0m\n",
            "\u001b[0;32m/usr/local/lib/python3.10/dist-packages/pandas/core/generic.py\u001b[0m in \u001b[0;36m__finalize__\u001b[0;34m(self, other, method, **kwargs)\u001b[0m\n\u001b[1;32m   5929\u001b[0m     \u001b[0;31m# Attribute access\u001b[0m\u001b[0;34m\u001b[0m\u001b[0;34m\u001b[0m\u001b[0m\n\u001b[1;32m   5930\u001b[0m \u001b[0;34m\u001b[0m\u001b[0m\n\u001b[0;32m-> 5931\u001b[0;31m     \u001b[0;34m@\u001b[0m\u001b[0mfinal\u001b[0m\u001b[0;34m\u001b[0m\u001b[0;34m\u001b[0m\u001b[0m\n\u001b[0m\u001b[1;32m   5932\u001b[0m     def __finalize__(\n\u001b[1;32m   5933\u001b[0m         \u001b[0mself\u001b[0m\u001b[0;34m:\u001b[0m \u001b[0mNDFrameT\u001b[0m\u001b[0;34m,\u001b[0m \u001b[0mother\u001b[0m\u001b[0;34m,\u001b[0m \u001b[0mmethod\u001b[0m\u001b[0;34m:\u001b[0m \u001b[0mstr\u001b[0m \u001b[0;34m|\u001b[0m \u001b[0;32mNone\u001b[0m \u001b[0;34m=\u001b[0m \u001b[0;32mNone\u001b[0m\u001b[0;34m,\u001b[0m \u001b[0;34m**\u001b[0m\u001b[0mkwargs\u001b[0m\u001b[0;34m\u001b[0m\u001b[0;34m\u001b[0m\u001b[0m\n",
            "\u001b[0;31mKeyboardInterrupt\u001b[0m: "
          ]
        }
      ]
    },
    {
      "cell_type": "code",
      "source": [
        "grid_search_results[(grid_search_results['beta']==80) & (grid_search_results['alpha']<20)]\n",
        "dataset[dataset['root_submission']=='1000833'].user.value_counts()"
      ],
      "metadata": {
        "colab": {
          "base_uri": "https://localhost:8080/",
          "height": 419
        },
        "id": "AStEvXhAYjqX",
        "outputId": "5a17a42e-5e9c-4388-847e-4a8902c6044e"
      },
      "execution_count": 391,
      "outputs": [
        {
          "output_type": "execute_result",
          "data": {
            "text/plain": [
              "       lambda  alpha  beta  mu_expected_value  sd_exepected_value\n",
              "2        0.01   0.01    80              0.010            0.083373\n",
              "16       0.01  10.00    80              0.147            0.389661\n",
              "86       1.00   0.01    80              1.048            0.992774\n",
              "100      1.00  10.00    80              1.278            1.246046\n",
              "170      2.00   0.01    80              2.028            1.323958\n",
              "...       ...    ...   ...                ...                 ...\n",
              "24964  297.00  10.00    80            339.014           21.254688\n",
              "25034  298.00   0.01    80            297.904           17.770271\n",
              "25048  298.00  10.00    80            339.899           20.506365\n",
              "25118  299.00   0.01    80            299.027           16.876671\n",
              "25132  299.00  10.00    80            342.360           20.394003\n",
              "\n",
              "[600 rows x 5 columns]"
            ],
            "text/html": [
              "\n",
              "  <div id=\"df-68f1f9e1-beb4-4e30-b9f7-90f58c63cb97\" class=\"colab-df-container\">\n",
              "    <div>\n",
              "<style scoped>\n",
              "    .dataframe tbody tr th:only-of-type {\n",
              "        vertical-align: middle;\n",
              "    }\n",
              "\n",
              "    .dataframe tbody tr th {\n",
              "        vertical-align: top;\n",
              "    }\n",
              "\n",
              "    .dataframe thead th {\n",
              "        text-align: right;\n",
              "    }\n",
              "</style>\n",
              "<table border=\"1\" class=\"dataframe\">\n",
              "  <thead>\n",
              "    <tr style=\"text-align: right;\">\n",
              "      <th></th>\n",
              "      <th>lambda</th>\n",
              "      <th>alpha</th>\n",
              "      <th>beta</th>\n",
              "      <th>mu_expected_value</th>\n",
              "      <th>sd_exepected_value</th>\n",
              "    </tr>\n",
              "  </thead>\n",
              "  <tbody>\n",
              "    <tr>\n",
              "      <th>2</th>\n",
              "      <td>0.01</td>\n",
              "      <td>0.01</td>\n",
              "      <td>80</td>\n",
              "      <td>0.010</td>\n",
              "      <td>0.083373</td>\n",
              "    </tr>\n",
              "    <tr>\n",
              "      <th>16</th>\n",
              "      <td>0.01</td>\n",
              "      <td>10.00</td>\n",
              "      <td>80</td>\n",
              "      <td>0.147</td>\n",
              "      <td>0.389661</td>\n",
              "    </tr>\n",
              "    <tr>\n",
              "      <th>86</th>\n",
              "      <td>1.00</td>\n",
              "      <td>0.01</td>\n",
              "      <td>80</td>\n",
              "      <td>1.048</td>\n",
              "      <td>0.992774</td>\n",
              "    </tr>\n",
              "    <tr>\n",
              "      <th>100</th>\n",
              "      <td>1.00</td>\n",
              "      <td>10.00</td>\n",
              "      <td>80</td>\n",
              "      <td>1.278</td>\n",
              "      <td>1.246046</td>\n",
              "    </tr>\n",
              "    <tr>\n",
              "      <th>170</th>\n",
              "      <td>2.00</td>\n",
              "      <td>0.01</td>\n",
              "      <td>80</td>\n",
              "      <td>2.028</td>\n",
              "      <td>1.323958</td>\n",
              "    </tr>\n",
              "    <tr>\n",
              "      <th>...</th>\n",
              "      <td>...</td>\n",
              "      <td>...</td>\n",
              "      <td>...</td>\n",
              "      <td>...</td>\n",
              "      <td>...</td>\n",
              "    </tr>\n",
              "    <tr>\n",
              "      <th>24964</th>\n",
              "      <td>297.00</td>\n",
              "      <td>10.00</td>\n",
              "      <td>80</td>\n",
              "      <td>339.014</td>\n",
              "      <td>21.254688</td>\n",
              "    </tr>\n",
              "    <tr>\n",
              "      <th>25034</th>\n",
              "      <td>298.00</td>\n",
              "      <td>0.01</td>\n",
              "      <td>80</td>\n",
              "      <td>297.904</td>\n",
              "      <td>17.770271</td>\n",
              "    </tr>\n",
              "    <tr>\n",
              "      <th>25048</th>\n",
              "      <td>298.00</td>\n",
              "      <td>10.00</td>\n",
              "      <td>80</td>\n",
              "      <td>339.899</td>\n",
              "      <td>20.506365</td>\n",
              "    </tr>\n",
              "    <tr>\n",
              "      <th>25118</th>\n",
              "      <td>299.00</td>\n",
              "      <td>0.01</td>\n",
              "      <td>80</td>\n",
              "      <td>299.027</td>\n",
              "      <td>16.876671</td>\n",
              "    </tr>\n",
              "    <tr>\n",
              "      <th>25132</th>\n",
              "      <td>299.00</td>\n",
              "      <td>10.00</td>\n",
              "      <td>80</td>\n",
              "      <td>342.360</td>\n",
              "      <td>20.394003</td>\n",
              "    </tr>\n",
              "  </tbody>\n",
              "</table>\n",
              "<p>600 rows × 5 columns</p>\n",
              "</div>\n",
              "    <div class=\"colab-df-buttons\">\n",
              "\n",
              "  <div class=\"colab-df-container\">\n",
              "    <button class=\"colab-df-convert\" onclick=\"convertToInteractive('df-68f1f9e1-beb4-4e30-b9f7-90f58c63cb97')\"\n",
              "            title=\"Convert this dataframe to an interactive table.\"\n",
              "            style=\"display:none;\">\n",
              "\n",
              "  <svg xmlns=\"http://www.w3.org/2000/svg\" height=\"24px\" viewBox=\"0 -960 960 960\">\n",
              "    <path d=\"M120-120v-720h720v720H120Zm60-500h600v-160H180v160Zm220 220h160v-160H400v160Zm0 220h160v-160H400v160ZM180-400h160v-160H180v160Zm440 0h160v-160H620v160ZM180-180h160v-160H180v160Zm440 0h160v-160H620v160Z\"/>\n",
              "  </svg>\n",
              "    </button>\n",
              "\n",
              "  <style>\n",
              "    .colab-df-container {\n",
              "      display:flex;\n",
              "      gap: 12px;\n",
              "    }\n",
              "\n",
              "    .colab-df-convert {\n",
              "      background-color: #E8F0FE;\n",
              "      border: none;\n",
              "      border-radius: 50%;\n",
              "      cursor: pointer;\n",
              "      display: none;\n",
              "      fill: #1967D2;\n",
              "      height: 32px;\n",
              "      padding: 0 0 0 0;\n",
              "      width: 32px;\n",
              "    }\n",
              "\n",
              "    .colab-df-convert:hover {\n",
              "      background-color: #E2EBFA;\n",
              "      box-shadow: 0px 1px 2px rgba(60, 64, 67, 0.3), 0px 1px 3px 1px rgba(60, 64, 67, 0.15);\n",
              "      fill: #174EA6;\n",
              "    }\n",
              "\n",
              "    .colab-df-buttons div {\n",
              "      margin-bottom: 4px;\n",
              "    }\n",
              "\n",
              "    [theme=dark] .colab-df-convert {\n",
              "      background-color: #3B4455;\n",
              "      fill: #D2E3FC;\n",
              "    }\n",
              "\n",
              "    [theme=dark] .colab-df-convert:hover {\n",
              "      background-color: #434B5C;\n",
              "      box-shadow: 0px 1px 3px 1px rgba(0, 0, 0, 0.15);\n",
              "      filter: drop-shadow(0px 1px 2px rgba(0, 0, 0, 0.3));\n",
              "      fill: #FFFFFF;\n",
              "    }\n",
              "  </style>\n",
              "\n",
              "    <script>\n",
              "      const buttonEl =\n",
              "        document.querySelector('#df-68f1f9e1-beb4-4e30-b9f7-90f58c63cb97 button.colab-df-convert');\n",
              "      buttonEl.style.display =\n",
              "        google.colab.kernel.accessAllowed ? 'block' : 'none';\n",
              "\n",
              "      async function convertToInteractive(key) {\n",
              "        const element = document.querySelector('#df-68f1f9e1-beb4-4e30-b9f7-90f58c63cb97');\n",
              "        const dataTable =\n",
              "          await google.colab.kernel.invokeFunction('convertToInteractive',\n",
              "                                                    [key], {});\n",
              "        if (!dataTable) return;\n",
              "\n",
              "        const docLinkHtml = 'Like what you see? Visit the ' +\n",
              "          '<a target=\"_blank\" href=https://colab.research.google.com/notebooks/data_table.ipynb>data table notebook</a>'\n",
              "          + ' to learn more about interactive tables.';\n",
              "        element.innerHTML = '';\n",
              "        dataTable['output_type'] = 'display_data';\n",
              "        await google.colab.output.renderOutput(dataTable, element);\n",
              "        const docLink = document.createElement('div');\n",
              "        docLink.innerHTML = docLinkHtml;\n",
              "        element.appendChild(docLink);\n",
              "      }\n",
              "    </script>\n",
              "  </div>\n",
              "\n",
              "\n",
              "<div id=\"df-7cb4c661-4e62-4e34-9d3f-d5e44e82ac1d\">\n",
              "  <button class=\"colab-df-quickchart\" onclick=\"quickchart('df-7cb4c661-4e62-4e34-9d3f-d5e44e82ac1d')\"\n",
              "            title=\"Suggest charts\"\n",
              "            style=\"display:none;\">\n",
              "\n",
              "<svg xmlns=\"http://www.w3.org/2000/svg\" height=\"24px\"viewBox=\"0 0 24 24\"\n",
              "     width=\"24px\">\n",
              "    <g>\n",
              "        <path d=\"M19 3H5c-1.1 0-2 .9-2 2v14c0 1.1.9 2 2 2h14c1.1 0 2-.9 2-2V5c0-1.1-.9-2-2-2zM9 17H7v-7h2v7zm4 0h-2V7h2v10zm4 0h-2v-4h2v4z\"/>\n",
              "    </g>\n",
              "</svg>\n",
              "  </button>\n",
              "\n",
              "<style>\n",
              "  .colab-df-quickchart {\n",
              "      --bg-color: #E8F0FE;\n",
              "      --fill-color: #1967D2;\n",
              "      --hover-bg-color: #E2EBFA;\n",
              "      --hover-fill-color: #174EA6;\n",
              "      --disabled-fill-color: #AAA;\n",
              "      --disabled-bg-color: #DDD;\n",
              "  }\n",
              "\n",
              "  [theme=dark] .colab-df-quickchart {\n",
              "      --bg-color: #3B4455;\n",
              "      --fill-color: #D2E3FC;\n",
              "      --hover-bg-color: #434B5C;\n",
              "      --hover-fill-color: #FFFFFF;\n",
              "      --disabled-bg-color: #3B4455;\n",
              "      --disabled-fill-color: #666;\n",
              "  }\n",
              "\n",
              "  .colab-df-quickchart {\n",
              "    background-color: var(--bg-color);\n",
              "    border: none;\n",
              "    border-radius: 50%;\n",
              "    cursor: pointer;\n",
              "    display: none;\n",
              "    fill: var(--fill-color);\n",
              "    height: 32px;\n",
              "    padding: 0;\n",
              "    width: 32px;\n",
              "  }\n",
              "\n",
              "  .colab-df-quickchart:hover {\n",
              "    background-color: var(--hover-bg-color);\n",
              "    box-shadow: 0 1px 2px rgba(60, 64, 67, 0.3), 0 1px 3px 1px rgba(60, 64, 67, 0.15);\n",
              "    fill: var(--button-hover-fill-color);\n",
              "  }\n",
              "\n",
              "  .colab-df-quickchart-complete:disabled,\n",
              "  .colab-df-quickchart-complete:disabled:hover {\n",
              "    background-color: var(--disabled-bg-color);\n",
              "    fill: var(--disabled-fill-color);\n",
              "    box-shadow: none;\n",
              "  }\n",
              "\n",
              "  .colab-df-spinner {\n",
              "    border: 2px solid var(--fill-color);\n",
              "    border-color: transparent;\n",
              "    border-bottom-color: var(--fill-color);\n",
              "    animation:\n",
              "      spin 1s steps(1) infinite;\n",
              "  }\n",
              "\n",
              "  @keyframes spin {\n",
              "    0% {\n",
              "      border-color: transparent;\n",
              "      border-bottom-color: var(--fill-color);\n",
              "      border-left-color: var(--fill-color);\n",
              "    }\n",
              "    20% {\n",
              "      border-color: transparent;\n",
              "      border-left-color: var(--fill-color);\n",
              "      border-top-color: var(--fill-color);\n",
              "    }\n",
              "    30% {\n",
              "      border-color: transparent;\n",
              "      border-left-color: var(--fill-color);\n",
              "      border-top-color: var(--fill-color);\n",
              "      border-right-color: var(--fill-color);\n",
              "    }\n",
              "    40% {\n",
              "      border-color: transparent;\n",
              "      border-right-color: var(--fill-color);\n",
              "      border-top-color: var(--fill-color);\n",
              "    }\n",
              "    60% {\n",
              "      border-color: transparent;\n",
              "      border-right-color: var(--fill-color);\n",
              "    }\n",
              "    80% {\n",
              "      border-color: transparent;\n",
              "      border-right-color: var(--fill-color);\n",
              "      border-bottom-color: var(--fill-color);\n",
              "    }\n",
              "    90% {\n",
              "      border-color: transparent;\n",
              "      border-bottom-color: var(--fill-color);\n",
              "    }\n",
              "  }\n",
              "</style>\n",
              "\n",
              "  <script>\n",
              "    async function quickchart(key) {\n",
              "      const quickchartButtonEl =\n",
              "        document.querySelector('#' + key + ' button');\n",
              "      quickchartButtonEl.disabled = true;  // To prevent multiple clicks.\n",
              "      quickchartButtonEl.classList.add('colab-df-spinner');\n",
              "      try {\n",
              "        const charts = await google.colab.kernel.invokeFunction(\n",
              "            'suggestCharts', [key], {});\n",
              "      } catch (error) {\n",
              "        console.error('Error during call to suggestCharts:', error);\n",
              "      }\n",
              "      quickchartButtonEl.classList.remove('colab-df-spinner');\n",
              "      quickchartButtonEl.classList.add('colab-df-quickchart-complete');\n",
              "    }\n",
              "    (() => {\n",
              "      let quickchartButtonEl =\n",
              "        document.querySelector('#df-7cb4c661-4e62-4e34-9d3f-d5e44e82ac1d button');\n",
              "      quickchartButtonEl.style.display =\n",
              "        google.colab.kernel.accessAllowed ? 'block' : 'none';\n",
              "    })();\n",
              "  </script>\n",
              "</div>\n",
              "    </div>\n",
              "  </div>\n"
            ],
            "application/vnd.google.colaboratory.intrinsic+json": {
              "type": "dataframe",
              "summary": "{\n  \"name\": \"grid_search_results[(grid_search_results['beta']==80) & (grid_search_results['alpha']<20)]\",\n  \"rows\": 600,\n  \"fields\": [\n    {\n      \"column\": \"lambda\",\n      \"properties\": {\n        \"dtype\": \"number\",\n        \"std\": 86.6742603815383,\n        \"min\": 0.01,\n        \"max\": 299.0,\n        \"num_unique_values\": 300,\n        \"samples\": [\n          203.0,\n          266.0,\n          152.0\n        ],\n        \"semantic_type\": \"\",\n        \"description\": \"\"\n      }\n    },\n    {\n      \"column\": \"alpha\",\n      \"properties\": {\n        \"dtype\": \"number\",\n        \"std\": 4.9991677103621175,\n        \"min\": 0.01,\n        \"max\": 10.0,\n        \"num_unique_values\": 2,\n        \"samples\": [\n          10.0,\n          0.01\n        ],\n        \"semantic_type\": \"\",\n        \"description\": \"\"\n      }\n    },\n    {\n      \"column\": \"beta\",\n      \"properties\": {\n        \"dtype\": \"number\",\n        \"std\": 0,\n        \"min\": 80,\n        \"max\": 80,\n        \"num_unique_values\": 1,\n        \"samples\": [\n          80\n        ],\n        \"semantic_type\": \"\",\n        \"description\": \"\"\n      }\n    },\n    {\n      \"column\": \"mu_expected_value\",\n      \"properties\": {\n        \"dtype\": \"number\",\n        \"std\": 93.5903354010534,\n        \"min\": 0.01,\n        \"max\": 342.36,\n        \"num_unique_values\": 600,\n        \"samples\": [\n          55.107\n        ],\n        \"semantic_type\": \"\",\n        \"description\": \"\"\n      }\n    },\n    {\n      \"column\": \"sd_exepected_value\",\n      \"properties\": {\n        \"dtype\": \"number\",\n        \"std\": 4.7465024622808984,\n        \"min\": 0.0833726573883788,\n        \"max\": 21.60328583803862,\n        \"num_unique_values\": 600,\n        \"samples\": [\n          7.126727088923779\n        ],\n        \"semantic_type\": \"\",\n        \"description\": \"\"\n      }\n    }\n  ]\n}"
            }
          },
          "metadata": {},
          "execution_count": 391
        }
      ]
    }
  ],
  "metadata": {
    "colab": {
      "provenance": [],
      "collapsed_sections": [
        "SiYBa7I8VTKM"
      ],
      "toc_visible": true,
      "include_colab_link": true
    },
    "kernelspec": {
      "display_name": "Python 3",
      "language": "python",
      "name": "python3"
    },
    "language_info": {
      "codemirror_mode": {
        "name": "ipython",
        "version": 3
      },
      "file_extension": ".py",
      "mimetype": "text/x-python",
      "name": "python",
      "nbconvert_exporter": "python",
      "pygments_lexer": "ipython3",
      "version": "3.6.4"
    }
  },
  "nbformat": 4,
  "nbformat_minor": 0
}