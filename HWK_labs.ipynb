{
  "cells": [
    {
      "cell_type": "markdown",
      "metadata": {
        "id": "view-in-github",
        "colab_type": "text"
      },
      "source": [
        "<a href=\"https://colab.research.google.com/github/nudojacopo/thesis/blob/main/HWK_labs.ipynb\" target=\"_parent\"><img src=\"https://colab.research.google.com/assets/colab-badge.svg\" alt=\"Open In Colab\"/></a>"
      ]
    },
    {
      "cell_type": "markdown",
      "metadata": {
        "id": "hb5traIJtpJn"
      },
      "source": [
        "Notes for Jacopo:"
      ]
    },
    {
      "cell_type": "markdown",
      "metadata": {
        "id": "1RXSw25AtpJt"
      },
      "source": [
        "\n",
        " <br>\n"
      ]
    },
    {
      "cell_type": "markdown",
      "metadata": {
        "id": "p9lCuzmYtpJt"
      },
      "source": [
        "Define the module path + import packages"
      ]
    },
    {
      "cell_type": "code",
      "source": [
        "kernel=input('Choose a kernel to use...are you running in local? Y/N')"
      ],
      "metadata": {
        "id": "uJBUxmTXvLwZ",
        "outputId": "25c6cee4-413b-463f-b291-601cd27a15df",
        "colab": {
          "base_uri": "https://localhost:8080/"
        }
      },
      "execution_count": 17,
      "outputs": [
        {
          "name": "stdout",
          "output_type": "stream",
          "text": [
            "Choose a kernel to use...are you running in local? Y/Nn\n"
          ]
        }
      ]
    },
    {
      "cell_type": "code",
      "source": [
        "if kernel!='Y':\n",
        "  !git clone https://github.com/nudojacopo/thesis.git\n",
        "  from google.colab import drive\n",
        "  drive.mount('/content/drive')\n",
        "  source_data='/content/drive/MyDrive/thesis/data/voat/voat_labeled_data_unified.parquet'\n",
        "  root='/content/'\n",
        "else:\n",
        "  source_data='/Users/jacoponudo/Documents/thesis/data/voat/voat_labeled_data_unified.parquet'\n",
        "  root='/Users/jacoponudo/Documents/'\n",
        "output=root+'src/HWK/output'\n",
        "output_threads=root+'src/HWK/output/temporary'\n",
        "import sys\n",
        "module_path = root+'thesis/src/HWK'\n",
        "sys.path.append(module_path)\n",
        "import os\n",
        "import numpy as np\n",
        "import pandas as pd\n",
        "from tqdm import tqdm\n",
        "from HWK_package.functions import *\n",
        "from scipy import stats\n",
        "import random\n",
        "from scipy.stats import chi2\n",
        "import statsmodels.api as sm\n",
        "import matplotlib.pyplot as plt\n",
        "from statsmodels.graphics.gofplots import qqplot"
      ],
      "metadata": {
        "id": "Y0HNlr43uyvd",
        "outputId": "e1f498eb-ffd1-4eea-cb1d-84d1a669606b",
        "colab": {
          "base_uri": "https://localhost:8080/"
        }
      },
      "execution_count": 18,
      "outputs": [
        {
          "output_type": "stream",
          "name": "stdout",
          "text": [
            "fatal: destination path 'thesis' already exists and is not an empty directory.\n",
            "Drive already mounted at /content/drive; to attempt to forcibly remount, call drive.mount(\"/content/drive\", force_remount=True).\n"
          ]
        }
      ]
    },
    {
      "cell_type": "code",
      "execution_count": 19,
      "metadata": {
        "id": "-pcBn9sttpJu"
      },
      "outputs": [],
      "source": []
    },
    {
      "cell_type": "markdown",
      "metadata": {
        "id": "DCNFK8L6tpJy"
      },
      "source": [
        "Set source"
      ]
    },
    {
      "cell_type": "code",
      "execution_count": 22,
      "metadata": {
        "id": "hWQJvM4htpJz"
      },
      "outputs": [],
      "source": [
        "dataset = pd.read_parquet(source_data)"
      ]
    },
    {
      "cell_type": "code",
      "execution_count": 23,
      "metadata": {
        "id": "U8Wge280tpJz",
        "outputId": "d85d4002-74fa-46f6-875e-0f78948d07a9",
        "colab": {
          "base_uri": "https://localhost:8080/",
          "height": 419
        }
      },
      "outputs": [
        {
          "output_type": "execute_result",
          "data": {
            "text/plain": [
              "        root_submission                  user  is_toxic\n",
              "25640           1073880             smokratez        11\n",
              "28075           1080682            diesel4420        14\n",
              "29955           1085786            EarlPoncho        18\n",
              "32689           1093318               Crensch        11\n",
              "34120           1097033               Crensch        23\n",
              "...                 ...                   ...       ...\n",
              "2494625          767799            twentyfive        12\n",
              "2531879          867711   escapefromredditbay        14\n",
              "2554660          923752            twentyfive        11\n",
              "2558049          933237                Dead-_        12\n",
              "2572182          971026  RedditIsPropaganda23        11\n",
              "\n",
              "[343 rows x 3 columns]"
            ],
            "text/html": [
              "\n",
              "  <div id=\"df-2316397e-ccad-499f-8189-236f7acba838\" class=\"colab-df-container\">\n",
              "    <div>\n",
              "<style scoped>\n",
              "    .dataframe tbody tr th:only-of-type {\n",
              "        vertical-align: middle;\n",
              "    }\n",
              "\n",
              "    .dataframe tbody tr th {\n",
              "        vertical-align: top;\n",
              "    }\n",
              "\n",
              "    .dataframe thead th {\n",
              "        text-align: right;\n",
              "    }\n",
              "</style>\n",
              "<table border=\"1\" class=\"dataframe\">\n",
              "  <thead>\n",
              "    <tr style=\"text-align: right;\">\n",
              "      <th></th>\n",
              "      <th>root_submission</th>\n",
              "      <th>user</th>\n",
              "      <th>is_toxic</th>\n",
              "    </tr>\n",
              "  </thead>\n",
              "  <tbody>\n",
              "    <tr>\n",
              "      <th>25640</th>\n",
              "      <td>1073880</td>\n",
              "      <td>smokratez</td>\n",
              "      <td>11</td>\n",
              "    </tr>\n",
              "    <tr>\n",
              "      <th>28075</th>\n",
              "      <td>1080682</td>\n",
              "      <td>diesel4420</td>\n",
              "      <td>14</td>\n",
              "    </tr>\n",
              "    <tr>\n",
              "      <th>29955</th>\n",
              "      <td>1085786</td>\n",
              "      <td>EarlPoncho</td>\n",
              "      <td>18</td>\n",
              "    </tr>\n",
              "    <tr>\n",
              "      <th>32689</th>\n",
              "      <td>1093318</td>\n",
              "      <td>Crensch</td>\n",
              "      <td>11</td>\n",
              "    </tr>\n",
              "    <tr>\n",
              "      <th>34120</th>\n",
              "      <td>1097033</td>\n",
              "      <td>Crensch</td>\n",
              "      <td>23</td>\n",
              "    </tr>\n",
              "    <tr>\n",
              "      <th>...</th>\n",
              "      <td>...</td>\n",
              "      <td>...</td>\n",
              "      <td>...</td>\n",
              "    </tr>\n",
              "    <tr>\n",
              "      <th>2494625</th>\n",
              "      <td>767799</td>\n",
              "      <td>twentyfive</td>\n",
              "      <td>12</td>\n",
              "    </tr>\n",
              "    <tr>\n",
              "      <th>2531879</th>\n",
              "      <td>867711</td>\n",
              "      <td>escapefromredditbay</td>\n",
              "      <td>14</td>\n",
              "    </tr>\n",
              "    <tr>\n",
              "      <th>2554660</th>\n",
              "      <td>923752</td>\n",
              "      <td>twentyfive</td>\n",
              "      <td>11</td>\n",
              "    </tr>\n",
              "    <tr>\n",
              "      <th>2558049</th>\n",
              "      <td>933237</td>\n",
              "      <td>Dead-_</td>\n",
              "      <td>12</td>\n",
              "    </tr>\n",
              "    <tr>\n",
              "      <th>2572182</th>\n",
              "      <td>971026</td>\n",
              "      <td>RedditIsPropaganda23</td>\n",
              "      <td>11</td>\n",
              "    </tr>\n",
              "  </tbody>\n",
              "</table>\n",
              "<p>343 rows × 3 columns</p>\n",
              "</div>\n",
              "    <div class=\"colab-df-buttons\">\n",
              "\n",
              "  <div class=\"colab-df-container\">\n",
              "    <button class=\"colab-df-convert\" onclick=\"convertToInteractive('df-2316397e-ccad-499f-8189-236f7acba838')\"\n",
              "            title=\"Convert this dataframe to an interactive table.\"\n",
              "            style=\"display:none;\">\n",
              "\n",
              "  <svg xmlns=\"http://www.w3.org/2000/svg\" height=\"24px\" viewBox=\"0 -960 960 960\">\n",
              "    <path d=\"M120-120v-720h720v720H120Zm60-500h600v-160H180v160Zm220 220h160v-160H400v160Zm0 220h160v-160H400v160ZM180-400h160v-160H180v160Zm440 0h160v-160H620v160ZM180-180h160v-160H180v160Zm440 0h160v-160H620v160Z\"/>\n",
              "  </svg>\n",
              "    </button>\n",
              "\n",
              "  <style>\n",
              "    .colab-df-container {\n",
              "      display:flex;\n",
              "      gap: 12px;\n",
              "    }\n",
              "\n",
              "    .colab-df-convert {\n",
              "      background-color: #E8F0FE;\n",
              "      border: none;\n",
              "      border-radius: 50%;\n",
              "      cursor: pointer;\n",
              "      display: none;\n",
              "      fill: #1967D2;\n",
              "      height: 32px;\n",
              "      padding: 0 0 0 0;\n",
              "      width: 32px;\n",
              "    }\n",
              "\n",
              "    .colab-df-convert:hover {\n",
              "      background-color: #E2EBFA;\n",
              "      box-shadow: 0px 1px 2px rgba(60, 64, 67, 0.3), 0px 1px 3px 1px rgba(60, 64, 67, 0.15);\n",
              "      fill: #174EA6;\n",
              "    }\n",
              "\n",
              "    .colab-df-buttons div {\n",
              "      margin-bottom: 4px;\n",
              "    }\n",
              "\n",
              "    [theme=dark] .colab-df-convert {\n",
              "      background-color: #3B4455;\n",
              "      fill: #D2E3FC;\n",
              "    }\n",
              "\n",
              "    [theme=dark] .colab-df-convert:hover {\n",
              "      background-color: #434B5C;\n",
              "      box-shadow: 0px 1px 3px 1px rgba(0, 0, 0, 0.15);\n",
              "      filter: drop-shadow(0px 1px 2px rgba(0, 0, 0, 0.3));\n",
              "      fill: #FFFFFF;\n",
              "    }\n",
              "  </style>\n",
              "\n",
              "    <script>\n",
              "      const buttonEl =\n",
              "        document.querySelector('#df-2316397e-ccad-499f-8189-236f7acba838 button.colab-df-convert');\n",
              "      buttonEl.style.display =\n",
              "        google.colab.kernel.accessAllowed ? 'block' : 'none';\n",
              "\n",
              "      async function convertToInteractive(key) {\n",
              "        const element = document.querySelector('#df-2316397e-ccad-499f-8189-236f7acba838');\n",
              "        const dataTable =\n",
              "          await google.colab.kernel.invokeFunction('convertToInteractive',\n",
              "                                                    [key], {});\n",
              "        if (!dataTable) return;\n",
              "\n",
              "        const docLinkHtml = 'Like what you see? Visit the ' +\n",
              "          '<a target=\"_blank\" href=https://colab.research.google.com/notebooks/data_table.ipynb>data table notebook</a>'\n",
              "          + ' to learn more about interactive tables.';\n",
              "        element.innerHTML = '';\n",
              "        dataTable['output_type'] = 'display_data';\n",
              "        await google.colab.output.renderOutput(dataTable, element);\n",
              "        const docLink = document.createElement('div');\n",
              "        docLink.innerHTML = docLinkHtml;\n",
              "        element.appendChild(docLink);\n",
              "      }\n",
              "    </script>\n",
              "  </div>\n",
              "\n",
              "\n",
              "<div id=\"df-bb5ae3c1-e7f3-46b5-923f-4099e0523ed5\">\n",
              "  <button class=\"colab-df-quickchart\" onclick=\"quickchart('df-bb5ae3c1-e7f3-46b5-923f-4099e0523ed5')\"\n",
              "            title=\"Suggest charts\"\n",
              "            style=\"display:none;\">\n",
              "\n",
              "<svg xmlns=\"http://www.w3.org/2000/svg\" height=\"24px\"viewBox=\"0 0 24 24\"\n",
              "     width=\"24px\">\n",
              "    <g>\n",
              "        <path d=\"M19 3H5c-1.1 0-2 .9-2 2v14c0 1.1.9 2 2 2h14c1.1 0 2-.9 2-2V5c0-1.1-.9-2-2-2zM9 17H7v-7h2v7zm4 0h-2V7h2v10zm4 0h-2v-4h2v4z\"/>\n",
              "    </g>\n",
              "</svg>\n",
              "  </button>\n",
              "\n",
              "<style>\n",
              "  .colab-df-quickchart {\n",
              "      --bg-color: #E8F0FE;\n",
              "      --fill-color: #1967D2;\n",
              "      --hover-bg-color: #E2EBFA;\n",
              "      --hover-fill-color: #174EA6;\n",
              "      --disabled-fill-color: #AAA;\n",
              "      --disabled-bg-color: #DDD;\n",
              "  }\n",
              "\n",
              "  [theme=dark] .colab-df-quickchart {\n",
              "      --bg-color: #3B4455;\n",
              "      --fill-color: #D2E3FC;\n",
              "      --hover-bg-color: #434B5C;\n",
              "      --hover-fill-color: #FFFFFF;\n",
              "      --disabled-bg-color: #3B4455;\n",
              "      --disabled-fill-color: #666;\n",
              "  }\n",
              "\n",
              "  .colab-df-quickchart {\n",
              "    background-color: var(--bg-color);\n",
              "    border: none;\n",
              "    border-radius: 50%;\n",
              "    cursor: pointer;\n",
              "    display: none;\n",
              "    fill: var(--fill-color);\n",
              "    height: 32px;\n",
              "    padding: 0;\n",
              "    width: 32px;\n",
              "  }\n",
              "\n",
              "  .colab-df-quickchart:hover {\n",
              "    background-color: var(--hover-bg-color);\n",
              "    box-shadow: 0 1px 2px rgba(60, 64, 67, 0.3), 0 1px 3px 1px rgba(60, 64, 67, 0.15);\n",
              "    fill: var(--button-hover-fill-color);\n",
              "  }\n",
              "\n",
              "  .colab-df-quickchart-complete:disabled,\n",
              "  .colab-df-quickchart-complete:disabled:hover {\n",
              "    background-color: var(--disabled-bg-color);\n",
              "    fill: var(--disabled-fill-color);\n",
              "    box-shadow: none;\n",
              "  }\n",
              "\n",
              "  .colab-df-spinner {\n",
              "    border: 2px solid var(--fill-color);\n",
              "    border-color: transparent;\n",
              "    border-bottom-color: var(--fill-color);\n",
              "    animation:\n",
              "      spin 1s steps(1) infinite;\n",
              "  }\n",
              "\n",
              "  @keyframes spin {\n",
              "    0% {\n",
              "      border-color: transparent;\n",
              "      border-bottom-color: var(--fill-color);\n",
              "      border-left-color: var(--fill-color);\n",
              "    }\n",
              "    20% {\n",
              "      border-color: transparent;\n",
              "      border-left-color: var(--fill-color);\n",
              "      border-top-color: var(--fill-color);\n",
              "    }\n",
              "    30% {\n",
              "      border-color: transparent;\n",
              "      border-left-color: var(--fill-color);\n",
              "      border-top-color: var(--fill-color);\n",
              "      border-right-color: var(--fill-color);\n",
              "    }\n",
              "    40% {\n",
              "      border-color: transparent;\n",
              "      border-right-color: var(--fill-color);\n",
              "      border-top-color: var(--fill-color);\n",
              "    }\n",
              "    60% {\n",
              "      border-color: transparent;\n",
              "      border-right-color: var(--fill-color);\n",
              "    }\n",
              "    80% {\n",
              "      border-color: transparent;\n",
              "      border-right-color: var(--fill-color);\n",
              "      border-bottom-color: var(--fill-color);\n",
              "    }\n",
              "    90% {\n",
              "      border-color: transparent;\n",
              "      border-bottom-color: var(--fill-color);\n",
              "    }\n",
              "  }\n",
              "</style>\n",
              "\n",
              "  <script>\n",
              "    async function quickchart(key) {\n",
              "      const quickchartButtonEl =\n",
              "        document.querySelector('#' + key + ' button');\n",
              "      quickchartButtonEl.disabled = true;  // To prevent multiple clicks.\n",
              "      quickchartButtonEl.classList.add('colab-df-spinner');\n",
              "      try {\n",
              "        const charts = await google.colab.kernel.invokeFunction(\n",
              "            'suggestCharts', [key], {});\n",
              "      } catch (error) {\n",
              "        console.error('Error during call to suggestCharts:', error);\n",
              "      }\n",
              "      quickchartButtonEl.classList.remove('colab-df-spinner');\n",
              "      quickchartButtonEl.classList.add('colab-df-quickchart-complete');\n",
              "    }\n",
              "    (() => {\n",
              "      let quickchartButtonEl =\n",
              "        document.querySelector('#df-bb5ae3c1-e7f3-46b5-923f-4099e0523ed5 button');\n",
              "      quickchartButtonEl.style.display =\n",
              "        google.colab.kernel.accessAllowed ? 'block' : 'none';\n",
              "    })();\n",
              "  </script>\n",
              "</div>\n",
              "    </div>\n",
              "  </div>\n"
            ],
            "application/vnd.google.colaboratory.intrinsic+json": {
              "type": "dataframe",
              "summary": "{\n  \"name\": \"user_toxic_activity[user_toxic_activity['is_toxic']>10]\",\n  \"rows\": 343,\n  \"fields\": [\n    {\n      \"column\": \"root_submission\",\n      \"properties\": {\n        \"dtype\": \"string\",\n        \"num_unique_values\": 302,\n        \"samples\": [\n          \"3625100\",\n          \"3931918\",\n          \"2953558\"\n        ],\n        \"semantic_type\": \"\",\n        \"description\": \"\"\n      }\n    },\n    {\n      \"column\": \"user\",\n      \"properties\": {\n        \"dtype\": \"category\",\n        \"num_unique_values\": 163,\n        \"samples\": [\n          \"heretolearn\",\n          \"Fuckle_Chucks\",\n          \"thislionsheart\"\n        ],\n        \"semantic_type\": \"\",\n        \"description\": \"\"\n      }\n    },\n    {\n      \"column\": \"is_toxic\",\n      \"properties\": {\n        \"dtype\": \"number\",\n        \"std\": 5,\n        \"min\": 11,\n        \"max\": 69,\n        \"num_unique_values\": 23,\n        \"samples\": [\n          20,\n          21,\n          11\n        ],\n        \"semantic_type\": \"\",\n        \"description\": \"\"\n      }\n    }\n  ]\n}"
            }
          },
          "metadata": {},
          "execution_count": 23
        }
      ],
      "source": [
        "dataset['is_toxic']=dataset['toxicity_score']>0.6\n",
        "user_toxic_activity=dataset.groupby(['root_submission','user'])['is_toxic'].sum().reset_index()\n",
        "user_toxic_activity[user_toxic_activity['is_toxic']>10]"
      ]
    },
    {
      "cell_type": "code",
      "execution_count": 24,
      "metadata": {
        "id": "Lm3aUPGGtpJ0"
      },
      "outputs": [],
      "source": [
        "dataset_user=dataset[dataset.user=='Mumbleberry'].copy()\n",
        "dataset_user.sort_values(by='created_at', inplace=True)\n",
        "dataset_user.root_submission.value_counts()\n",
        "dataset_user=dataset_user[dataset_user.root_submission=='3348062'].copy()"
      ]
    },
    {
      "cell_type": "markdown",
      "metadata": {
        "id": "H_zIVEDqtpJ0"
      },
      "source": [
        "Q1: Could we use a hawkes process to model the inter arrival time of comments?"
      ]
    },
    {
      "cell_type": "markdown",
      "metadata": {
        "id": "UeuY0eYxtpJ1"
      },
      "source": [
        "Preparo i dati e fitto il modello"
      ]
    },
    {
      "cell_type": "code",
      "execution_count": 25,
      "metadata": {
        "id": "emM8qXQdtpJ1"
      },
      "outputs": [],
      "source": [
        "observed_data = np.array([np.datetime64(x.replace(tzinfo=None)).astype(np.int64) for x in dataset_user['created_at']])\n",
        "mean_lag=np.mean(np.diff(observed_data))\n",
        "ℋ_t=observed_data-min(observed_data)+mean_lag\n",
        "𝛉_exp=𝛉_exp_simple=exp_mle(ℋ_t,max(ℋ_t)+mean_lag)"
      ]
    },
    {
      "cell_type": "markdown",
      "metadata": {
        "id": "4rN13aKytpJ2"
      },
      "source": [
        "Faccio il QQplot del modello"
      ]
    },
    {
      "cell_type": "code",
      "execution_count": 26,
      "metadata": {
        "id": "OyIm16WltpJ2",
        "outputId": "0c5b0ff5-5727-4eea-961e-ea1b1be32fb7",
        "colab": {
          "base_uri": "https://localhost:8080/",
          "height": 449
        }
      },
      "outputs": [
        {
          "output_type": "display_data",
          "data": {
            "text/plain": [
              "<Figure size 640x480 with 1 Axes>"
            ],
            "image/png": "[encoded data removed]"
          },
          "metadata": {}
        }
      ],
      "source": [
        "tsShifted = exp_hawkes_compensators(ℋ_t, 𝛉_exp)\n",
        "iat = np.diff(np.insert(tsShifted, 0, 0))\n",
        "qqplot(iat, dist=stats.expon, fit=True, line=\"45\")\n",
        "plt.show()"
      ]
    },
    {
      "cell_type": "markdown",
      "metadata": {
        "id": "HD8gBSn3tpJ3"
      },
      "source": [
        "Estraggo una metric per valutare il modello"
      ]
    },
    {
      "cell_type": "code",
      "execution_count": 27,
      "metadata": {
        "id": "5hD85EsltpJ3",
        "outputId": "ff474667-0016-412d-ef74-b82884772edd",
        "colab": {
          "base_uri": "https://localhost:8080/"
        }
      },
      "outputs": [
        {
          "output_type": "stream",
          "name": "stdout",
          "text": [
            "Pendenza della linea di riferimento adattata: 1.2506055664892735\n"
          ]
        }
      ],
      "source": [
        "slope, intercept = sm.OLS(iat, sm.add_constant(stats.expon.ppf((np.arange(1, len(iat) + 1) - 0.5) / len(iat)))).fit().params\n",
        "print(\"Pendenza della linea di riferimento adattata:\", slope)\n",
        "slope, intercept = 1, 0\n",
        "predicted_values = slope * np.arange(1, len(iat) + 1) + intercept"
      ]
    },
    {
      "cell_type": "markdown",
      "metadata": {
        "id": "lugMb6fKtpJ4"
      },
      "source": [
        "Calcolo delle distanze"
      ]
    },
    {
      "cell_type": "code",
      "execution_count": 28,
      "metadata": {
        "id": "tvPDWthctpJ4"
      },
      "outputs": [],
      "source": [
        "distances = np.abs(iat - predicted_values)"
      ]
    },
    {
      "cell_type": "code",
      "execution_count": 29,
      "metadata": {
        "id": "awXMORthtpJ4",
        "outputId": "faa260c8-6215-4148-da34-7602b8bb9f3c",
        "colab": {
          "base_uri": "https://localhost:8080/"
        }
      },
      "outputs": [
        {
          "output_type": "stream",
          "name": "stdout",
          "text": [
            "errore modello semplice 5.103887079873856\n"
          ]
        }
      ],
      "source": [
        "print('errore modello semplice',distances.mean())"
      ]
    },
    {
      "cell_type": "markdown",
      "metadata": {
        "id": "uR71yzwxtpJ5"
      },
      "source": [
        "Q2: Is the fitting of the model improving using a flexibility of alpha (infetivity rate) sensible to comment's toxicity?"
      ]
    },
    {
      "cell_type": "code",
      "execution_count": 30,
      "metadata": {
        "id": "6g6voxmPtpJ5"
      },
      "outputs": [],
      "source": [
        "\n",
        "# Preparo i dati e fitto il modello\n",
        "observed_data = np.array([np.datetime64(x.replace(tzinfo=None)).astype(np.int64) for x in dataset_user['created_at']])\n",
        "mean_lag=np.mean(np.diff(observed_data))\n",
        "ℋ_t=observed_data-min(observed_data)+mean_lag\n",
        "𝒯_T=list(dataset_user.toxicity_score)\n",
        "𝛉_exp=𝛉_exp_toxicity=exp_mle_toxicity(ℋ_t,𝒯_T,max(ℋ_t))"
      ]
    },
    {
      "cell_type": "markdown",
      "metadata": {
        "id": "e3pnKKWqtpJ6"
      },
      "source": [
        "Faccio il QQplot del modello"
      ]
    },
    {
      "cell_type": "code",
      "execution_count": 31,
      "metadata": {
        "id": "UqX0pMVxtpJ6",
        "outputId": "b760c51e-5551-498a-8a57-1c2f38a9d8fb",
        "colab": {
          "base_uri": "https://localhost:8080/",
          "height": 449
        }
      },
      "outputs": [
        {
          "output_type": "display_data",
          "data": {
            "text/plain": [
              "<Figure size 640x480 with 1 Axes>"
            ],
            "image/png": "[encoded data removed]"
          },
          "metadata": {}
        }
      ],
      "source": [
        "tsShifted = exp_hawkes_compensators_toxicity(ℋ_t,𝒯_T, 𝛉_exp)\n",
        "iat = np.diff(np.insert(tsShifted, 0, 0))\n",
        "qqplot(iat, dist=stats.expon, fit=True, line=\"45\")\n",
        "plt.show()"
      ]
    },
    {
      "cell_type": "markdown",
      "metadata": {
        "id": "yHr9KWBNtpJ6"
      },
      "source": [
        "Estraggo una metric per valutare il modello"
      ]
    },
    {
      "cell_type": "code",
      "execution_count": 32,
      "metadata": {
        "id": "6L_MPmFytpJ7",
        "outputId": "c920cdec-5ca1-412f-bcfa-878bc161d8a3",
        "colab": {
          "base_uri": "https://localhost:8080/"
        }
      },
      "outputs": [
        {
          "output_type": "stream",
          "name": "stdout",
          "text": [
            "Pendenza della linea di riferimento adattata: 1.384439183937668\n"
          ]
        }
      ],
      "source": [
        "slope, intercept = sm.OLS(iat, sm.add_constant(stats.expon.ppf((np.arange(1, len(iat) + 1) - 0.5) / len(iat)))).fit().params\n",
        "print(\"Pendenza della linea di riferimento adattata:\", slope)"
      ]
    },
    {
      "cell_type": "code",
      "execution_count": 33,
      "metadata": {
        "id": "9CmXlswbtpJ7"
      },
      "outputs": [],
      "source": [
        "slope, intercept = 1, 0\n",
        "predicted_values = slope * np.arange(1, len(iat) + 1) + intercept"
      ]
    },
    {
      "cell_type": "markdown",
      "metadata": {
        "id": "UKsnlwertpJ7"
      },
      "source": [
        "Calcolo delle distanze"
      ]
    },
    {
      "cell_type": "code",
      "execution_count": 34,
      "metadata": {
        "id": "xMUHqVpCtpJ8"
      },
      "outputs": [],
      "source": [
        "distances = np.abs(iat - predicted_values)"
      ]
    },
    {
      "cell_type": "code",
      "execution_count": 35,
      "metadata": {
        "id": "Uzoca4OTtpJ8",
        "outputId": "06e70d52-8b60-4723-efd9-8687b6ff6308",
        "colab": {
          "base_uri": "https://localhost:8080/"
        }
      },
      "outputs": [
        {
          "output_type": "stream",
          "name": "stdout",
          "text": [
            "errore modello tossicità 4.9998597136193155\n"
          ]
        }
      ],
      "source": [
        "print('errore modello tossicità',distances.mean())"
      ]
    },
    {
      "cell_type": "markdown",
      "metadata": {
        "id": "L9yVJ2I7tpJ9"
      },
      "source": [
        "Q3 Posso stimare i parametri di ciascun utente studiandone la verosimiglianza congiunta su tutti i threads?<br>\n",
        "--------------------------- Using α ---------------------------------------------------"
      ]
    },
    {
      "cell_type": "code",
      "execution_count": 36,
      "metadata": {
        "id": "KoH3z41ktpJ9",
        "outputId": "c3dd4df6-a4ab-42c9-afe5-482f23ac2b2a",
        "colab": {
          "base_uri": "https://localhost:8080/"
        }
      },
      "outputs": [
        {
          "output_type": "stream",
          "name": "stderr",
          "text": [
            "/content/thesis/src/HWK/HWK_package/functions.py:175: SettingWithCopyWarning: \n",
            "A value is trying to be set on a copy of a slice from a DataFrame\n",
            "\n",
            "See the caveats in the documentation: https://pandas.pydata.org/pandas-docs/stable/user_guide/indexing.html#returning-a-view-versus-a-copy\n",
            "  df.sort_values(by='created_at', inplace=True)\n"
          ]
        }
      ],
      "source": [
        "data_user = filter_dataset(dataset, 'Mumbleberry', min_comments=3, sample=False)\n",
        "ℋ_T_list, magnitude_list,time_list = prepare_data(data_user, dataset)\n",
        "θ_exp_mle_T = exponential_mle(ℋ_T_list, time_list)"
      ]
    },
    {
      "cell_type": "code",
      "execution_count": 37,
      "metadata": {
        "id": "aRhv6IcntpJ-",
        "outputId": "0aa9e5c7-fe7b-4125-9856-557c79cf57e3",
        "colab": {
          "base_uri": "https://localhost:8080/",
          "height": 449
        }
      },
      "outputs": [
        {
          "output_type": "display_data",
          "data": {
            "text/plain": [
              "<Figure size 640x480 with 1 Axes>"
            ],
            "image/png": "[encoded data removed]"
          },
          "metadata": {}
        }
      ],
      "source": [
        "tsShifted = exp_hawkes_compensators(ℋ_t, θ_exp_mle_T)\n",
        "iat = np.diff(np.insert(tsShifted, 0, 0))\n",
        "qqplot(iat, dist=stats.expon, fit=True, line=\"45\")\n",
        "plt.show()"
      ]
    },
    {
      "cell_type": "code",
      "execution_count": 38,
      "metadata": {
        "id": "MUatg_yvtpJ_",
        "outputId": "e0fa19fe-ce8c-41b1-e929-64b3a12d0499",
        "colab": {
          "base_uri": "https://localhost:8080/"
        }
      },
      "outputs": [
        {
          "output_type": "stream",
          "name": "stdout",
          "text": [
            "Pendenza della linea di riferimento adattata: 0.037238471722014464\n"
          ]
        }
      ],
      "source": [
        "slope, intercept = sm.OLS(iat, sm.add_constant(stats.expon.ppf((np.arange(1, len(iat) + 1) - 0.5) / len(iat)))).fit().params\n",
        "print(\"Pendenza della linea di riferimento adattata:\", slope)"
      ]
    },
    {
      "cell_type": "code",
      "execution_count": 39,
      "metadata": {
        "id": "Ne7ZK-m5tpKB"
      },
      "outputs": [],
      "source": [
        "slope, intercept = 1, 0\n",
        "predicted_values = slope * np.arange(1, len(iat) + 1) + intercept"
      ]
    },
    {
      "cell_type": "code",
      "execution_count": 40,
      "metadata": {
        "id": "gEWqvdHEtpKC",
        "outputId": "2b6d236a-5c6a-4806-e54b-2c1d06a9cf70",
        "colab": {
          "base_uri": "https://localhost:8080/"
        }
      },
      "outputs": [
        {
          "output_type": "stream",
          "name": "stdout",
          "text": [
            "errore modello tossicità 5.973319434241515\n"
          ]
        }
      ],
      "source": [
        "distances = np.abs(iat - predicted_values)\n",
        "print('errore modello tossicità',distances.mean())"
      ]
    },
    {
      "cell_type": "markdown",
      "metadata": {
        "id": "oMKFMtPKtpKD"
      },
      "source": [
        "--------------------------- Using 2α ---------------------------------------------------"
      ]
    },
    {
      "cell_type": "code",
      "execution_count": 41,
      "metadata": {
        "id": "AgcJxPudtpKE"
      },
      "outputs": [],
      "source": [
        "data_user = filter_dataset(dataset, 'Mumbleberry', min_comments=3, sample=False)\n",
        "ℋ_T_list, magnitude_list,time_list = prepare_data(data_user, dataset)\n",
        "θ_exp_mle_T = exponential_mle_toxicity(ℋ_T_list, magnitude_list, time_list)"
      ]
    },
    {
      "cell_type": "code",
      "execution_count": 42,
      "metadata": {
        "id": "qTzJKv7XtpKE",
        "outputId": "2451b5fa-6af2-481e-a0fb-2d7839e15e8f",
        "colab": {
          "base_uri": "https://localhost:8080/",
          "height": 449
        }
      },
      "outputs": [
        {
          "output_type": "display_data",
          "data": {
            "text/plain": [
              "<Figure size 640x480 with 1 Axes>"
            ],
            "image/png": "[encoded data removed]"
          },
          "metadata": {}
        }
      ],
      "source": [
        "tsShifted = exp_hawkes_compensators_toxicity(ℋ_t,𝒯_T, θ_exp_mle_T)\n",
        "iat = np.diff(np.insert(tsShifted, 0, 0))\n",
        "qqplot(iat, dist=stats.expon, fit=True, line=\"45\")\n",
        "plt.show()"
      ]
    },
    {
      "cell_type": "code",
      "execution_count": 43,
      "metadata": {
        "id": "sXudFeEatpKF",
        "outputId": "44e7ab89-f44c-4fc4-baae-5f3a94fb2898",
        "colab": {
          "base_uri": "https://localhost:8080/"
        }
      },
      "outputs": [
        {
          "output_type": "stream",
          "name": "stdout",
          "text": [
            "Pendenza della linea di riferimento adattata: 0.037238471722014464\n"
          ]
        }
      ],
      "source": [
        "slope, intercept = sm.OLS(iat, sm.add_constant(stats.expon.ppf((np.arange(1, len(iat) + 1) - 0.5) / len(iat)))).fit().params\n",
        "print(\"Pendenza della linea di riferimento adattata:\", slope)"
      ]
    },
    {
      "cell_type": "code",
      "execution_count": 44,
      "metadata": {
        "id": "Z0P7nZbutpKH"
      },
      "outputs": [],
      "source": [
        "slope, intercept = 1, 0\n",
        "predicted_values = slope * np.arange(1, len(iat) + 1) + intercept"
      ]
    },
    {
      "cell_type": "code",
      "execution_count": 45,
      "metadata": {
        "id": "brxHjva1tpKH",
        "outputId": "142182f4-dc3f-406c-a900-f9d1f45cbd9e",
        "colab": {
          "base_uri": "https://localhost:8080/"
        }
      },
      "outputs": [
        {
          "output_type": "stream",
          "name": "stdout",
          "text": [
            "errore modello tossicità 5.973319434241515\n"
          ]
        }
      ],
      "source": [
        "distances = np.abs(iat - predicted_values)\n",
        "print('errore modello tossicità',distances.mean())"
      ]
    }
  ],
  "metadata": {
    "kernelspec": {
      "display_name": "Python 3",
      "language": "python",
      "name": "python3"
    },
    "language_info": {
      "codemirror_mode": {
        "name": "ipython",
        "version": 3
      },
      "file_extension": ".py",
      "mimetype": "text/x-python",
      "name": "python",
      "nbconvert_exporter": "python",
      "pygments_lexer": "ipython3",
      "version": "3.6.4"
    },
    "colab": {
      "provenance": [],
      "include_colab_link": true
    }
  },
  "nbformat": 4,
  "nbformat_minor": 0
}