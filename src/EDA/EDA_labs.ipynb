#!/usr/bin/env python3
# -*- coding: utf-8 -*-
"""
Created on Mon May 20 11:12:59 2024

@author: jacoponudo
"""

 