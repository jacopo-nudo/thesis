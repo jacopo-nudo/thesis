{
  "cells": [
    {
      "cell_type": "markdown",
      "metadata": {
        "id": "It9f84RJRnMR"
      },
      "source": [
        "Notes for Jacopo:"
      ]
    },
    {
      "cell_type": "code",
      "source": [
        "kernel='j'\n",
        "social='youtube'\n",
        "\n",
        "if kernel!='Y':\n",
        "  !git clone https://github.com/nudojacopo/thesis.git\n",
        "  from google.colab import drive\n",
        "  drive.mount('/content/drive')\n",
        "import sys\n",
        "module_path ='/content/thesis/src/PRO'\n",
        "sys.path.append(module_path)\n",
        "import os\n",
        "import numpy as np\n",
        "import pandas as pd\n",
        "from tqdm import tqdm\n",
        "from PRO_package import *\n",
        "from scipy import stats\n",
        "import random\n",
        "from scipy.stats import chi2\n",
        "import statsmodels.api as sm\n",
        "import matplotlib.pyplot as plt\n",
        "from statsmodels.graphics.gofplots import qqplot"
      ],
      "metadata": {
        "id": "gwHP1s9TRzEH"
      },
      "execution_count": 21,
      "outputs": []
    },
    {
      "cell_type": "code",
      "execution_count": 25,
      "metadata": {
        "id": "loiUyTJjRnMd"
      },
      "outputs": [],
      "source": [
        "dataset='facebook_snews'\n",
        "social_media_name = \"facebook\"\n",
        "post_id = \"post_id\"\n",
        "toxicity_score='toxicity_score'\n",
        "comment_id='comment_id'\n",
        "user='user_id'\n",
        "created_at='created_at'\n",
        "topic='topic'\n",
        "social='social'"
      ]
    },
    {
      "cell_type": "code",
      "execution_count": 26,
      "metadata": {
        "id": "IzBiS8umRnMe"
      },
      "outputs": [],
      "source": [
        "data = pd.read_csv('/content/drive/MyDrive/thesis/data/'+social_media_name+'/'+dataset+'.csv')"
      ]
    },
    {
      "cell_type": "markdown",
      "metadata": {
        "id": "iMMY4yZVRnMg"
      },
      "source": [
        "Filter mantaining just threads with more than 50 comments"
      ]
    },
    {
      "cell_type": "code",
      "execution_count": 23,
      "metadata": {
        "id": "HdzEZZRmRnMg"
      },
      "outputs": [],
      "source": [
        "comment_counts = data[post_id].value_counts()\n",
        "threads_with_more_than_50_comments = comment_counts[comment_counts > 50].index\n",
        "data = data[data[post_id].isin(threads_with_more_than_50_comments)]\n"
      ]
    },
    {
      "cell_type": "markdown",
      "metadata": {
        "id": "3DXisODmRnMf"
      },
      "source": [
        "## Stage 1 - Add variables ####"
      ]
    },
    {
      "cell_type": "markdown",
      "metadata": {
        "id": "pcFkbqzERnMf"
      },
      "source": [
        "\n",
        "<br>\n",
        "Essential to add some useful variables before to start working. This is the variables list:<br>\n",
        "    <br>\n",
        "* thread_lifetime <br>\n",
        "* thread_birth<br>\n",
        "* temporal_distance_birth<br>\n",
        "* number_of_comments<br>\n",
        "* number_of_users<br>\n",
        "* number_of_comments_user_in_thread<br>\n",
        "* sequence_number_comment_user_thread<br>\n",
        "* inter arrival time user<br>\n",
        "* inter arrival time user-thread<br>\n",
        "* inter arrival time user-thread<br>\n"
      ]
    },
    {
      "cell_type": "code",
      "execution_count": 16,
      "metadata": {
        "id": "ZDMdLXBqRnMh"
      },
      "outputs": [],
      "source": [
        "threads = data.groupby(post_id)  # Divide in threads"
      ]
    },
    {
      "cell_type": "code",
      "source": [
        "import pandas as pd\n",
        "\n",
        "def add_percentile_column(group):\n",
        "    group['percentile'] = (group['created_at'].rank(pct=True) * 100).round(2)\n",
        "    return group"
      ],
      "metadata": {
        "id": "F5DWVGdjTzZm"
      },
      "execution_count": 27,
      "outputs": []
    },
    {
      "cell_type": "code",
      "execution_count": null,
      "metadata": {
        "id": "LvnfXty9RnMi",
        "outputId": "98606f5c-9211-4d6e-96ea-33f67fcf6300",
        "colab": {
          "base_uri": "https://localhost:8080/"
        }
      },
      "outputs": [
        {
          "output_type": "stream",
          "name": "stderr",
          "text": [
            "Add variables...:   3%|▎         | 588/21401 [00:52<31:13, 11.11it/s]\n",
            "Add variables...:  66%|██████▌   | 14056/21401 [04:23<01:57, 62.56it/s]"
          ]
        }
      ],
      "source": [
        "progress_bar = tqdm(total=len(threads), desc=\"Add variables...\")\n",
        "for name, group in threads:\n",
        "    group['time'] = pd.to_datetime(group['created_at'],format='ISO8601')\n",
        "    group.sort_values(by='created_at', inplace=True)\n",
        "    group['thread_birth'] = group['time'].min()\n",
        "    group['temporal_distance_birth_h'] = round(pd.to_timedelta(group['time']-group['thread_birth']).dt.total_seconds() / 3600, 1)\n",
        "    group['thread_lifetime_h'] = round((group['time'].max()-group['time'].min()).total_seconds() / 3600, 1)\n",
        "    group['number_of_comments'] = len(group)\n",
        "    group['number_of_users'] = len(group.user_id.unique())\n",
        "\n",
        "    percentiles = add_percentile_column(group)['percentile']\n",
        "\n",
        "    user_counts = group.groupby('user_id')['user_id'].count()\n",
        "    group['number_of_comments_by_user_in_thread'] = group['user_id'].map(user_counts)\n",
        "    group['user_appearances'] = group.groupby('user_id').cumcount() + 1\n",
        "\n",
        "    data.loc[group.index, 'percentile'] = percentiles\n",
        "    data.loc[group.index,'sequential_number_of_comment_by_user_in_thread'] = group['user_appearances']\n",
        "    data.loc[group.index, 'number_of_comments_by_user_in_thread'] = group['number_of_comments_by_user_in_thread']\n",
        "    data.loc[group.index, 'thread_birth'] = group['thread_birth']\n",
        "    data.loc[group.index,'temporal_distance_birth_h'] = group['temporal_distance_birth_h']\n",
        "    data.loc[group.index, 'thread_lifetime_h'] = group['thread_lifetime_h']\n",
        "    data.loc[group.index, 'number_of_users'] = group['number_of_users']\n",
        "    data.loc[group.index, 'number_of_comments'] = group['number_of_comments']\n",
        "    progress_bar.update(1)\n",
        "\n",
        "progress_bar.close()"
      ]
    },
    {
      "cell_type": "code",
      "execution_count": null,
      "metadata": {
        "id": "BTPuQsl_RnMk"
      },
      "outputs": [],
      "source": [
        "data = data.sort_values(by=['user', 'created_at'])\n",
        "data['created_at'] = pd.to_datetime(data['created_at'])\n",
        "data['temporal_distance_from_previous_comment_h'] = data.groupby('user')['created_at'].diff().dt.total_seconds() / 3600"
      ]
    },
    {
      "cell_type": "code",
      "execution_count": null,
      "metadata": {
        "id": "s2fLZXrPRnMl"
      },
      "outputs": [],
      "source": [
        "data['root_submission']=data['root_submission'].astype('int')"
      ]
    },
    {
      "cell_type": "code",
      "execution_count": null,
      "metadata": {
        "id": "bH-DJkR4RnMm"
      },
      "outputs": [],
      "source": [
        "data['created_at'] = pd.to_datetime(data['created_at'])"
      ]
    },
    {
      "cell_type": "code",
      "execution_count": null,
      "metadata": {
        "id": "3-6roec-RnMm"
      },
      "outputs": [],
      "source": [
        "data = data.sort_values(by=['user', 'created_at'])\n",
        "data['IAT_user'] = data.groupby('user')['created_at'].diff().dt.total_seconds()\n",
        "data = data.sort_values(by=['user','root_submission', 'created_at'])\n",
        "data['IAT_user_thread'] = data.groupby(['user','root_submission'])['created_at'].diff().dt.total_seconds()\n",
        "data = data.sort_values(by=['root_submission', 'created_at'])\n",
        "data['IAT_thread'] = data.groupby('root_submission')['created_at'].diff().dt.total_seconds()"
      ]
    },
    {
      "cell_type": "code",
      "execution_count": null,
      "metadata": {
        "id": "eR8pkav0RnMn"
      },
      "outputs": [],
      "source": [
        "data = data.sort_values(by=['user','root_submission', 'created_at'])\n",
        "data['IAT_user_thread'] = data.groupby(['user','root_submission'])['created_at'].diff().dt.total_seconds()"
      ]
    },
    {
      "cell_type": "code",
      "execution_count": null,
      "metadata": {
        "id": "5VVEcWyuRnMo"
      },
      "outputs": [],
      "source": [
        "data=data[[comment_id,user,post_id,  toxicity_score,\n",
        "       created_at, 'percentile',\n",
        "       'sequential_number_of_comment_by_user_in_thread',\n",
        "       'number_of_comments_by_user_in_thread', 'thread_birth',\n",
        "       'temporal_distance_birth_h', 'thread_lifetime_h', 'number_of_users',\n",
        "       'unique_words_count', 'number_of_comments', 'language',\n",
        "       'unique_word_user', 'temporal_distance_from_previous_comment_h',\n",
        "       'IAT_user', 'IAT_user_thread', 'IAT_thread',topic,social]]"
      ]
    },
    {
      "cell_type": "code",
      "execution_count": null,
      "metadata": {
        "id": "E7rjyZiPRnMo"
      },
      "outputs": [],
      "source": [
        "data.to_csv(root+'src/PRO/output/'+social_media_name+'_processed.csv', index=False)"
      ]
    }
  ],
  "metadata": {
    "kernelspec": {
      "display_name": "Python 3",
      "language": "python",
      "name": "python3"
    },
    "language_info": {
      "codemirror_mode": {
        "name": "ipython",
        "version": 3
      },
      "file_extension": ".py",
      "mimetype": "text/x-python",
      "name": "python",
      "nbconvert_exporter": "python",
      "pygments_lexer": "ipython3",
      "version": "3.6.4"
    },
    "colab": {
      "provenance": []
    }
  },
  "nbformat": 4,
  "nbformat_minor": 0
}