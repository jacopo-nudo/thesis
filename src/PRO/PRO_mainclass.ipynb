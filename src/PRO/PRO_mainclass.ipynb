{
  "cells": [
    {
      "cell_type": "markdown",
      "metadata": {
        "id": "It9f84RJRnMR"
      },
      "source": [
        "Notes for Jacopo:"
      ]
    },
    {
      "cell_type": "code",
      "source": [
        "kernel='j'\n",
        "social='youtube'\n",
        "\n",
        "if kernel!='Y':\n",
        "  !git clone https://github.com/nudojacopo/thesis.git\n",
        "  from google.colab import drive\n",
        "  drive.mount('/content/drive')\n",
        "import sys\n",
        "module_path ='/content/thesis/src/PRO'\n",
        "sys.path.append(module_path)\n",
        "import os\n",
        "import numpy as np\n",
        "import pandas as pd\n",
        "from tqdm import tqdm\n",
        "from PRO_package.functions import *\n",
        "from scipy import stats\n",
        "import random\n",
        "from scipy.stats import chi2\n",
        "import statsmodels.api as sm\n",
        "import matplotlib.pyplot as plt\n",
        "from statsmodels.graphics.gofplots import qqplot"
      ],
      "metadata": {
        "id": "gwHP1s9TRzEH"
      },
      "execution_count": 14,
      "outputs": []
    },
    {
      "cell_type": "code",
      "execution_count": 20,
      "metadata": {
        "id": "loiUyTJjRnMd"
      },
      "outputs": [],
      "source": [
        "dataset='facebook_snews'\n",
        "social_media_name = \"facebook\"\n",
        "\n",
        "post_id = \"post_id\"\n",
        "toxicity_score='toxicity_score'\n",
        "comment_id='comment_id'\n",
        "user='user_id'\n",
        "created_at='created_at'\n",
        "topic='topic'\n",
        "social='social'"
      ]
    },
    {
      "cell_type": "code",
      "execution_count": 25,
      "metadata": {
        "id": "IzBiS8umRnMe"
      },
      "outputs": [],
      "source": [
        "data = pd.read_csv('/content/drive/MyDrive/thesis/data/'+social_media_name+'/'+dataset+'.csv', usecols=[user,comment_id,post_id,created_at,toxicity_score,topic,social],dtype={user: str,comment_id:str,toxicity_score:float,post_id:str,topic:str,social:str})"
      ]
    },
    {
      "cell_type": "markdown",
      "metadata": {
        "id": "iMMY4yZVRnMg"
      },
      "source": [
        "Filter mantaining just threads with more than 50 comments"
      ]
    },
    {
      "cell_type": "code",
      "execution_count": 4,
      "metadata": {
        "id": "HdzEZZRmRnMg"
      },
      "outputs": [],
      "source": [
        "comment_counts = data[post_id].value_counts()\n",
        "threads_with_more_than_50_comments = comment_counts[comment_counts > 50].index\n",
        "data = data[data[post_id].isin(threads_with_more_than_50_comments)]\n"
      ]
    },
    {
      "cell_type": "markdown",
      "metadata": {
        "id": "3DXisODmRnMf"
      },
      "source": [
        "## Stage 1 - Add variables ####"
      ]
    },
    {
      "cell_type": "markdown",
      "metadata": {
        "id": "pcFkbqzERnMf"
      },
      "source": [
        "\n",
        "<br>\n",
        "Essential to add some useful variables before to start working. This is the variables list:<br>\n",
        "    <br>\n",
        "* thread_lifetime <br>\n",
        "* thread_birth<br>\n",
        "* temporal_distance_birth<br>\n",
        "* number_of_comments<br>\n",
        "* number_of_users<br>\n",
        "* number_of_comments_user_in_thread<br>\n",
        "* sequence_number_comment_user_thread<br>\n",
        "* inter arrival time user<br>\n",
        "* inter arrival time user-thread<br>\n",
        "* inter arrival time user-thread<br>\n"
      ]
    },
    {
      "cell_type": "code",
      "execution_count": 5,
      "metadata": {
        "id": "ZDMdLXBqRnMh"
      },
      "outputs": [],
      "source": [
        "threads = data.groupby(post_id)  # Divide in threads"
      ]
    },
    {
      "cell_type": "code",
      "execution_count": 15,
      "metadata": {
        "id": "LvnfXty9RnMi",
        "colab": {
          "base_uri": "https://localhost:8080/"
        },
        "outputId": "74917486-7d8f-4c3d-f9c8-264a17e8f143"
      },
      "outputs": [
        {
          "output_type": "stream",
          "name": "stderr",
          "text": [
            "Add variables...:   0%|          | 0/21401 [02:09<?, ?it/s]\n",
            "Add variables...: 100%|██████████| 21401/21401 [06:08<00:00, 58.07it/s]\n"
          ]
        }
      ],
      "source": [
        "progress_bar = tqdm(total=len(threads), desc=\"Add variables...\")\n",
        "for name, group in threads:\n",
        "    group['time'] = pd.to_datetime(group[created_at],format='ISO8601')\n",
        "    group.sort_values(by=created_at, inplace=True)\n",
        "    group['thread_birth'] = group['time'].min()\n",
        "    group['temporal_distance_birth_h'] = round(pd.to_timedelta(group['time']-group['thread_birth']).dt.total_seconds() / 3600, 1)\n",
        "    group['thread_lifetime_h'] = round((group['time'].max()-group['time'].min()).total_seconds() / 3600, 1)\n",
        "    group['number_of_comments'] = len(group)\n",
        "    group['number_of_users'] = len(group.user_id.unique())\n",
        "\n",
        "    percentiles = add_percentile_column(group)['percentile']\n",
        "\n",
        "    user_counts = group.groupby(user)[user].count()\n",
        "    group['number_of_comments_by_user_in_thread'] = group[user].map(user_counts)\n",
        "    group['user_appearances'] = group.groupby(user).cumcount() + 1\n",
        "\n",
        "    data.loc[group.index, 'percentile'] = percentiles\n",
        "    data.loc[group.index,'sequential_number_of_comment_by_user_in_thread'] = group['user_appearances']\n",
        "    data.loc[group.index, 'number_of_comments_by_user_in_thread'] = group['number_of_comments_by_user_in_thread']\n",
        "    data.loc[group.index, 'thread_birth'] = group['thread_birth']\n",
        "    data.loc[group.index,'temporal_distance_birth_h'] = group['temporal_distance_birth_h']\n",
        "    data.loc[group.index, 'thread_lifetime_h'] = group['thread_lifetime_h']\n",
        "    data.loc[group.index, 'number_of_users'] = group['number_of_users']\n",
        "    data.loc[group.index, 'number_of_comments'] = group['number_of_comments']\n",
        "    progress_bar.update(1)\n",
        "\n",
        "progress_bar.close()"
      ]
    },
    {
      "cell_type": "code",
      "execution_count": 16,
      "metadata": {
        "id": "BTPuQsl_RnMk"
      },
      "outputs": [],
      "source": [
        "data = data.sort_values(by=[user, created_at])\n",
        "data[created_at] = pd.to_datetime(data[created_at],format='ISO8601')\n",
        "data['temporal_distance_from_previous_comment_h'] = data.groupby(user)[created_at].diff().dt.total_seconds() / 3600\n",
        "data = data.sort_values(by=[user, created_at])\n",
        "data['IAT_user'] = data.groupby(user)[created_at].diff().dt.total_seconds()\n",
        "data = data.sort_values(by=[user,post_id, created_at])\n",
        "data['IAT_user_thread'] = data.groupby([user,post_id])[created_at].diff().dt.total_seconds()\n",
        "data = data.sort_values(by=[post_id,created_at])\n",
        "data['IAT_thread'] = data.groupby(post_id)[created_at].diff().dt.total_seconds()"
      ]
    },
    {
      "cell_type": "code",
      "execution_count": 22,
      "metadata": {
        "id": "5VVEcWyuRnMo"
      },
      "outputs": [],
      "source": [
        "data=data[[comment_id,user,post_id,  toxicity_score,\n",
        "       created_at, 'percentile',\n",
        "       'sequential_number_of_comment_by_user_in_thread',\n",
        "       'number_of_comments_by_user_in_thread', 'thread_birth',\n",
        "       'temporal_distance_birth_h', 'thread_lifetime_h', 'number_of_users', 'number_of_comments', 'temporal_distance_from_previous_comment_h',\n",
        "       'IAT_user', 'IAT_user_thread', 'IAT_thread',topic,social]]"
      ]
    },
    {
      "cell_type": "code",
      "execution_count": 23,
      "metadata": {
        "id": "E7rjyZiPRnMo"
      },
      "outputs": [],
      "source": [
        "data.to_csv('/content/drive/MyDrive/thesis/data/'+social_media_name+'/'+dataset+'_processed.csv', index=False)"
      ]
    }
  ],
  "metadata": {
    "kernelspec": {
      "display_name": "Python 3",
      "language": "python",
      "name": "python3"
    },
    "language_info": {
      "codemirror_mode": {
        "name": "ipython",
        "version": 3
      },
      "file_extension": ".py",
      "mimetype": "text/x-python",
      "name": "python",
      "nbconvert_exporter": "python",
      "pygments_lexer": "ipython3",
      "version": "3.6.4"
    },
    "colab": {
      "provenance": []
    }
  },
  "nbformat": 4,
  "nbformat_minor": 0
}